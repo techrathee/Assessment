{
 "cells": [
  {
   "cell_type": "markdown",
   "id": "175f4dca-90e3-464e-9849-53f1f951070a",
   "metadata": {},
   "source": [
    "# OOPs assignment"
   ]
  },
  {
   "cell_type": "markdown",
   "id": "9dd85c2d-5192-4a66-ab30-35ab3814b902",
   "metadata": {},
   "source": [
    "### Q1. Which function is used to open a file? What are the different modes of opening a file? Explain each mode of file opening."
   ]
  },
  {
   "cell_type": "code",
   "execution_count": null,
   "id": "168bc321-fa3a-4d93-b6bf-864630076d95",
   "metadata": {},
   "outputs": [],
   "source": [
    "Answer.\n",
    "In Python, the `open()` function is used to open a file. It takes two arguments: the name of the file to be opened and the mode in which the file is to be opened.\n",
    "\n",
    "There are several modes in which a file can be opened. The following are the most commonly used modes:\n",
    "\n",
    "1. `\"r\"` (Read mode): This is the default mode. It is used to read a file. If the file does not exist, it raises a `FileNotFoundError` error.\n",
    "\n",
    "2. `\"w\"` (Write mode): This mode is used to write to a file. If the file does not exist, it creates a new file. If the file already exists, it overwrites the file with the new data.\n",
    "\n",
    "3. `\"a\"` (Append mode): This mode is used to append data to an existing file. If the file does not exist, it creates a new file.\n",
    "\n",
    "4. `\"x\"` (Exclusive creation mode): This mode is used to create a new file, but it raises a `FileExistsError` error if the file already exists.\n",
    "\n",
    "5. `\"b\"` (Binary mode): This mode is used when working with binary files like images or videos.\n",
    "\n",
    "6. `\"t\"` (Text mode): This is the default mode and is used when working with text files.\n",
    "\n",
    "7. `\"+\"` (Read and Write mode): This mode is used to open a file for both reading and writing.\n",
    "\n",
    "Examples:\n",
    "\n",
    "- To open a file named `example.txt` in read mode: `file = open(\"example.txt\", \"r\")`\n",
    "\n",
    "- To open a file named `example.txt` in write mode: `file = open(\"example.txt\", \"w\")`\n",
    "\n",
    "- To open a file named `example.txt` in append mode: `file = open(\"example.txt\", \"a\")`\n",
    "\n",
    "- To open a file named `example.txt` in exclusive creation mode: `file = open(\"example.txt\", \"x\")`\n",
    "\n",
    "- To open a file named `example.jpg` in binary mode: `file = open(\"example.jpg\", \"rb\")`\n",
    "\n",
    "- To open a file named `example.txt` in read and write mode: `file = open(\"example.txt\", \"r+\")`"
   ]
  },
  {
   "cell_type": "markdown",
   "id": "85ce19f1-24e5-48a8-8e99-67e9f05d78e3",
   "metadata": {},
   "source": [
    "### Q2. Why close() function is used? Why is it important to close a file?"
   ]
  },
  {
   "cell_type": "code",
   "execution_count": null,
   "id": "d916c5ba-b08f-449a-97ce-668172826b32",
   "metadata": {},
   "outputs": [],
   "source": [
    "Answer.\n",
    "In Python, the `close()` function is used to close a file after it has been opened and used. It is important to close a file because it frees up system resources that were being used by the file while it was open. \n",
    "\n",
    "When a file is opened, the operating system creates an entry in a table that holds information about all open files, including the file's name, location, access mode, and other details. If a large number of files are left open, it can consume a significant amount of system resources, which can slow down the system and even cause it to crash.\n",
    "\n",
    "Closing a file releases the system resources associated with it, including any buffers or caches used to improve I/O performance. It also ensures that any data that has been written to the file is flushed to disk so that it can be saved and accessed later. \n",
    "\n",
    "In addition, failing to close a file can cause data corruption or loss. For example, if a file is not closed properly, any data that has been written to it may not be saved, which can cause the data to be lost. In some cases, leaving a file open can also cause other processes to be unable to access the file, which can cause conflicts and errors.\n",
    "\n",
    "Therefore, it is important to always close files after they have been used to prevent any potential issues and to free up system resources. This can be done by calling the `close()` function on the file object, as shown in the following example:\n",
    "\n"
   ]
  },
  {
   "cell_type": "code",
   "execution_count": null,
   "id": "d6a7391a-3241-4001-bf20-52f4d276f2b7",
   "metadata": {},
   "outputs": [],
   "source": [
    "```\n",
    "file = open(\"example.txt\", \"r\")\n",
    "# Perform operations on the file\n",
    "file.close()\n",
    "```"
   ]
  },
  {
   "cell_type": "markdown",
   "id": "3af159b3-8265-4feb-9159-b94cc1742a51",
   "metadata": {},
   "source": [
    "### Q3. Write a python program to create a text file. Write ‘I want to become a Data Scientist’ in that file. Then close the file. Open this file and read the content of the file."
   ]
  },
  {
   "cell_type": "code",
   "execution_count": null,
   "id": "21c77822-26a6-40cf-8fcc-7e74cb7cc463",
   "metadata": {},
   "outputs": [],
   "source": [
    "Answer.\n",
    "Here is an example Python program that creates a text file, writes a string to it, closes the file, and then reads the content of the file:"
   ]
  },
  {
   "cell_type": "code",
   "execution_count": 2,
   "id": "e102d6ab-98d6-4fae-9189-f80ebc645297",
   "metadata": {},
   "outputs": [
    {
     "name": "stdout",
     "output_type": "stream",
     "text": [
      "I want to become a Data Scientist\n"
     ]
    }
   ],
   "source": [
    "# Open file in write mode\n",
    "file = open(\"example.txt\", \"w\")\n",
    "\n",
    "# Write to file\n",
    "file.write(\"I want to become a Data Scientist\")\n",
    "\n",
    "# Close file\n",
    "file.close()\n",
    "\n",
    "# Open file in read mode\n",
    "file = open(\"example.txt\", \"r\")\n",
    "\n",
    "# Read content of the file\n",
    "content = file.read()\n",
    "\n",
    "# Close file\n",
    "file.close()\n",
    "\n",
    "# Print the content of the file\n",
    "print(content)\n"
   ]
  },
  {
   "cell_type": "markdown",
   "id": "b3ca1a11-a093-45e6-9461-1b0f88415c35",
   "metadata": {},
   "source": [
    "### Q4. Explain the following with python code: read(), readline() and readlines()."
   ]
  },
  {
   "cell_type": "code",
   "execution_count": 3,
   "id": "18024d71-9c4c-42f1-bdf8-30a6b5719b06",
   "metadata": {},
   "outputs": [
    {
     "name": "stdout",
     "output_type": "stream",
     "text": [
      "I want to become a Data Scientist\n"
     ]
    }
   ],
   "source": [
    "#Answer.\n",
    "#Read\n",
    "# Open file in read mode\n",
    "file = open(\"example.txt\", \"r\")\n",
    "\n",
    "# Read the first line of the file\n",
    "line = file.readline()\n",
    "\n",
    "# Close file\n",
    "file.close()\n",
    "\n",
    "# Print the first line of the file\n",
    "print(line)\n"
   ]
  },
  {
   "cell_type": "code",
   "execution_count": 4,
   "id": "c83b73fe-c807-4432-8ba9-f78705ec7748",
   "metadata": {},
   "outputs": [
    {
     "name": "stdout",
     "output_type": "stream",
     "text": [
      "I want to become a Data Scientist\n"
     ]
    }
   ],
   "source": [
    "#Readline\n",
    "# Open file in read mode\n",
    "file = open(\"example.txt\", \"r\")\n",
    "\n",
    "# Read the first line of the file\n",
    "line = file.readline()\n",
    "\n",
    "# Close file\n",
    "file.close()\n",
    "\n",
    "# Print the first line of the file\n",
    "print(line)\n"
   ]
  },
  {
   "cell_type": "code",
   "execution_count": 5,
   "id": "d08f78ba-be12-4a1e-b866-c4114aa986f7",
   "metadata": {},
   "outputs": [
    {
     "name": "stdout",
     "output_type": "stream",
     "text": [
      "I want to become a Data Scientist\n"
     ]
    }
   ],
   "source": [
    "#readlines\n",
    "# Open file in read mode\n",
    "file = open(\"example.txt\", \"r\")\n",
    "\n",
    "# Read all the lines of the file\n",
    "lines = file.readlines()\n",
    "\n",
    "# Close file\n",
    "file.close()\n",
    "\n",
    "# Print the lines of the file\n",
    "for line in lines:\n",
    "    print(line)\n"
   ]
  },
  {
   "cell_type": "markdown",
   "id": "c4d1579e-f01b-4ca5-bffe-8109e9f09826",
   "metadata": {},
   "source": [
    "### Q5. Explain why with statement is used with open(). What is the advantage of using with statement and open() together?"
   ]
  },
  {
   "cell_type": "code",
   "execution_count": 6,
   "id": "a9d85ceb-96bd-4d35-b02f-91d6f0c91d91",
   "metadata": {},
   "outputs": [
    {
     "name": "stdout",
     "output_type": "stream",
     "text": [
      "I want to become a Data Scientist\n"
     ]
    }
   ],
   "source": [
    "#Answer.\n",
    "with open('example.txt', 'r') as f:\n",
    "    content = f.read()\n",
    "    print(content)\n"
   ]
  },
  {
   "cell_type": "markdown",
   "id": "5f74ea98-9e46-4928-98af-947bf7fc898e",
   "metadata": {},
   "source": [
    "### Q6. Explain the write() and writelines() functions. Give a suitable example."
   ]
  },
  {
   "cell_type": "code",
   "execution_count": 8,
   "id": "ed7d9400-f990-4593-8511-9e6cbeeff879",
   "metadata": {},
   "outputs": [],
   "source": [
    "#Answer.\n",
    "#write\n",
    "# Open file in write mode\n",
    "file = open(\"example.txt\", \"w\")\n",
    "\n",
    "# Write a string to the file\n",
    "file.write(\"Hello, World!\\n\")\n",
    "\n",
    "# Close file\n",
    "file.close()\n"
   ]
  },
  {
   "cell_type": "code",
   "execution_count": 10,
   "id": "2d150d1f-633e-4cb9-a5ba-fc73679bb1b6",
   "metadata": {},
   "outputs": [],
   "source": [
    "# writelines\n",
    "# Open file in write mode\n",
    "file = open(\"example.txt\", \"w\")\n",
    "\n",
    "# Write a list of strings to the file\n",
    "lines = [\"Line 1\\n\", \"Line 2\\n\", \"Line 3\\n\"]\n",
    "file.writelines(lines)\n",
    "\n",
    "# Close file\n",
    "file.close()\n"
   ]
  },
  {
   "cell_type": "code",
   "execution_count": null,
   "id": "61da1e9a-2e54-4a6c-80e2-ab98eb6e8bc5",
   "metadata": {},
   "outputs": [],
   "source": []
  }
 ],
 "metadata": {
  "kernelspec": {
   "display_name": "Python 3 (ipykernel)",
   "language": "python",
   "name": "python3"
  },
  "language_info": {
   "codemirror_mode": {
    "name": "ipython",
    "version": 3
   },
   "file_extension": ".py",
   "mimetype": "text/x-python",
   "name": "python",
   "nbconvert_exporter": "python",
   "pygments_lexer": "ipython3",
   "version": "3.9.13"
  }
 },
 "nbformat": 4,
 "nbformat_minor": 5
}
