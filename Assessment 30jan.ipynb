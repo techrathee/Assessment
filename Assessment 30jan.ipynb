{
 "cells": [
  {
   "cell_type": "markdown",
   "id": "5cb0a924-4613-46aa-9724-b4d63640b5db",
   "metadata": {},
   "source": [
    "# Assignment "
   ]
  },
  {
   "cell_type": "markdown",
   "id": "9b5e6141-b349-40e2-9a83-ba197108da36",
   "metadata": {},
   "source": [
    "## 30jan 2023"
   ]
  },
  {
   "cell_type": "markdown",
   "id": "da00e7de-bd0b-4749-8dbe-f38bc2dc8495",
   "metadata": {},
   "source": [
    "### Q1.Write a program to accept percentage form the user and display the grade according to the following criteria \n",
    "marks , grade = >90 , A  >80 and <=90  , B    >=60 and <=80 , C below 60 ,d"
   ]
  },
  {
   "cell_type": "code",
   "execution_count": 3,
   "id": "acaffb4d-3b17-4d86-a519-fe655d926e0c",
   "metadata": {},
   "outputs": [
    {
     "name": "stdin",
     "output_type": "stream",
     "text": [
      "Enter percentage:  90\n"
     ]
    },
    {
     "name": "stdout",
     "output_type": "stream",
     "text": [
      "Your grade is: A\n"
     ]
    }
   ],
   "source": [
    "#Ans\n",
    "#Here is a Python program that prompts the user to enter a percentage and then displays the corresponding grade according to the given criteria:\n",
    "percentage = float(input(\"Enter percentage: \"))\n",
    "\n",
    "if percentage >= 90:\n",
    "    grade = \"A\"\n",
    "elif percentage > 80:\n",
    "    grade = \"B\"\n",
    "elif percentage >= 60:\n",
    "    grade = \"C\"\n",
    "else:\n",
    "    grade = \"D\"\n",
    "\n",
    "print(\"Your grade is:\", grade)\n"
   ]
  },
  {
   "cell_type": "markdown",
   "id": "44b1c6ca-4ca0-456b-8ea5-1cb353e60e28",
   "metadata": {},
   "source": [
    "### Q2. Write a program to accpet the cost price of a bike and display the road tax to br paid according to the following criteria\n",
    "tax , cost price(in rs) = 15% , 100000  10% ,<50000 and <= 100000 5% <= 50000"
   ]
  },
  {
   "cell_type": "code",
   "execution_count": 9,
   "id": "58b9b053-6552-450a-8a0c-e2172532ac4a",
   "metadata": {},
   "outputs": [
    {
     "name": "stdin",
     "output_type": "stream",
     "text": [
      "Enter cost price of the bike:  5\n"
     ]
    },
    {
     "name": "stdout",
     "output_type": "stream",
     "text": [
      "The road tax to be paid is Rs. 0.25\n"
     ]
    }
   ],
   "source": [
    "#Ans\n",
    "#Here is a Python program that prompts the user to enter the cost price of a bike and then displays the corresponding road tax according to the given criteria:\n",
    "cost_price = float(input(\"Enter cost price of the bike: \"))\n",
    "\n",
    "if cost_price >= 100000:\n",
    "    tax = 0.15 * cost_price\n",
    "elif cost_price > 50000:\n",
    "    tax = 0.1 * cost_price\n",
    "else:\n",
    "    tax = 0.05 * cost_price\n",
    "\n",
    "print(\"The road tax to be paid is Rs.\", tax)\n"
   ]
  },
  {
   "cell_type": "markdown",
   "id": "30650447-5354-40e1-9395-e0634f204f62",
   "metadata": {},
   "source": [
    "### Q3. Accept any city from the user and display monument of that city\n",
    " City , Mounment = delhi , red fort  agra , taj mahal jaipur , jal mahal"
   ]
  },
  {
   "cell_type": "code",
   "execution_count": 10,
   "id": "8dd00f94-3b56-49a7-92b8-5fd519fb0476",
   "metadata": {},
   "outputs": [
    {
     "name": "stdin",
     "output_type": "stream",
     "text": [
      "Enter a city:  delhi\n"
     ]
    },
    {
     "name": "stdout",
     "output_type": "stream",
     "text": [
      "The monument of delhi is Red Fort\n"
     ]
    }
   ],
   "source": [
    "#Ans\n",
    "#Here is a Python program that prompts the user to enter a city and then displays the corresponding monument according to the given criteria:\n",
    "city = input(\"Enter a city: \")\n",
    "\n",
    "if city.lower() == \"delhi\":\n",
    "    monument = \"Red Fort\"\n",
    "elif city.lower() == \"agra\":\n",
    "    monument = \"Taj Mahal\"\n",
    "elif city.lower() == \"jaipur\":\n",
    "    monument = \"Jal Mahal\"\n",
    "else:\n",
    "    monument = \"Monument not found for this city.\"\n",
    "\n",
    "print(\"The monument of\", city, \"is\", monument)\n"
   ]
  },
  {
   "cell_type": "markdown",
   "id": "f0fba202-197c-41ac-88b6-2f71061574c4",
   "metadata": {},
   "source": [
    "### Q4. Check how many times a given number can be divided by 3 before it is less than or equal to 10"
   ]
  },
  {
   "cell_type": "code",
   "execution_count": 38,
   "id": "48810350-f45b-49d5-91b0-7d57a72c323a",
   "metadata": {},
   "outputs": [
    {
     "name": "stdin",
     "output_type": "stream",
     "text": [
      "Enter a number:  369\n"
     ]
    },
    {
     "name": "stdout",
     "output_type": "stream",
     "text": [
      "The given number can be divided by 3 for 4 times before it is less than or equal to 10.\n"
     ]
    }
   ],
   "source": [
    "#Ans\n",
    "# Here is a Python program that prompts the user to enter a number and then checks how many times it can be divided by 3 before it is less than or equal to 10:\n",
    "number = int(input(\"Enter a number: \"))\n",
    "count = 0\n",
    "\n",
    "while number > 10:\n",
    "    number = number // 3\n",
    "    count += 1\n",
    "\n",
    "print(\"The given number can be divided by 3 for\", count, \"times before it is less than or equal to 10.\")\n"
   ]
  },
  {
   "cell_type": "markdown",
   "id": "a69b5fb2-81cd-4ed9-aeb2-2636fc3c3a02",
   "metadata": {},
   "source": [
    "### Q5. Why and when to use while loop in python give a detailed description with example"
   ]
  },
  {
   "cell_type": "code",
   "execution_count": null,
   "id": "7d3720de-204c-4b04-a0b3-77423fff70ab",
   "metadata": {},
   "outputs": [],
   "source": [
    "#Ans\n",
    "In Python, a while loop is a control flow statement that allows you to execute a block of code repeatedly as long as a specified condition is true. \n",
    "The while loop continues to execute the block of code until the condition becomes false.\n"
   ]
  },
  {
   "cell_type": "code",
   "execution_count": null,
   "id": "72438848-a013-4299-9c7c-abaaf467472c",
   "metadata": {},
   "outputs": [],
   "source": [
    " Here is an example of a simple while loop:\n",
    "        i = 0\n",
    "while i < 5:\n",
    "    print(i)\n",
    "    i += 1\n"
   ]
  },
  {
   "cell_type": "code",
   "execution_count": null,
   "id": "19281f84-8f7d-4607-a5cd-e05a3a274adb",
   "metadata": {},
   "outputs": [],
   "source": [
    "There are several situations where a while loop can be useful:\n",
    "    \n",
    "    1. When you don't know the number of iterations in advance: In some situations, you may not know in advance how many times you need to execute a \n",
    "       block of code. A while loop is useful in such cases because it can execute the block of code repeatedly until a specific condition is met.\n",
    "        \n",
    "    2. When you need to repeat a block of code until a specific condition is met: Sometimes, you may need to repeat a block of code until a certain condition\n",
    "      is met. For example, you may need to prompt a user to enter a valid input until they provide one. In such cases, a while loop is useful\n",
    "        because it can execute the block of code repeatedly until the desired condition is met.\n",
    "        \n",
    "    3. When you need to iterate over a sequence: While Python has a for loop to iterate over a sequence of items, sometimes you may need to iterate over\n",
    "       a sequence based on a condition. In such cases, a while loop can be useful because it allows you to iterate over a sequence based on a condition \n",
    "        rather than the sequence itself.\n",
    "        "
   ]
  },
  {
   "cell_type": "markdown",
   "id": "16efde74-ece6-4bc1-96de-d9db9535da40",
   "metadata": {},
   "source": [
    "### Q6. Use nested while loop to print 3 different pattern"
   ]
  },
  {
   "cell_type": "code",
   "execution_count": 44,
   "id": "19188d2f-3c3d-422b-a494-9fdf3dd97467",
   "metadata": {},
   "outputs": [
    {
     "name": "stdout",
     "output_type": "stream",
     "text": [
      "1 \n",
      "1 2 \n",
      "1 2 3 \n",
      "1 2 3 4 \n",
      "1 2 3 4 5 \n"
     ]
    }
   ],
   "source": [
    "#Ans\n",
    "#here are three different patterns that can be printed using nested while loops:\n",
    "\n",
    "# Pattern 1\n",
    "i = 1\n",
    "while i <= 5:\n",
    "    j = 1\n",
    "    while j <= i:\n",
    "        print(j, end=\" \")\n",
    "        j += 1\n",
    "    print()\n",
    "    i += 1\n"
   ]
  },
  {
   "cell_type": "code",
   "execution_count": 46,
   "id": "bff8630e-c35c-48db-8008-d8a8cb0d1136",
   "metadata": {},
   "outputs": [
    {
     "name": "stdout",
     "output_type": "stream",
     "text": [
      "1 \n",
      "2 3 \n",
      "4 5 6 \n",
      "7 8 9 10 \n"
     ]
    }
   ],
   "source": [
    "# Pattern 2\n",
    "i = 1\n",
    "n = 1\n",
    "while i <= 4:\n",
    "    j = 1\n",
    "    while j <= i:\n",
    "        print(n, end=\" \")\n",
    "        j += 1\n",
    "        n += 1\n",
    "    print()\n",
    "    i += 1\n"
   ]
  },
  {
   "cell_type": "code",
   "execution_count": 47,
   "id": "d22225a3-8d98-413a-80b1-a2adf3f83e11",
   "metadata": {},
   "outputs": [
    {
     "name": "stdout",
     "output_type": "stream",
     "text": [
      "* \n",
      "* * \n",
      "* * * \n",
      "* * * * \n",
      "* * * * * \n"
     ]
    }
   ],
   "source": [
    "# Pattern 3\n",
    "i = 1\n",
    "while i <= 5:\n",
    "    j = 1\n",
    "    while j <= i:\n",
    "        print(\"*\", end=\" \")\n",
    "        j += 1\n",
    "    print()\n",
    "    i += 1\n"
   ]
  },
  {
   "cell_type": "markdown",
   "id": "ce62d105-e663-41d0-91da-4101068819f0",
   "metadata": {},
   "source": [
    "### Q7 Reverse a while loop to display number from 10 to 1"
   ]
  },
  {
   "cell_type": "code",
   "execution_count": 50,
   "id": "3a6cbae2-803c-450d-a102-98fb59a0d6e9",
   "metadata": {},
   "outputs": [
    {
     "name": "stdout",
     "output_type": "stream",
     "text": [
      "10\n",
      "9\n",
      "8\n",
      "7\n",
      "6\n",
      "5\n",
      "4\n",
      "3\n",
      "2\n",
      "1\n"
     ]
    }
   ],
   "source": [
    "#Ans\n",
    "#here is the Python code to use a while loop to display numbers from 10 to 1 in reverse order:\n",
    "i = 10\n",
    "while i >= 1:\n",
    "    print(i)\n",
    "    i -= 1\n"
   ]
  },
  {
   "cell_type": "code",
   "execution_count": null,
   "id": "3597c7bb-1629-43ae-9d5a-fb6f954efc98",
   "metadata": {},
   "outputs": [],
   "source": []
  },
  {
   "cell_type": "code",
   "execution_count": null,
   "id": "9bd758cd-4165-48b4-8e81-e5cb79b126fc",
   "metadata": {},
   "outputs": [],
   "source": []
  },
  {
   "cell_type": "code",
   "execution_count": null,
   "id": "d42563c8-d0e4-433e-80e3-05e39fb81c45",
   "metadata": {},
   "outputs": [],
   "source": []
  },
  {
   "cell_type": "code",
   "execution_count": null,
   "id": "1047200d-6a97-4fc6-a54c-0de692c76943",
   "metadata": {},
   "outputs": [],
   "source": []
  },
  {
   "cell_type": "code",
   "execution_count": null,
   "id": "69bb6d11-f6c3-41f4-b033-9d427295663b",
   "metadata": {},
   "outputs": [],
   "source": []
  }
 ],
 "metadata": {
  "kernelspec": {
   "display_name": "Python 3 (ipykernel)",
   "language": "python",
   "name": "python3"
  },
  "language_info": {
   "codemirror_mode": {
    "name": "ipython",
    "version": 3
   },
   "file_extension": ".py",
   "mimetype": "text/x-python",
   "name": "python",
   "nbconvert_exporter": "python",
   "pygments_lexer": "ipython3",
   "version": "3.9.13"
  }
 },
 "nbformat": 4,
 "nbformat_minor": 5
}
