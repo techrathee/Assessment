{
 "cells": [
  {
   "cell_type": "markdown",
   "id": "006348aa-74ac-4d7d-9c1d-938923c0c6fe",
   "metadata": {},
   "source": [
    "# Python Task 2"
   ]
  },
  {
   "cell_type": "markdown",
   "id": "9d3bbab2-509b-4a97-a79b-fb63aebf4f45",
   "metadata": {},
   "source": [
    "## 07feb 2023"
   ]
  },
  {
   "cell_type": "markdown",
   "id": "45255a17-d6b5-474e-839b-e01e2aba77d6",
   "metadata": {},
   "source": [
    "### Q1. You are writing code for a company. The requirement of the company is that you create a python function that will check whether the password entered by the user is correct or not. \n",
    "The function should take the password as input and return the string “Valid Password” if the entered password follows the below-given password guidelines else it should return “Invalid Password”.\n",
    "\n",
    "Note: 1. The Password should contain at least two uppercase letters and at least two lowercase letters.\n",
    "2. The Password should contain at least a number and three special characters.\n",
    "3. The length of the password should be 10 characters long."
   ]
  },
  {
   "cell_type": "code",
   "execution_count": 17,
   "id": "73c37f72-d9c0-4899-9b64-da75d906a81a",
   "metadata": {},
   "outputs": [],
   "source": [
    "#Ans\n",
    "#Here is a sample code in Python that checks whether the entered password meets the above mentioned guidelines or not:\n",
    "\n",
    "import re\n",
    "\n",
    "def check_password(password):\n",
    "    # check if the password is 10 characters long\n",
    "    if len(password) != 10:\n",
    "        return \"Invalid Password\"\n",
    "    \n",
    "    # check if the password contains at least 2 uppercase letters and 2 lowercase letters\n",
    "    uppercase_count = len(re.findall(r'[A-Z]', password))\n",
    "    lowercase_count = len(re.findall(r'[a-z]', password))\n",
    "    if uppercase_count < 2 or lowercase_count < 2:\n",
    "        return \"Invalid Password\"\n",
    "    \n",
    "    # check if the password contains at least a number and 3 special characters\n",
    "    digit_count = len(re.findall(r'\\d', password))\n",
    "    special_char_count = len(re.findall(r'[^\\w\\s]', password))\n",
    "    if digit_count < 1 or special_char_count < 3:\n",
    "        return \"Invalid Password\"\n",
    "    \n",
    "    # if all the checks pass, then the password is valid\n",
    "    return \"Valid Password\"\n"
   ]
  },
  {
   "cell_type": "code",
   "execution_count": 19,
   "id": "27aea7b6-7315-4b48-ba4c-1999b13930b1",
   "metadata": {},
   "outputs": [
    {
     "data": {
      "text/plain": [
       "'Invalid Password'"
      ]
     },
     "execution_count": 19,
     "metadata": {},
     "output_type": "execute_result"
    }
   ],
   "source": [
    "check_password(\"Abc123#Def\")"
   ]
  },
  {
   "cell_type": "code",
   "execution_count": 20,
   "id": "59fd594f-901c-4d96-87e2-b74734e9209e",
   "metadata": {},
   "outputs": [
    {
     "data": {
      "text/plain": [
       "'Invalid Password'"
      ]
     },
     "execution_count": 20,
     "metadata": {},
     "output_type": "execute_result"
    }
   ],
   "source": [
    "check_password(\"Abc121@#@#ASdfd\")"
   ]
  },
  {
   "cell_type": "code",
   "execution_count": 23,
   "id": "7ea53f5c-46d1-45f4-b98b-dba4953a7f00",
   "metadata": {},
   "outputs": [
    {
     "data": {
      "text/plain": [
       "'Invalid Password'"
      ]
     },
     "execution_count": 23,
     "metadata": {},
     "output_type": "execute_result"
    }
   ],
   "source": [
    "check_password(\"Abc#Def@!#\")"
   ]
  },
  {
   "cell_type": "code",
   "execution_count": 22,
   "id": "fd6babd2-fdc1-4fa7-99ff-92b37c25cf86",
   "metadata": {},
   "outputs": [
    {
     "data": {
      "text/plain": [
       "'Invalid Password'"
      ]
     },
     "execution_count": 22,
     "metadata": {},
     "output_type": "execute_result"
    }
   ],
   "source": [
    "check_password(\"abc#DEF123\")"
   ]
  },
  {
   "cell_type": "markdown",
   "id": "321ca82b-a1fd-4c8f-8b8c-d67f83a15d78",
   "metadata": {},
   "source": [
    "### Q2. Solve the below-given questions using at least one of the following:\n",
    "1. Lambda functioJ\n",
    "2. Filter functioJ\n",
    "3. Map functioJ\"\n",
    "4. List ComprehensioI\n",
    "\n"
   ]
  },
  {
   "cell_type": "code",
   "execution_count": null,
   "id": "a5cc93c6-c0fe-4c59-9f41-286c258013c0",
   "metadata": {},
   "outputs": [],
   "source": [
    "* Check if the string starts with a particular letterY\n",
    "* Check if the string is numericY\n",
    "* Sort a list of tuples having fruit names and their quantity. [(\"mango\",99),(\"orange\",80), (\"grapes\", 1000)-\n",
    "* Find the squares of numbers from 1 to 10Y\n",
    "* Find the cube root of numbers from 1 to 10Y\n",
    "* Check if a given number is evenY\n",
    "* Filter odd numbers from the given list.\n",
    "[1,2,3,4,5,6,7,8,9,10-\n",
    "B Sort a list of integers into positive and negative integers lists.\n",
    "[1,2,3,4,5,6,-1,-2,-3,-4,-5,0]"
   ]
  },
  {
   "cell_type": "code",
   "execution_count": null,
   "id": "b8adb580-dcfe-4e3c-8775-a858c7e7f8df",
   "metadata": {},
   "outputs": [],
   "source": [
    "#Ans\n",
    "#Yes, you can use a Lambda function in Python to check if a string starts with a particular letter. Here is an example Lambda function that takes\n",
    "a string as input and returns True if the string starts with the letter 'A', and False otherwise:"
   ]
  },
  {
   "cell_type": "code",
   "execution_count": 25,
   "id": "83994542-0256-457b-9bdb-c17dc6b83513",
   "metadata": {},
   "outputs": [
    {
     "data": {
      "text/plain": [
       "<function __main__.<lambda>(s)>"
      ]
     },
     "execution_count": 25,
     "metadata": {},
     "output_type": "execute_result"
    }
   ],
   "source": [
    "lambda s: s.startswith('A')"
   ]
  },
  {
   "cell_type": "code",
   "execution_count": 27,
   "id": "289053fb-f01b-4a5c-ab22-41755165e6ab",
   "metadata": {},
   "outputs": [
    {
     "name": "stdout",
     "output_type": "stream",
     "text": [
      "True\n"
     ]
    }
   ],
   "source": [
    "result = (lambda s: s.startswith('A'))(\"Apple\")\n",
    "print(result)  \n"
   ]
  },
  {
   "cell_type": "code",
   "execution_count": null,
   "id": "0eef60c4-5046-4069-9558-e1d8c6dc3beb",
   "metadata": {},
   "outputs": [],
   "source": []
  },
  {
   "cell_type": "code",
   "execution_count": null,
   "id": "8fd87508-f274-47de-8cc9-57aca12c7b3c",
   "metadata": {},
   "outputs": [],
   "source": []
  },
  {
   "cell_type": "code",
   "execution_count": null,
   "id": "e79588f1-6da9-4ee7-8d5d-8fdfea69f55a",
   "metadata": {},
   "outputs": [],
   "source": []
  },
  {
   "cell_type": "code",
   "execution_count": null,
   "id": "374ae580-2391-4265-b38b-f00d0fd72459",
   "metadata": {},
   "outputs": [],
   "source": []
  }
 ],
 "metadata": {
  "kernelspec": {
   "display_name": "Python 3 (ipykernel)",
   "language": "python",
   "name": "python3"
  },
  "language_info": {
   "codemirror_mode": {
    "name": "ipython",
    "version": 3
   },
   "file_extension": ".py",
   "mimetype": "text/x-python",
   "name": "python",
   "nbconvert_exporter": "python",
   "pygments_lexer": "ipython3",
   "version": "3.9.13"
  }
 },
 "nbformat": 4,
 "nbformat_minor": 5
}
