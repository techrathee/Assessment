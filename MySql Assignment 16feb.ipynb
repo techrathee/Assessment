{
 "cells": [
  {
   "cell_type": "markdown",
   "id": "b0d9ff03-ba56-4a7b-b12e-e5b8da13c1e4",
   "metadata": {},
   "source": [
    "# MySql"
   ]
  },
  {
   "cell_type": "markdown",
   "id": "8b665b96-0107-4bd5-900e-aba0ce68fb92",
   "metadata": {},
   "source": [
    "## 16feb 2023"
   ]
  },
  {
   "cell_type": "markdown",
   "id": "2dcb80ab-90d1-4224-9209-bebb0db142f4",
   "metadata": {},
   "source": [
    "### Q1. What is a database? Differentiate between SQL and NoSQL databases."
   ]
  },
  {
   "cell_type": "code",
   "execution_count": null,
   "id": "d31a5c37-0503-4506-bbf9-9c1e71f6f1ce",
   "metadata": {},
   "outputs": [],
   "source": [
    "Answer.\n",
    "Database\n",
    "A database is a structured collection of data that is stored and managed in a way that allows for efficient retrieval and manipulation of information.\n",
    "Databases are widely used in applications that need to store and manage large amounts of data, such as e-commerce websites, financial systems, \n",
    "and social networks.\n",
    "\n",
    "SQL and NoSQL databases are two different types of database management systems that differ in how they store and retrieve data.\n",
    "\n",
    "The main differences between SQL and NoSQL databases are:\n",
    "    1.Data model: SQL databases use a relational data model, while NoSQL databases use a variety of data models, such as document-based, key-value,\n",
    "    or graph-based.\n",
    "    \n",
    "    2. Schema: SQL databases require a predefined schema that specifies the structure and types of data in each table, while NoSQL databases are\n",
    "    schema-less, which means that data can be stored without a predefined schema.\n",
    "    \n",
    "    3. Scalability: NoSQL databases are designed to scale horizontally, which means that new nodes can be added to the system to handle additional load. \n",
    "    SQL databases can also scale horizontally, but it's often more complex and requires additional effort.\n",
    "    \n",
    "    4. Transactions: SQL databases support ACID (Atomicity, Consistency, Isolation, Durability) transactions, which ensure that data is consistent and\n",
    "    reliable. NoSQL databases, on the other hand, often sacrifice consistency in favor of scalability and performance.\n",
    "    \n",
    "    5. Query language: SQL databases use SQL as their query language, while NoSQL databases use a variety of query languages, \n",
    "    such as MongoDB Query Language, Cassandra Query Language, or Gremlin (a graph traversal language).\n",
    "    "
   ]
  },
  {
   "cell_type": "markdown",
   "id": "d6e0116f-90ac-4153-b5d9-90866b7f179f",
   "metadata": {},
   "source": [
    "### Q2. What is DDL? Explain why CREATE, DROP, ALTER, and TRUNCATE are used with an example."
   ]
  },
  {
   "cell_type": "code",
   "execution_count": null,
   "id": "69080b47-1030-421f-b693-a9fbbc034e73",
   "metadata": {},
   "outputs": [],
   "source": [
    "Answer.\n",
    "DDL stands for Data Definition Language, which is a subset of SQL (Structured Query Language) that is used to define the structure and schema of a database.\n",
    "DDL statements are used to create, modify, and delete database objects such as tables, indexes, and constraints.\n",
    "\n",
    "The four most commonly used DDL statements are:\n",
    "    \n",
    "    1. CREATE\n",
    "    2. DROP\n",
    "    3. ALTER\n",
    "    4. TRUNCATE\n",
    "    \n",
    "    \n",
    "    1. CREATE: This statement is used to create a new database object, such as a table, view, or index. For example, the following statement creates \n",
    "    a new table called \"Customers\" with columns for \"CustomerID\", \"Name\", \"Email\", and \"Phone\":\n",
    "       \n",
    "        CREATE TABLE Customers (\n",
    "          CustomerID INT PRIMARY KEY,\n",
    "          Name VARCHAR(50),\n",
    "          Email VARCHAR(100),\n",
    "          Phone VARCHAR(20)\n",
    "           );\n",
    "  \n",
    "\n",
    "    2. DROP: This statement is used to delete a database object, such as a table or view. For example, the following statement drops the \"Customers\" table:\n",
    "        \n",
    "        DROP TABLE Customers;\n",
    "\n",
    "    3. ALTER: This statement is used to modify the structure of a database object, such as adding or removing a column from a table, or changing the data type of a column. \n",
    "    For example, the following statement adds a new column called \"Address\" to the \"Customers\" table:\n",
    "        \n",
    "        ALTER TABLE Customers ADD Address VARCHAR(200);\n",
    "        \n",
    "    4. TRUNCATE: This statement is used to delete all the data from a table, while keeping the table structure intact.\n",
    "    For example, the following statement deletes all the data from the \"Customers\" table:\n",
    "        \n",
    "        TRUNCATE TABLE Customers;\n"
   ]
  },
  {
   "cell_type": "markdown",
   "id": "eba34e26-9d6b-42b2-b49e-316159ec1104",
   "metadata": {},
   "source": [
    "### Q3. What is DML? Explain INSERT, UPDATE, and DELETE with an example."
   ]
  },
  {
   "cell_type": "code",
   "execution_count": null,
   "id": "1758fcf2-2908-46ec-a25c-537cbbef1afa",
   "metadata": {},
   "outputs": [],
   "source": [
    "Answer.\n",
    "DML stands for Data Manipulation Language, which is a subset of SQL (Structured Query Language) that is used to manipulate data stored in a database. \n",
    "DML statements are used to insert, update, and delete data in tables.\n",
    "\n",
    "The three most commonly used DML statements are:\n",
    "    \n",
    "    1. INSERT: This statement is used to insert new data into a table. For example, the following statement inserts a new record into the \"Customers\" table:\n",
    "       \n",
    "        INSERT INTO Customers (CustomerID, Name, Email, Phone)\n",
    "        VALUES (1, 'John Doe', 'johndoe@example.com', '555-1234');\n",
    "        \n",
    "    2. UPDATE: This statement is used to update existing data in a table. For example, the following statement updates the email address for the customer with ID 1 in the \"Customers\" table:\n",
    "        \n",
    "        UPDATE Customers\n",
    "        SET Email = 'johndoe@gmail.com'\n",
    "        WHERE CustomerID = 1;\n",
    "\n",
    "    3. DELETE: This statement is used to delete data from a table. For example, the following statement deletes the customer with ID 1 from the \"Customers\" table:\n",
    "        \n",
    "        DELETE FROM Customers\n",
    "        WHERE CustomerID = 1;\n",
    "        "
   ]
  },
  {
   "cell_type": "markdown",
   "id": "72f0aa91-51be-427f-92f5-3dbfc53799cd",
   "metadata": {},
   "source": [
    "### Q4. What is DQL? Explain SELECT with an example."
   ]
  },
  {
   "cell_type": "code",
   "execution_count": null,
   "id": "cc57da83-fedf-463f-8257-dbe32f9e072c",
   "metadata": {},
   "outputs": [],
   "source": [
    "Answer.\n",
    "DQL stands for Data Query Language, which is a subset of SQL (Structured Query Language) that is used to retrieve data from a database. \n",
    "DQL statements are used to query and fetch data from tables.\n",
    "\n",
    "The most commonly used DQL statement is:\n",
    "    \n",
    "    SELECT: This statement is used to retrieve data from one or more tables in a database. For example, the following statement retrieves all the data from the \"Customers\" table:\n",
    "       \n",
    "       SELECT * FROM Customers;\n"
   ]
  },
  {
   "cell_type": "markdown",
   "id": "1f2d5a0e-4013-4cc2-ba39-2730a524836b",
   "metadata": {},
   "source": [
    "### Q5. Explain Primary Key and Foreign Key."
   ]
  },
  {
   "cell_type": "code",
   "execution_count": null,
   "id": "359b0fd4-dfd9-453e-977b-999f7775cb47",
   "metadata": {},
   "outputs": [],
   "source": [
    "Answer.\n",
    "Primary Key\n",
    "A primary key is a column or set of columns in a table that uniquely identifies each row in the table. It must be unique and not null for every row in the table.\n",
    "Primary keys are used to enforce entity integrity, which ensures that each row in the table is unique and identifiable. They are also used as the basis for establishing \n",
    "relationships with other tables through the use of foreign keys.\n",
    "\n",
    "Foreign Key\n",
    "A foreign key is a column or set of columns in a table that refers to the primary key of another table. It is used to establish a relationship between two tables,\n",
    "where the foreign key in one table refers to the primary key in another table. This relationship ensures referential integrity, which means that the data in the child\n",
    "table (table with the foreign key) must match the data in the parent table (table with the primary key). In other words, a foreign key is used to maintain consistency between related tables.\n"
   ]
  },
  {
   "cell_type": "markdown",
   "id": "d3ed11f4-aaa3-468c-b168-dd1e67205d0c",
   "metadata": {},
   "source": [
    "### Q6. Write a python code to connect MySQL to python. Explain the cursor() and execute() method."
   ]
  },
  {
   "cell_type": "code",
   "execution_count": null,
   "id": "91ef7836-18c3-4c61-bc95-ac3342b09f22",
   "metadata": {},
   "outputs": [],
   "source": [
    "Answer.\n",
    " here\"s an example code snippet that demonstrates how to connect MySQL to Python using the MySQL Connector Python module\n",
    "    \n",
    "import mysql.connector\n",
    "\n",
    "# Establish a connection to the database\n",
    "cnx = mysql.connector.connect(\n",
    "  user='username',\n",
    "  password='password',\n",
    "  host='localhost',\n",
    "  database='database_name'\n",
    ")\n",
    "\n",
    "# Create a cursor object\n",
    "cursor = cnx.cursor()\n",
    "\n",
    "# Execute a SQL query\n",
    "query = \"SELECT * FROM table_name\"\n",
    "cursor.execute(query)\n",
    "\n",
    "# Fetch the results\n",
    "results = cursor.fetchall()\n",
    "\n",
    "# Print the results\n",
    "for row in results:\n",
    "     print(row)\n",
    "\n",
    "# Close the cursor and connection\n",
    "cursor.close()\n",
    "cnx.close()\n",
    "\n",
    "Execute\n",
    "The execute() method is used to execute a SQL query. It takes a single parameter, which is the SQL query to be executed. This method returns a result set, \n",
    "which can be accessed using the fetchone(), fetchmany(), or fetchall() methods of the cursor object.\n",
    "\n",
    "Cursor\n",
    "The cursor() method is used to create a cursor object. This object is used to execute SQL queries and fetch results from the database.\n",
    "The cursor can be used to execute multiple queries and fetch multiple results.\n"
   ]
  },
  {
   "cell_type": "markdown",
   "id": "8cb9d513-dcea-4f2f-9f55-c77406387797",
   "metadata": {},
   "source": [
    "### Q7. Give the order of execution of SQL clauses in an SQL query."
   ]
  },
  {
   "cell_type": "code",
   "execution_count": null,
   "id": "6ab6c699-71b3-470c-8eb7-d0c700a12e4b",
   "metadata": {},
   "outputs": [],
   "source": [
    "Answer.\n",
    "The order of execution of SQL clauses in an SQL query can be summarized in the following sequence:\n",
    "    \n",
    "    1. FROM clause: specifies the table(s) from which the data is to be retrieved.\n",
    "    2. JOIN clause: joins two or more tables based on a specified condition.\n",
    "    3. WHERE clause: filters the data based on a specified condition.\n",
    "    4. GROUP BY clause: groups the data based on a specified column or expression.\n",
    "    5. HAVING clause: filters the groups based on a specified condition.\n",
    "    6. SELECT clause: selects the columns or expressions to be retrieved from the data.\n",
    "    7. ORDER BY clause: sorts the data based on a specified column or expression.\n",
    "    8. LIMIT clause: limits the number of rows returned by the query.\n",
    "    "
   ]
  },
  {
   "cell_type": "code",
   "execution_count": null,
   "id": "2e896b8c-0474-4b74-b033-fce4d5b291bd",
   "metadata": {},
   "outputs": [],
   "source": []
  }
 ],
 "metadata": {
  "kernelspec": {
   "display_name": "Python 3 (ipykernel)",
   "language": "python",
   "name": "python3"
  },
  "language_info": {
   "codemirror_mode": {
    "name": "ipython",
    "version": 3
   },
   "file_extension": ".py",
   "mimetype": "text/x-python",
   "name": "python",
   "nbconvert_exporter": "python",
   "pygments_lexer": "ipython3",
   "version": "3.9.13"
  }
 },
 "nbformat": 4,
 "nbformat_minor": 5
}
