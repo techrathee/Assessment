{
 "cells": [
  {
   "cell_type": "markdown",
   "id": "3ca8de1e-b0f8-4d51-91bc-9862ccb40fca",
   "metadata": {},
   "source": [
    "# Exception handling-1"
   ]
  },
  {
   "cell_type": "markdown",
   "id": "b7a5837d-7313-462e-9e5b-c9f166d18832",
   "metadata": {},
   "source": [
    "## 12feb 2023"
   ]
  },
  {
   "cell_type": "markdown",
   "id": "ec67a0c2-f2ca-4144-89cf-fc8869ad0646",
   "metadata": {},
   "source": [
    "### Q1. What is an Exception in python? write the difference betweeen exceptionsand syntax errors"
   ]
  },
  {
   "cell_type": "code",
   "execution_count": null,
   "id": "d0a5363e-1893-4d64-bf6a-508b59779332",
   "metadata": {},
   "outputs": [],
   "source": [
    "#Answer.\n",
    "\n",
    "In Python, an exception is an error that occurs during the execution of a program that interrupts the normal flow of the program's instructions\n",
    ". Exceptions are a way of handling errors that occur during program execution, and they allow the program to gracefully recover from these errors and continue running.\n",
    "\n",
    "A syntax error, on the other hand, is an error that occurs when a program is written with incorrect syntax, such as misspelling a keyword, leaving out a required argument, \n",
    "or using incorrect punctuation. Syntax errors are detected by the Python interpreter before the program is executed, and they prevent the program from running until the errors are fixed.\n",
    "\n",
    "The main difference between exceptions and syntax errors is that syntax errors are detected by the Python interpreter before the program is executed, while exceptions occur during\n",
    "program execution. Syntax errors are usually caused by mistakes in the code, while exceptions can be caused by a variety of factors, including invalid input data, network errors,\n",
    "and resource exhaustion. Additionally, syntax errors prevent the program from running, while exceptions can be caught and handled by the program, allowing it to recover and continue running."
   ]
  },
  {
   "cell_type": "markdown",
   "id": "4b843ef8-08b0-4962-8b1d-2dde9ea8a171",
   "metadata": {},
   "source": [
    "### Q2. What happens when an exception is not handled? Explain with an example."
   ]
  },
  {
   "cell_type": "code",
   "execution_count": null,
   "id": "0bb51a16-5f14-4496-a50a-71322aacdef1",
   "metadata": {},
   "outputs": [],
   "source": [
    "#Answer.\n",
    "When an exception is not handled in Python, the program will terminate and an error message will be displayed, indicating the type of exception that occurred and\n",
    "the line number in the code where the exception occurred. This can be problematic, as it means that the program is unable to recover from the error and will simply stop running."
   ]
  },
  {
   "cell_type": "code",
   "execution_count": 5,
   "id": "239ad8cf-9a82-4f06-8009-cecf8bc92d98",
   "metadata": {},
   "outputs": [
    {
     "name": "stdin",
     "output_type": "stream",
     "text": [
      "Enter a number:  1\n"
     ]
    }
   ],
   "source": [
    "#Here's an example to illustrate what happens when an exception is not handled:\n",
    "try:\n",
    "    x = int(input(\"Enter a number: \"))\n",
    "    y = 10 / x\n",
    "except ZeroDivisionError:\n",
    "    print(\"Error: Division by zero\")"
   ]
  },
  {
   "cell_type": "code",
   "execution_count": 6,
   "id": "a45577a1-517f-47c1-ac60-a9434a3d3ae0",
   "metadata": {},
   "outputs": [
    {
     "name": "stdin",
     "output_type": "stream",
     "text": [
      "Enter a number:  232\n"
     ]
    },
    {
     "name": "stdout",
     "output_type": "stream",
     "text": [
      "End of program\n"
     ]
    }
   ],
   "source": [
    "#Now let's modify the example to remove the except block:\n",
    "try:\n",
    "    x = int(input(\"Enter a number: \"))\n",
    "    y = 10 / x\n",
    "finally:\n",
    "    print(\"End of program\")"
   ]
  },
  {
   "cell_type": "markdown",
   "id": "f203c324-8242-4bf5-bdc8-0af69fbe97f1",
   "metadata": {},
   "source": [
    "### Q3. Which python statements are used to catch and handle exceptions? EExpalin with an example."
   ]
  },
  {
   "cell_type": "code",
   "execution_count": 11,
   "id": "1b0c5d15-02c6-4a02-ab32-d50837ca8c39",
   "metadata": {},
   "outputs": [
    {
     "name": "stdin",
     "output_type": "stream",
     "text": [
      "Enter a number:  0\n"
     ]
    },
    {
     "name": "stdout",
     "output_type": "stream",
     "text": [
      "Error: Division by zero\n"
     ]
    }
   ],
   "source": [
    "#Here's an example to illustrate how the try-except block works:\n",
    "try:\n",
    "    x = int(input(\"Enter a number: \"))\n",
    "    y = 10 / x\n",
    "    print(\"y =\", y)\n",
    "except ValueError:\n",
    "    print(\"Error: Invalid input\")\n",
    "except ZeroDivisionError:\n",
    "    print(\"Error: Division by zero\")\n"
   ]
  },
  {
   "cell_type": "markdown",
   "id": "9aeca2e8-847d-4606-8278-a34d642f7822",
   "metadata": {},
   "source": [
    "### Q4.Explain with an example:\n",
    "* a.try and else\n",
    "* b. finally\n",
    "* c. raise"
   ]
  },
  {
   "cell_type": "code",
   "execution_count": 12,
   "id": "5cf587e3-f6f2-46b5-ad7c-1dbec436789d",
   "metadata": {},
   "outputs": [
    {
     "name": "stdout",
     "output_type": "stream",
     "text": [
      "this is my execept block [Errno 2] No such file or directory: 'test3.txt'\n"
     ]
    }
   ],
   "source": [
    "#try and else\n",
    "#Here's an example to illustrate how the try-else block works:\n",
    "try:\n",
    "    f1 = open(\"test3.txt\",'r')\n",
    "    f1.write(\"this is info1 my files\")\n",
    "    \n",
    "except Exception as e :\n",
    "    print(\"this is my execept block\",e)\n",
    "else:\n",
    "    f1.close()\n",
    "    print(\"this will be executed once your try will excute without error\")"
   ]
  },
  {
   "cell_type": "code",
   "execution_count": 13,
   "id": "2bc32c86-9332-4f60-b60f-878f6c2629f0",
   "metadata": {},
   "outputs": [
    {
     "name": "stdout",
     "output_type": "stream",
     "text": [
      "finally will excute itself in any situation\n"
     ]
    }
   ],
   "source": [
    "#Finally\n",
    "#Here's an example to illustrate how the finally block works:\n",
    "try:\n",
    "    f = open(\"test11.txt\",'w')\n",
    "    f.write ('write something')\n",
    "finally :\n",
    "    print(\"finally will excute itself in any situation\")"
   ]
  },
  {
   "cell_type": "code",
   "execution_count": 14,
   "id": "d5d95f1d-a333-4a07-938a-65d9d125d14a",
   "metadata": {},
   "outputs": [],
   "source": [
    "#Raise\n",
    "#Here's an example to illustrate how the Raise block works:\n",
    "class validateage(Exception):\n",
    "    def __init__(self,msg):\n",
    "        self.msg = msg"
   ]
  },
  {
   "cell_type": "code",
   "execution_count": 15,
   "id": "145b1b5b-0bb4-4cca-9054-6a237528bc1f",
   "metadata": {},
   "outputs": [],
   "source": [
    "def validaetage(age):\n",
    "    if age <0:\n",
    "        raise validateage(\"entered ags is negative\")\n",
    "        \n",
    "    elif age>200:\n",
    "        raise validateage(\"enter age is very very high\")\n",
    "        \n",
    "    else:\n",
    "        print(\"age is valid\")"
   ]
  },
  {
   "cell_type": "code",
   "execution_count": 16,
   "id": "9f6ea841-657f-49ab-adeb-333259518e31",
   "metadata": {},
   "outputs": [
    {
     "name": "stdin",
     "output_type": "stream",
     "text": [
      "enter your age 4444\n"
     ]
    },
    {
     "name": "stdout",
     "output_type": "stream",
     "text": [
      "enter age is very very high\n"
     ]
    }
   ],
   "source": [
    "try:\n",
    "    age =int(input(\"enter your age\"))\n",
    "    validaetage(age)\n",
    "except validateage as e:\n",
    "    print(e)"
   ]
  },
  {
   "cell_type": "markdown",
   "id": "b7bafa7d-f5a1-43a6-8f73-7e47261a1125",
   "metadata": {},
   "source": [
    "### Q5. What are Custom Exceptions in python? Why do we need Custom Exception? Explain with an example"
   ]
  },
  {
   "cell_type": "code",
   "execution_count": 17,
   "id": "68773278-467f-4fcd-a1a5-e4e8fe6e29dd",
   "metadata": {},
   "outputs": [],
   "source": [
    "#Here's an example to illustrate how to define and use a custom exception in Python\n",
    "class InvalidNameError(Exception):\n",
    "    pass\n",
    "\n",
    "def greet(name):\n",
    "    if not isinstance(name, str):\n",
    "        raise InvalidNameError(\"Name must be a string\")\n",
    "    print(f\"Hello, {name}!\")"
   ]
  },
  {
   "cell_type": "code",
   "execution_count": 18,
   "id": "c97173f6-e6f1-47d3-a9c0-5ff200dbfdd0",
   "metadata": {},
   "outputs": [
    {
     "name": "stdout",
     "output_type": "stream",
     "text": [
      "Hello, John!\n"
     ]
    },
    {
     "ename": "InvalidNameError",
     "evalue": "Name must be a string",
     "output_type": "error",
     "traceback": [
      "\u001b[1;31m---------------------------------------------------------------------------\u001b[0m",
      "\u001b[1;31mInvalidNameError\u001b[0m                          Traceback (most recent call last)",
      "\u001b[1;32m~\\AppData\\Local\\Temp\\ipykernel_11880\\3484842631.py\u001b[0m in \u001b[0;36m<module>\u001b[1;34m\u001b[0m\n\u001b[0;32m      1\u001b[0m \u001b[1;31m# Example usage\u001b[0m\u001b[1;33m\u001b[0m\u001b[1;33m\u001b[0m\u001b[0m\n\u001b[0;32m      2\u001b[0m \u001b[0mgreet\u001b[0m\u001b[1;33m(\u001b[0m\u001b[1;34m\"John\"\u001b[0m\u001b[1;33m)\u001b[0m  \u001b[1;31m# Output: Hello, John!\u001b[0m\u001b[1;33m\u001b[0m\u001b[1;33m\u001b[0m\u001b[0m\n\u001b[1;32m----> 3\u001b[1;33m \u001b[0mgreet\u001b[0m\u001b[1;33m(\u001b[0m\u001b[1;36m123\u001b[0m\u001b[1;33m)\u001b[0m    \u001b[1;31m# Raises InvalidNameError: Name must be a string\u001b[0m\u001b[1;33m\u001b[0m\u001b[1;33m\u001b[0m\u001b[0m\n\u001b[0m",
      "\u001b[1;32m~\\AppData\\Local\\Temp\\ipykernel_11880\\1383902636.py\u001b[0m in \u001b[0;36mgreet\u001b[1;34m(name)\u001b[0m\n\u001b[0;32m      5\u001b[0m \u001b[1;32mdef\u001b[0m \u001b[0mgreet\u001b[0m\u001b[1;33m(\u001b[0m\u001b[0mname\u001b[0m\u001b[1;33m)\u001b[0m\u001b[1;33m:\u001b[0m\u001b[1;33m\u001b[0m\u001b[1;33m\u001b[0m\u001b[0m\n\u001b[0;32m      6\u001b[0m     \u001b[1;32mif\u001b[0m \u001b[1;32mnot\u001b[0m \u001b[0misinstance\u001b[0m\u001b[1;33m(\u001b[0m\u001b[0mname\u001b[0m\u001b[1;33m,\u001b[0m \u001b[0mstr\u001b[0m\u001b[1;33m)\u001b[0m\u001b[1;33m:\u001b[0m\u001b[1;33m\u001b[0m\u001b[1;33m\u001b[0m\u001b[0m\n\u001b[1;32m----> 7\u001b[1;33m         \u001b[1;32mraise\u001b[0m \u001b[0mInvalidNameError\u001b[0m\u001b[1;33m(\u001b[0m\u001b[1;34m\"Name must be a string\"\u001b[0m\u001b[1;33m)\u001b[0m\u001b[1;33m\u001b[0m\u001b[1;33m\u001b[0m\u001b[0m\n\u001b[0m\u001b[0;32m      8\u001b[0m     \u001b[0mprint\u001b[0m\u001b[1;33m(\u001b[0m\u001b[1;34mf\"Hello, {name}!\"\u001b[0m\u001b[1;33m)\u001b[0m\u001b[1;33m\u001b[0m\u001b[1;33m\u001b[0m\u001b[0m\n",
      "\u001b[1;31mInvalidNameError\u001b[0m: Name must be a string"
     ]
    }
   ],
   "source": [
    "# Example usage\n",
    "greet(\"John\")  # Output: Hello, John!\n",
    "greet(123)    # Raises InvalidNameError: Name must be a string"
   ]
  },
  {
   "cell_type": "markdown",
   "id": "1ada06cb-b5d3-4367-a0b5-1002f647b2ad",
   "metadata": {},
   "source": [
    "### Q6. Create acustom exception class. use this class to handle an exception."
   ]
  },
  {
   "cell_type": "code",
   "execution_count": 21,
   "id": "1f1e6a3d-818f-492a-a4f4-66248eff0220",
   "metadata": {},
   "outputs": [
    {
     "name": "stdout",
     "output_type": "stream",
     "text": [
      "Error: Negative numbers are not allowed\n"
     ]
    }
   ],
   "source": [
    "#here's an example of creating a custom exception class and using it to handle an exception:\n",
    "class NegativeNumberError(Exception):\n",
    "    \"\"\"Custom exception for negative numbers\"\"\"\n",
    "    pass\n",
    "\n",
    "def calculate_square_root(num):\n",
    "    \"\"\"Calculate the square root of a positive number\"\"\"\n",
    "    if num < 0:\n",
    "        raise NegativeNumberError(\"Negative numbers are not allowed\")\n",
    "    return num ** 0.5\n",
    "\n",
    "# Example usage\n",
    "try:\n",
    "    result = calculate_square_root(-9)\n",
    "except NegativeNumberError as e:\n",
    "    print(\"Error:\", e)\n",
    "else:\n",
    "    print(\"Result:\", result)\n"
   ]
  },
  {
   "cell_type": "code",
   "execution_count": null,
   "id": "7c4cfe7a-ec86-4696-b91c-0dd043eee252",
   "metadata": {},
   "outputs": [],
   "source": []
  }
 ],
 "metadata": {
  "kernelspec": {
   "display_name": "Python 3 (ipykernel)",
   "language": "python",
   "name": "python3"
  },
  "language_info": {
   "codemirror_mode": {
    "name": "ipython",
    "version": 3
   },
   "file_extension": ".py",
   "mimetype": "text/x-python",
   "name": "python",
   "nbconvert_exporter": "python",
   "pygments_lexer": "ipython3",
   "version": "3.9.13"
  }
 },
 "nbformat": 4,
 "nbformat_minor": 5
}
