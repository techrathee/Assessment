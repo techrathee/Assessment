{
 "cells": [
  {
   "cell_type": "markdown",
   "id": "0a7169ca-56e9-47ff-8d52-ef256e8b008f",
   "metadata": {},
   "source": [
    "# Assignment "
   ]
  },
  {
   "cell_type": "markdown",
   "id": "3d94522a-7cb4-438e-8915-29ddac2aba84",
   "metadata": {},
   "source": [
    "## 03 feb 2023"
   ]
  },
  {
   "cell_type": "markdown",
   "id": "11fb85b4-48cc-4196-8e0a-9bd0751b34a9",
   "metadata": {},
   "source": [
    "### Q1. Which keyword is used to create a function? Create a function to return a list of odd numbers in the range of 1 to 25."
   ]
  },
  {
   "cell_type": "code",
   "execution_count": 5,
   "id": "94a1802b-7046-4bd1-86f3-d7927d51fe3d",
   "metadata": {},
   "outputs": [],
   "source": [
    "#Ans.\n",
    "#Here is an example of a Python function that returns a list of odd numbers in the range of 1 to 25\n",
    "def get_odd_numbers():\n",
    "    odd_numbers = []\n",
    "    for num in range(1, 26):\n",
    "        if num % 2 != 0:\n",
    "            odd_numbers.append(num)\n",
    "    return odd_numbers\n"
   ]
  },
  {
   "cell_type": "code",
   "execution_count": 2,
   "id": "4441dcba-c857-4a5e-a16e-1096fbb4f920",
   "metadata": {},
   "outputs": [
    {
     "data": {
      "text/plain": [
       "[1, 3, 5, 7, 9, 11, 13, 15, 17, 19, 21, 23, 25]"
      ]
     },
     "execution_count": 2,
     "metadata": {},
     "output_type": "execute_result"
    }
   ],
   "source": [
    "get_odd_numbers()"
   ]
  },
  {
   "cell_type": "markdown",
   "id": "0036c2f1-429e-4550-b011-61543d3cf5c1",
   "metadata": {},
   "source": [
    "### Q2. Why *args and **kwargs is used in some functions? Create a function each for *args and **kwargs to demonstrate their use."
   ]
  },
  {
   "cell_type": "code",
   "execution_count": null,
   "id": "422de14d-f044-44e4-b787-d1d1e6cdf26f",
   "metadata": {},
   "outputs": [],
   "source": [
    "#Ans.\n",
    "*args is used to pass a variable number of non-keyword arguments to a function, where each argument is treated as a positional argument. \n",
    "The *args parameter should always come after any positional parameters in the function signature. \n",
    "The arguments passed using *args are collected into a tuple\n"
   ]
  },
  {
   "cell_type": "code",
   "execution_count": 1,
   "id": "f0ec67ca-c6df-4220-979f-9904a2b81440",
   "metadata": {},
   "outputs": [],
   "source": [
    "#Ans.\n",
    "#Here's an example function that uses *args:\n",
    "def sum_all(*args):\n",
    "    return sum(args)\n"
   ]
  },
  {
   "cell_type": "code",
   "execution_count": 5,
   "id": "96387ede-29fa-4fee-a8bb-25c3d9802e04",
   "metadata": {},
   "outputs": [
    {
     "data": {
      "text/plain": [
       "210"
      ]
     },
     "execution_count": 5,
     "metadata": {},
     "output_type": "execute_result"
    }
   ],
   "source": [
    "#In the above function, we can pass any number of arguments to the function, and it will return the sum of all the arguments. \n",
    "#Here's how we can use the function:\n",
    "sum_all(10, 20, 30, 40, 50, 60)\n"
   ]
  },
  {
   "cell_type": "code",
   "execution_count": null,
   "id": "1f1dbb1a-6c35-4d37-b5ce-6d68d5c06198",
   "metadata": {},
   "outputs": [],
   "source": [
    "#Kwargs\n",
    "**kwargs is used to pass a variable number of keyword arguments to a function, where each argument is treated as a key-value pair. \n",
    "The **kwargs parameter should always come after any positional parameters and *args in the function signature. \n",
    "The arguments passed using **kwargs are collected into a dictionary.\n"
   ]
  },
  {
   "cell_type": "code",
   "execution_count": 6,
   "id": "de8a3e56-ff94-447b-b0cd-70eca4306491",
   "metadata": {},
   "outputs": [],
   "source": [
    "#Here's an example function that uses **kwargs:\n",
    "def print_kwargs(**kwargs):\n",
    "    for key, value in kwargs.items():\n",
    "        print(f\"{key}: {value}\")\n"
   ]
  },
  {
   "cell_type": "code",
   "execution_count": 7,
   "id": "c7ddae24-fcaa-4343-a319-8a95c5193ac5",
   "metadata": {},
   "outputs": [
    {
     "name": "stdout",
     "output_type": "stream",
     "text": [
      "color: blue\n",
      "size: large\n",
      "material: cotton\n"
     ]
    }
   ],
   "source": [
    "#it will print out each key-value pair.\n",
    "print_kwargs(color=\"blue\", size=\"large\", material=\"cotton\")\n"
   ]
  },
  {
   "cell_type": "markdown",
   "id": "7962eec1-8f88-406f-b860-af9c013e11c9",
   "metadata": {},
   "source": [
    "### Q3. What is an iterator in python? Name the method used to initialise the iterator object and the method\n",
    "used for iteration. Use these methods to print the first five elements of the given list [2, 4, 6, 8, 10, 12, 14,\n",
    "16, 18, 20]."
   ]
  },
  {
   "cell_type": "code",
   "execution_count": null,
   "id": "93e8a111-5f45-43b5-9469-007154e31a83",
   "metadata": {},
   "outputs": [],
   "source": [
    "#Ans.\n",
    "An iterator in Python is an object that implements the iterator protocol, which consists of two methods: __iter__() and __next__().\n",
    "An iterator can be used to traverse the elements of a sequence or a container, one at a time, without loading the entire sequence into memory at once.\n",
    "\n",
    "To create an iterator object, we can use the iter() function, which takes an iterable as an argument and returns an iterator.\n",
    "To iterate over the elements of an iterator, we can use the next() function, which returns the next element in the sequence.\n",
    "When there are no more elements in the sequence, next() raises the StopIteration exception.\n"
   ]
  },
  {
   "cell_type": "code",
   "execution_count": 8,
   "id": "7542a918-f151-4e89-93c0-3a9e49b71c1a",
   "metadata": {},
   "outputs": [
    {
     "name": "stdout",
     "output_type": "stream",
     "text": [
      "2\n",
      "4\n",
      "6\n",
      "8\n",
      "10\n"
     ]
    }
   ],
   "source": [
    "#To print the first five elements of the given list [2, 4, 6, 8, 10, 12, 14, 16, 18, 20], we can use the following code:\n",
    "lst = [2, 4, 6, 8, 10, 12, 14, 16, 18, 20]\n",
    "\n",
    "\n",
    "it = iter(lst)\n",
    "\n",
    "\n",
    "for i in range(5):\n",
    "    print(next(it))\n"
   ]
  },
  {
   "cell_type": "markdown",
   "id": "0d21cd9f-1aa3-439f-bfb2-90206a8e66c3",
   "metadata": {},
   "source": [
    "### Q4. What is a generator function in python? Why yield keyword is used? Give an example of a generator function."
   ]
  },
  {
   "cell_type": "code",
   "execution_count": null,
   "id": "2ac8db48-b4d8-475d-a7a9-39676d484d22",
   "metadata": {},
   "outputs": [],
   "source": [
    "#Ans.\n",
    "In Python, a generator function is a special type of function that generates a sequence of values instead of returning a single value.\n",
    "It allows us to generate a sequence of values on-the-fly without creating an entire sequence in memory,\n",
    "which can be especially useful when dealing with large data sets.\n",
    "\n",
    "The yield keyword is used to produce a value from the generator function and temporarily suspends the execution of the function,\n",
    "allowing the generator to be resumed from where it left off the next time the next() function is called on the generator object.\n",
    "This means that the generator function can produce a series of values over time, and only generates each value when it is needed."
   ]
  },
  {
   "cell_type": "code",
   "execution_count": 9,
   "id": "44a11af1-2745-4d4d-a07e-4a99a3aa3aac",
   "metadata": {},
   "outputs": [
    {
     "name": "stdin",
     "output_type": "stream",
     "text": [
      "Enter the number of element you are looking for  10\n"
     ]
    },
    {
     "name": "stdout",
     "output_type": "stream",
     "text": [
      "0\n",
      "1\n",
      "1\n",
      "2\n",
      "3\n",
      "5\n",
      "8\n",
      "13\n",
      "21\n",
      "34\n"
     ]
    }
   ],
   "source": [
    "# Here's an example of a generator function that generates a sequence of Fibonacci numbers:\n",
    "# finonacci series\n",
    "number = int(input(\"Enter the number of element you are looking for \"))\n",
    "\n",
    "a , b = 0 ,1\n",
    "\n",
    "counter = 0\n",
    "\n",
    "while counter < number :\n",
    "    print(a)\n",
    "    c = a+b\n",
    "    \n",
    "    a = b\n",
    "    \n",
    "    b = c\n",
    "    \n",
    "    counter = counter + 1\n",
    "    "
   ]
  },
  {
   "cell_type": "markdown",
   "id": "013a81dc-7c77-44a8-97ed-ea071cb98bc6",
   "metadata": {},
   "source": [
    "### Q5. Create a generator function for prime numbers less than 1000. Use the next() method to print the first 20 prime numbers."
   ]
  },
  {
   "cell_type": "code",
   "execution_count": 18,
   "id": "f155ffb2-8f04-4ac9-9c46-ecaf7ae2deeb",
   "metadata": {},
   "outputs": [],
   "source": [
    "#Ans.\n",
    "# here's a generator function that generates prime numbers less than 1000 using the Sieve of Eratosthenes algorithm:\n",
    "def primes():\n",
    "\n",
    "    primes_list = []\n",
    "    \n",
    "\n",
    "    for num in range(2, 1000):\n",
    "\n",
    "        is_prime = True\n",
    "        \n",
    "\n",
    "        for prime in primes_list:\n",
    "            if num % prime == 0:\n",
    "                is_prime = False\n",
    "                break\n",
    "        \n",
    "\n",
    "        if is_prime:\n",
    "            primes_list.append(num)\n",
    "            yield num\n"
   ]
  },
  {
   "cell_type": "code",
   "execution_count": 19,
   "id": "c829b315-5c64-43f4-8f61-7bf71190c970",
   "metadata": {},
   "outputs": [
    {
     "name": "stdout",
     "output_type": "stream",
     "text": [
      "2\n",
      "3\n",
      "5\n",
      "7\n",
      "11\n",
      "13\n",
      "17\n",
      "19\n",
      "23\n",
      "29\n",
      "31\n",
      "37\n",
      "41\n",
      "43\n",
      "47\n",
      "53\n",
      "59\n",
      "61\n",
      "67\n",
      "71\n"
     ]
    }
   ],
   "source": [
    "#To print the first 20 prime numbers, we can use the next() method in a loop:\n",
    "\n",
    "primes_generator = primes()\n",
    "\n",
    "for i in range(20):\n",
    "    print(next(primes_generator))\n"
   ]
  },
  {
   "cell_type": "markdown",
   "id": "b08eed86-547c-46d2-887d-7debe9e35db3",
   "metadata": {},
   "source": [
    "### Q6. Write a python program to print the first 10 Fibonacci numbers using a while loop."
   ]
  },
  {
   "cell_type": "code",
   "execution_count": 6,
   "id": "022439f0-36c7-40b9-8cce-5e3d71780cb1",
   "metadata": {},
   "outputs": [
    {
     "name": "stdout",
     "output_type": "stream",
     "text": [
      "0\n",
      "1\n",
      "1\n",
      "2\n",
      "3\n",
      "5\n",
      "8\n",
      "13\n",
      "21\n",
      "34\n"
     ]
    }
   ],
   "source": [
    "#Ans.\n",
    "#here's a Python program to print the first 10 Fibonacci numbers using a while loop:\n",
    "\n",
    "\n",
    "a , b = 0 ,1\n",
    "\n",
    "\n",
    "counter = 0\n",
    "\n",
    "\n",
    "while counter < 10 :\n",
    "    print(a)\n",
    "    c = a+b\n",
    "    a = b\n",
    "    b = c\n",
    "    counter = counter + 1"
   ]
  },
  {
   "cell_type": "markdown",
   "id": "884b2231-3b18-4e4c-b15a-ba1e82f63797",
   "metadata": {},
   "source": [
    "### Q7. Write a List Comprehension to iterate through the given string: ‘pwskills’. Expected output: ['p', 'w', 's', 'k', 'i', 'l', 'l', 's']"
   ]
  },
  {
   "cell_type": "code",
   "execution_count": 9,
   "id": "878cf17c-a600-43e3-af48-eb21c0785e28",
   "metadata": {},
   "outputs": [
    {
     "name": "stdout",
     "output_type": "stream",
     "text": [
      "['p', 'w', 's', 'k', 'i', 'l', 'l', 's']\n"
     ]
    }
   ],
   "source": [
    "#Ans. Here's a list comprehension that iterates through the given string 'pwskills' and creates a list of the desired output:\n",
    "string = 'pwskills'\n",
    "\n",
    "output_list = [char for char in string if char in ['p', 'w', 's', 'k', 'i', 'l','l','s']]\n",
    "\n",
    "print(output_list)\n"
   ]
  },
  {
   "cell_type": "markdown",
   "id": "93b12fdd-9653-47ec-82fd-28988e380594",
   "metadata": {},
   "source": [
    "### Q8. Write a python program to check whether a given number is Palindrome or not using a while loop."
   ]
  },
  {
   "cell_type": "code",
   "execution_count": 17,
   "id": "fce5e02e-e3aa-4d18-9bb2-a7e5ade023c7",
   "metadata": {},
   "outputs": [
    {
     "name": "stdin",
     "output_type": "stream",
     "text": [
      "Enter a number:  78987\n"
     ]
    },
    {
     "name": "stdout",
     "output_type": "stream",
     "text": [
      "The number is a palindrome\n"
     ]
    }
   ],
   "source": [
    "#Ans.\n",
    "# here's a Python program to check whether a given number is a palindrome or not using a while loop: \n",
    "# take user input for the number to check\n",
    "num = int(input(\"Enter a number: \"))\n",
    "\n",
    "\n",
    "original_num = num\n",
    "\n",
    "\n",
    "reverse_num = 0\n",
    "\n",
    "\n",
    "while num > 0:\n",
    "\n",
    "    reverse_num = (reverse_num * 10) + (num % 10)\n",
    "    \n",
    "    num //= 10\n",
    "\n",
    "# check if the original number and its reverse are equal\n",
    "if original_num == reverse_num:\n",
    "    print(\"The number is a palindrome\")\n",
    "else:\n",
    "    print(\"The number is not a palindrome\")\n"
   ]
  },
  {
   "cell_type": "markdown",
   "id": "f7edfb5d-2857-4ff4-b562-8f10e038f07c",
   "metadata": {},
   "source": [
    "### Q9. Write a code to print odd numbers from 1 to 100 using list comprehension.\n",
    "* Note: Use a list comprehension to create a list from 1 to 100 and use another List comprehension to filter\n",
    "out odd numbers."
   ]
  },
  {
   "cell_type": "code",
   "execution_count": 20,
   "id": "b82a526a-1537-4fae-b95d-518eb1989d03",
   "metadata": {},
   "outputs": [
    {
     "name": "stdout",
     "output_type": "stream",
     "text": [
      "[1, 3, 5, 7, 9, 11, 13, 15, 17, 19, 21, 23, 25, 27, 29, 31, 33, 35, 37, 39, 41, 43, 45, 47, 49, 51, 53, 55, 57, 59, 61, 63, 65, 67, 69, 71, 73, 75, 77, 79, 81, 83, 85, 87, 89, 91, 93, 95, 97, 99]\n"
     ]
    }
   ],
   "source": [
    "# here's a Python code to print odd numbers from 1 to 100 using list comprehension:\n",
    "\n",
    "# create a list of numbers from 1 to 100 using list comprehension\n",
    "numbers = [i for i in range(1, 101)]\n",
    "\n",
    "\n",
    "odd_numbers = [num for num in numbers if num % 2 != 0]\n",
    "\n",
    "# print the list of odd numbers\n",
    "print(odd_numbers)\n"
   ]
  },
  {
   "cell_type": "code",
   "execution_count": null,
   "id": "9369ea7e-0f83-490a-beb0-a19e0e268d28",
   "metadata": {},
   "outputs": [],
   "source": []
  },
  {
   "cell_type": "code",
   "execution_count": null,
   "id": "50615ba0-5f71-470f-8572-020dbbf988f7",
   "metadata": {},
   "outputs": [],
   "source": []
  },
  {
   "cell_type": "code",
   "execution_count": null,
   "id": "e56999e7-455d-4b08-bbf7-e72886b577aa",
   "metadata": {},
   "outputs": [],
   "source": []
  }
 ],
 "metadata": {
  "kernelspec": {
   "display_name": "Python 3 (ipykernel)",
   "language": "python",
   "name": "python3"
  },
  "language_info": {
   "codemirror_mode": {
    "name": "ipython",
    "version": 3
   },
   "file_extension": ".py",
   "mimetype": "text/x-python",
   "name": "python",
   "nbconvert_exporter": "python",
   "pygments_lexer": "ipython3",
   "version": "3.9.13"
  }
 },
 "nbformat": 4,
 "nbformat_minor": 5
}
