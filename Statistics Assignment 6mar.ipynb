{
 "cells": [
  {
   "cell_type": "markdown",
   "id": "6b871d1c-1581-4378-bbd9-5eb82de4e423",
   "metadata": {},
   "source": [
    "# Statistics Basic-1"
   ]
  },
  {
   "cell_type": "markdown",
   "id": "8cb87c95-e802-4cb3-9752-1388343bbaca",
   "metadata": {},
   "source": [
    "## 06mar 2023"
   ]
  },
  {
   "cell_type": "markdown",
   "id": "535fb361-ca91-45f2-b9d0-a30fd10a2931",
   "metadata": {},
   "source": [
    "### Q1. What is Statistics?"
   ]
  },
  {
   "cell_type": "code",
   "execution_count": null,
   "id": "e4523e41-7902-4b22-b940-cd0a0b12db0a",
   "metadata": {},
   "outputs": [],
   "source": [
    "Answer.\n",
    "Statistics is a branch of mathematics that deals with the collection, analysis, interpretation, presentation, and organization of data. It involves the use of mathematical and \n",
    "statistical methods to gather, summarize, and draw conclusions from data in order to make informed decisions or to understand and describe phenomena in various fields.\n",
    "\n",
    "In a broad sense, statistics encompasses two main areas: descriptive statistics and inferential statistics.\n",
    "\n",
    "Descriptive statistics involves the collection and presentation of data in a meaningful way. This includes techniques for summarizing data using measures such as averages\n",
    "(mean, median, mode), dispersion (standard deviation, variance, range), and graphical representations (histograms, bar charts, scatter plots). Descriptive statistics allow \n",
    "us to describe and understand the characteristics of a dataset.\n",
    "\n",
    "Inferential statistics, on the other hand, involves using data from a sample to make inferences or predictions about a larger population. It involves techniques such as hypothesis \n",
    "testing, confidence intervals, and regression analysis. Inferential statistics allows us to draw conclusions and make generalizations based on limited data.\n",
    "\n",
    "Statistics is widely used in various fields such as economics, business, medicine, social sciences, engineering, and more. It provides the tools and methods to analyze data, \n",
    "identify patterns and trends, test hypotheses, and make evidence-based decisions.\n"
   ]
  },
  {
   "cell_type": "markdown",
   "id": "7e09cdd0-5b7c-4331-a238-b71c3c12e3f3",
   "metadata": {},
   "source": [
    "### Q2. Define the different types of statistics and give an example of when each type might be used."
   ]
  },
  {
   "cell_type": "code",
   "execution_count": null,
   "id": "ec0973c7-649c-461a-89dc-7b2c0eb3f615",
   "metadata": {},
   "outputs": [],
   "source": [
    "Answer.\n",
    "There are two main types of statistics: descriptive statistics and inferential statistics. Let's define each type and provide examples of when they might be used:\n",
    "\n",
    "1. Descriptive Statistics:\n",
    "    \n",
    "    Descriptive statistics involves organizing, summarizing, and presenting data in a meaningful way. It aims to describe the main features of a dataset. Here are a few common\n",
    "    measures used in descriptive statistics:\n",
    "        \n",
    "        * Measures of Central Tendency: These measures describe the central or average value of a dataset. Examples include the mean, median, and mode. For instance, the mean income \n",
    "        of a group of individuals can provide a representative value for their earnings.\n",
    "        \n",
    "        * Measures of Dispersion: These measures describe the spread or variability in a dataset. Examples include the standard deviation, variance, and range. \n",
    "        For instance, the standard deviation of test scores can indicate how much the scores deviate from the mean, providing insight into the variability of performance.\n",
    "        \n",
    "        * Graphical Representations: Various graphical representations, such as histograms, bar charts, and pie charts, are used to visually represent data. For example,\n",
    "        a histogram can show the distribution of heights in a population.\n",
    "        \n",
    "        * Descriptive statistics are often used to summarize and describe data in fields such as market research, social sciences, healthcare, and quality control.\n",
    "        \n",
    "\n",
    "2. Inferential Statistics:\n",
    "    \n",
    "    Inferential statistics involves making inferences or generalizations about a population based on data from a sample. It is used to draw conclusions, make predictions, \n",
    "    and test hypotheses. Here are a few common techniques used in inferential statistics:\n",
    "        \n",
    "        * Hypothesis Testing: This involves testing a specific hypothesis about a population parameter using sample data. For example, a researcher might use hypothesis testing to \n",
    "        determine if a new drug has a significant effect on reducing blood pressure compared to a placebo.\n",
    "        \n",
    "        * Confidence Intervals: Confidence intervals provide a range of values within which a population parameter is likely to fall. They are used to estimate the true value of a\n",
    "        parameter based on sample data. For instance, a confidence interval can estimate the average height of a population based on a sample.\n",
    "        \n",
    "        * Regression Analysis: Regression analysis is used to examine the relationship between variables and make predictions. It can be used to predict sales based on advertising \n",
    "        expenditure, or to study the impact of education level on income.\n",
    "        "
   ]
  },
  {
   "cell_type": "markdown",
   "id": "a4a7a371-c80b-41eb-8996-26a63b17fa42",
   "metadata": {},
   "source": [
    "### Q3. What are the different types of data and how do they differ from each other? Provide an example of each type of data."
   ]
  },
  {
   "cell_type": "code",
   "execution_count": null,
   "id": "ab9d1430-63cb-4cf6-91c7-87414f9be1dd",
   "metadata": {},
   "outputs": [],
   "source": [
    "Answer.\n",
    "There are four main types of data: nominal, ordinal, interval, and ratio. These types differ in terms of the level of measurement and the mathematical operations that can be performed\n",
    "on them. Let's define each type and provide an example for better understanding:'\n",
    "    \n",
    "    1. Nominal Data:\n",
    "        Nominal data represents categories or labels that cannot be ordered or ranked. It is the most basic level of measurement.\n",
    "        Examples include gender (male/female), eye color (blue/green/brown), or marital status (single/married/divorced).\n",
    "        Nominal data can be represented numerically, but the numbers themselves do not possess any quantitative meaning.\n",
    "        \n",
    "    2. Ordinal Data:\n",
    "        Ordinal data represents categories or labels that have a natural order or ranking. The categories have a relative position but do not have a specific magnitude or equal\n",
    "        intervals between them.        \n",
    "        Examples include educational attainment (elementary school/middle school/high school/college), customer satisfaction ratings (very dissatisfied/dissatisfied/\n",
    "        neutral/satisfied/very satisfied), or performance ratings (excellent/good/fair/poor). In ordinal data, the order of the categories is meaningful,but the differences between\n",
    "        categories may not be equal.\n",
    "    \n",
    "    3. Interval Data:\n",
    "        Interval data represents numerical data where the intervals between values are meaningful and equal, but there is no true zero point. In interval data, ratios and proportions \n",
    "        are not meaningful.\n",
    "        Examples include temperature measured in Celsius or Fahrenheit, years (e.g., 2020, 2021, 2022), or Likert scale ratings (1-5 scale with no true zero point).\n",
    "        With interval data, we can perform mathematical operations such as addition and subtraction, but multiplication and division do not hold meaningful interpretations.\n",
    "        \n",
    "    4. Ratio Data:\n",
    "        Ratio data represents numerical data with a meaningful zero point and equal intervals between values. Ratios and proportions are meaningful in ratio data.\n",
    "        Examples include height, weight, time, income, or number of items.\n",
    "        With ratio data, we can perform all mathematical operations, including addition, subtraction, multiplication, and division.\n",
    "        "
   ]
  },
  {
   "cell_type": "markdown",
   "id": "468371b5-0a1c-4aa2-85bf-baf622ee7c31",
   "metadata": {},
   "source": [
    "### Q4. Categorise the following datasets with respect to quantitative and qualitative data types:\n",
    "* (i) Grading in exam: A+, A, B+, B, C+, C, D, E\n",
    "* (ii) Colour of mangoes: yellow, green, orange, red\n",
    "* (iii) Height data of a class: [178.9, 179, 179.5, 176, 177.2, 178.3, 175.8,...]\n",
    "* (iv) Number of mangoes exported by a farm: [500, 600, 478, 672, ...]"
   ]
  },
  {
   "cell_type": "code",
   "execution_count": null,
   "id": "329a4b34-0765-4ee3-8554-b8f9fbf3729f",
   "metadata": {},
   "outputs": [],
   "source": [
    "Answer.\n",
    "(i) Grading in exam: A+, A, B+, B, C+, C, D, E:\n",
    "    \n",
    "    Categorization: This dataset represents qualitative or categorical data. It falls under the ordinal data type because the grades can be ranked or ordered from highest to lowest.\n",
    "    \n",
    "(ii) Colour of mangoes: yellow, green, orange, red:\n",
    "    \n",
    "    Categorization: This dataset represents qualitative or categorical data. It falls under the nominal data type because the colors are distinct categories with no specific order \n",
    "    or ranking.\n",
    "    \n",
    "(iii) Height data of a class: [178.9, 179, 179.5, 176, 177.2, 178.3, 175.8, ...]:\n",
    "    \n",
    "    Categorization: This dataset represents quantitative data. It falls under the ratio data type because it consists of numerical measurements with a meaningful zero point\n",
    "    (height of 0) and equal intervals between values.\n",
    "    \n",
    "(iv) Number of mangoes exported by a farm: [500, 600, 478, 672, ...]:\n",
    "    \n",
    "    Categorization: This dataset represents quantitative data. It falls under the ratio data type because it consists of numerical measurements with a meaningful zero point\n",
    "    (number of mangoes can be 0) and equal intervals between values.\n",
    "    \n",
    "In summary:\n",
    "\n",
    "* The grading dataset is qualitative (ordinal).\n",
    "* The color of mangoes dataset is qualitative (nominal).\n",
    "* The height data of a class is quantitative (ratio).\n",
    "* The number of mangoes exported by a farm is quantitative (ratio).\n"
   ]
  },
  {
   "cell_type": "markdown",
   "id": "48b4a1ba-a84c-4d04-969a-90a66f88f672",
   "metadata": {},
   "source": [
    "### Q5. Explain the concept of levels of measurement and give an example of a variable for each level."
   ]
  },
  {
   "cell_type": "code",
   "execution_count": null,
   "id": "93a6e46b-757a-4fd8-9925-09d87b13251f",
   "metadata": {},
   "outputs": [],
   "source": [
    "Answer.\n",
    "In statistics, the concept of levels of measurement, also known as scales of measurement or levels of data, refers to the way in which variables are measured or classified.\n",
    "There are four commonly recognized levels of measurement: nominal, ordinal, interval, and ratio. These levels represent increasing levels of precision and mathematical properties\n",
    "associated with the variables. Here's an explanation of each level along with an example variable:\n",
    "    \n",
    "    1. Nominal Level: This is the most basic level of measurement, where variables are categorized into distinct groups or categories without any inherent order or numerical value.\n",
    "    The only operations that can be performed on nominal data are counting and frequency calculations.\n",
    "    \n",
    "    Examples of nominal variables include:\n",
    "        \n",
    "        *Eye color (e.g., blue, brown, green)\n",
    "        *Gender (e.g., male, female, other)\n",
    "        *Marital status (e.g., married, single, divorced)\n",
    "        \n",
    "        \n",
    "    2. Ordinal Level: Variables at the ordinal level possess the properties of nominal data, but they also have a natural order or ranking. While the differences between categories \n",
    "    may not be uniform, the order of categories is meaningful. Ordinal data allows for ranking and comparison, but not precise measurement.\n",
    "    \n",
    "    Examples of ordinal variables include:\n",
    "        \n",
    "        *Education level (e.g., high school, bachelor's degree, master's degree)\n",
    "        *Likert scale ratings (e.g., strongly agree, agree, neutral, disagree, strongly disagree)\n",
    "        *Socioeconomic status (e.g., low, middle, high)\n",
    "        \n",
    "    3. Interval Level: Variables at the interval level possess the properties of ordinal data, but with the added feature of equal intervals between values. In this level,\n",
    "    the differences between values are meaningful and consistent, but there is no absolute zero point.\n",
    "    \n",
    "    Examples of interval variables include:\n",
    "        \n",
    "        *Temperature measured in Celsius or Fahrenheit\n",
    "        *Years (e.g., 1990, 2005, 2019)\n",
    "        *IQ scores (e.g., 90, 110, 130)\n",
    "        \n",
    "    4. Ratio Level: Variables at the ratio level possess all the properties of the interval level, but they also have a meaningful and absolute zero point, indicating the absence of \n",
    "    the measured attribute. Ratio data allows for precise mathematical operations such as multiplication and division.\n",
    "    \n",
    "    Examples of ratio variables include:\n",
    "        \n",
    "        *Height in centimeters or inches\n",
    "        *Weight in kilograms or pounds\n",
    "        *Income in dollars\n",
    "        "
   ]
  },
  {
   "cell_type": "markdown",
   "id": "250a445d-b64f-4053-8a06-4f8c470009a8",
   "metadata": {},
   "source": [
    "### Q6. Why is it important to understand the level of measurement when analyzing data? Provide an example to illustrate your answer."
   ]
  },
  {
   "cell_type": "code",
   "execution_count": null,
   "id": "f8a4d545-0d73-4382-9797-bbac2649ee5a",
   "metadata": {},
   "outputs": [],
   "source": [
    "Answer.\n",
    "Understanding the level of measurement is essential when analyzing data because it determines the appropriate statistical techniques and operations that can be applied to the data. \n",
    "Different levels of measurement have distinct mathematical properties, which influence the types of analyses that can be conducted and the meaningful interpretations that can be made.\n",
    "Here's an example to illustrate the importance of understanding the level of measurement:\n",
    "    \n",
    "    Let's consider a research study investigating the effectiveness of three different teaching methods on student performance in a math class. The study collects data on the teaching\n",
    "    method used (nominal), student ratings of teaching method effectiveness on a scale from 1 to 5 (ordinal), and the number of correct answers on a math test (ratio).\n",
    "    \n",
    "    If the researcher fails to recognize the level of measurement, they may inadvertently apply an inappropriate statistical analysis technique. For instance:\n",
    "        \n",
    "        1. Teaching method used (nominal): The researcher cannot perform numerical calculations or apply tests such as t-tests or ANOVA, as there is no numerical value associated \n",
    "        with the categories. Instead, they would use frequency analysis or chi-square tests to examine the distribution and association of teaching methods.\n",
    "        \n",
    "        2. Student ratings of teaching method effectiveness (ordinal): While ordinal data represents a rank order, it lacks the equal intervals required for certain statistical\n",
    "        operations. Applying techniques such as calculating the mean or performing parametric tests like a t-test would be inappropriate. Instead, non-parametric tests like the\n",
    "        Mann-Whitney U test or Kruskal-Wallis test could be used to analyze differences between groups.\n",
    "        \n",
    "        3. Number of correct answers on the math test (ratio): As ratio data possess a meaningful zero point and equal intervals, the researcher can use a variety of statistical \n",
    "        techniques, including calculating means, conducting t-tests, or performing regression analyses. They could analyze the mean scores, perform correlations, or conduct ANOVA \n",
    "        to examine the impact of teaching methods on math performance.\n",
    "        "
   ]
  },
  {
   "cell_type": "markdown",
   "id": "e494903a-910d-43c5-851f-11feff855427",
   "metadata": {},
   "source": [
    "### Q7. How nominal data type is different from ordinal data type."
   ]
  },
  {
   "cell_type": "code",
   "execution_count": null,
   "id": "35bb2551-776a-4fab-b3f8-351f01590c76",
   "metadata": {},
   "outputs": [],
   "source": [
    "Answer.\n",
    "Nominal and ordinal data types are both levels of measurement, but they differ in terms of the properties and characteristics they possess.\n",
    "Here are the main differences between nominal and ordinal data types:\n",
    "    \n",
    "    1. Nature of Categories:\n",
    "        \n",
    "        *Nominal Data:\n",
    "            Nominal data consists of categories or labels that are mutually exclusive and unordered. Each category represents a distinct group without any inherent order or ranking.\n",
    "            Examples include eye color (blue, brown, green) or gender (male, female, other).\n",
    "            \n",
    "        *Ordinal Data:\n",
    "            Ordinal data also consists of categories, but these categories have a natural order or ranking. The categories can be ranked based on some criteria, indicating a relative \n",
    "            position or preference. However, the intervals between the categories may not be uniform.\n",
    "            Examples include educational attainment (high school, bachelor's degree, master's degree) or Likert scale ratings (strongly agree, agree, neutral, disagree, strongly disagree).\n",
    "            \n",
    "    2. Mathematical Operations:\n",
    "        \n",
    "        *Nominal Data:\n",
    "            With nominal data, the only operations that can be performed are counting and frequency calculations. It is not meaningful to perform mathematical operations such as \n",
    "            addition, subtraction, or multiplication on nominal data.\n",
    "            \n",
    "        *Ordinal Data:\n",
    "            Similar to nominal data, ordinal data allows for counting and frequency calculations. Additionally, ordinal data can be ranked and compared. However, the differences between \n",
    "            categories may not be uniform, making precise mathematical operations inappropriate.\n",
    "            \n",
    "    3. Statistical Analyses:\n",
    "        \n",
    "        *Nominal Data:\n",
    "            For nominal data, statistical analyses typically involve examining frequencies, proportions, or percentages of categories. Techniques like chi-square tests can be used to \n",
    "            analyze the association between nominal variables.\n",
    "            \n",
    "        *Ordinal Data:\n",
    "            Statistical analyses for ordinal data include methods that consider the rank order of the categories. These can involve non-parametric tests like the Mann-Whitney U test,\n",
    "            Kruskal-Wallis test, or Spearman's rank correlation.\n",
    "            "
   ]
  },
  {
   "cell_type": "markdown",
   "id": "1948895f-9cd7-4d23-9a4b-e13f5641837c",
   "metadata": {},
   "source": [
    "### Q8. Which type of plot can be used to display data in terms of range?"
   ]
  },
  {
   "cell_type": "code",
   "execution_count": null,
   "id": "d1a2adb2-8b30-4180-950d-cee685a8d034",
   "metadata": {},
   "outputs": [],
   "source": [
    "Answer.\n",
    "To display data in terms of range, a common plot used is a box plot, also known as a box-and-whisker plot. Box plots provide a visual representation of the range, quartiles,\n",
    "and potential outliers in a dataset. They are particularly useful for displaying the spread and distribution of continuous or numerical data.\n",
    "Here's how a box plot represents data in terms of range:\n",
    "    \n",
    "    * The box in the plot represents the interquartile range (IQR), which spans from the first quartile (Q1) to the third quartile (Q3). It encompasses the middle 50% of the data.\n",
    "    * Inside the box, a line or marker indicates the median, which is the value separating the lower and upper halves of the dataset.\n",
    "    * Whiskers extend from the box to represent the minimum and maximum values within a certain range. The specific range of the whiskers can be customized based on the data or\n",
    "    defined statistical criteria.\n",
    "    * Outliers, which are values that fall significantly above or below the rest of the data, may be represented as individual points or markers beyond the whiskers.\n",
    "    "
   ]
  },
  {
   "cell_type": "markdown",
   "id": "c5ee13ba-5fc4-4b54-a863-97330eacb13c",
   "metadata": {},
   "source": [
    "### Q9. Describe the difference between descriptive and inferential statistics. Give an example of each type of statistics and explain how they are used."
   ]
  },
  {
   "cell_type": "code",
   "execution_count": null,
   "id": "60e4e911-3689-4712-b113-e154b844c44a",
   "metadata": {},
   "outputs": [],
   "source": [
    "Answer.\n",
    "Descriptive statistics and inferential statistics are two branches of statistical analysis that serve different purposes.\n",
    "Here's an explanation of the difference between them along with examples and their respective applications:':\n",
    "    \n",
    "    Descriptive Statistics:\n",
    "        Descriptive statistics involve the analysis and summarization of data to provide a clear and concise description of its main features. It focuses on organizing, presenting,\n",
    "        and summarizing data in a meaningful way, without making inferences or generalizations beyond the observed data. Descriptive statistics are used to understand and communicate \n",
    "        the characteristics of a dataset. \n",
    "        \n",
    "        Examples of descriptive statistics include:\n",
    "            \n",
    "            * Measures of central tendency: Mean, median, and mode\n",
    "            * Measures of variability: Range, standard deviation, and variance\n",
    "            * Graphical representations: Histograms, bar charts, pie charts\n",
    "            \n",
    "            For example, consider a study examining the heights of a sample of individuals. Descriptive statistics would be used to calculate and present the average height (mean), \n",
    "            the most frequently occurring height (mode), and the spread of heights (standard deviation or range)\n",
    "            \n",
    "    Inferential Statistics:\n",
    "        Inferential statistics involves drawing conclusions or making inferences about a population based on a sample of data. It utilizes probability theory and sampling techniques\n",
    "        to generalize findings from a smaller group (sample) to a larger population. Inferential statistics allows researchers to make claims, test hypotheses, and estimate population\n",
    "        parameters.\n",
    "        \n",
    "        Examples of inferential statistics include:\n",
    "            \n",
    "            * Hypothesis testing: Comparing sample data to a hypothesized population parameter to determine if there is a significant difference or relationship.\n",
    "            * Confidence intervals: Estimating the range within which a population parameter is likely to fall.\n",
    "            * Regression analysis: Examining the relationship between variables and predicting outcomes.\n",
    "            "
   ]
  },
  {
   "cell_type": "markdown",
   "id": "4cb63fac-15c6-48dd-83b0-a73be0f6dc73",
   "metadata": {},
   "source": [
    "### Q10. What are some common measures of central tendency and variability used in statistics? Explain how each measure can be used to describe a dataset."
   ]
  },
  {
   "cell_type": "code",
   "execution_count": null,
   "id": "ad4e3af4-8914-4b47-8b5c-2cce30cc88c0",
   "metadata": {},
   "outputs": [],
   "source": [
    "Answer.\n",
    "\n",
    "In statistics, measures of central tendency and measures of variability are commonly used to summarize and describe datasets. These measures provide insights into the typical or \n",
    "average value of the data and the degree of dispersion or spread within the dataset. Here are some common measures of central tendency and variability:\n",
    "    \n",
    "    Measures of Central Tendency:\n",
    "        \n",
    "        Mean: \n",
    "            The mean is the most commonly used measure of central tendency. It is calculated by summing up all the values in the dataset and dividing it by the total number of\n",
    "            observations. The mean represents the average value of the data and is sensitive to extreme values.\n",
    "            \n",
    "            Example: The mean can be used to describe the average score of a class on a test.\n",
    "            \n",
    "        Median:\n",
    "            The median is the middle value in a dataset when it is sorted in ascending or descending order. It divides the data into two equal halves, with half the values falling \n",
    "            below and half above the median. The median is less affected by extreme values compared to the mean.\n",
    "            \n",
    "            Example: The median can be used to describe the middle income level in a population.\n",
    "            \n",
    "        Mode:\n",
    "            The mode is the value or values that appear most frequently in the dataset. It represents the most common or dominant value in the data.\n",
    "            \n",
    "            Example: The mode can be used to describe the most frequently occurring eye color in a group of individuals.\n",
    "            \n",
    "    Measures of Variability:\n",
    "        \n",
    "        Range: The range is the simplest measure of variability and is calculated by subtracting the minimum value from the maximum value in the dataset. It provides a measure of the spread between the lowest and highest values in the data.\n",
    "\n",
    "Example: The range can be used to describe the difference in temperatures experienced over a week.\n",
    "Standard Deviation: The standard deviation measures the average distance between each data point and the mean. It provides a measure of the dispersion or spread of the data around the mean. A higher standard deviation indicates a greater amount of variability.\n",
    "\n",
    "Example: The standard deviation can be used to describe the variability of test scores within a classroom.\n",
    "Variance: The variance is the average of the squared differences between each data point and the mean. It provides a measure of the average squared deviation from the mean.\n",
    "\n",
    "Example: The variance can be used to describe the spread of ages within a population."
   ]
  },
  {
   "cell_type": "code",
   "execution_count": null,
   "id": "b39ed729-9163-44ae-bca4-dd45a7e5c572",
   "metadata": {},
   "outputs": [],
   "source": []
  },
  {
   "cell_type": "code",
   "execution_count": null,
   "id": "180af8b9-4df2-4675-b40d-d0fa46aa3420",
   "metadata": {},
   "outputs": [],
   "source": []
  }
 ],
 "metadata": {
  "kernelspec": {
   "display_name": "Python 3 (ipykernel)",
   "language": "python",
   "name": "python3"
  },
  "language_info": {
   "codemirror_mode": {
    "name": "ipython",
    "version": 3
   },
   "file_extension": ".py",
   "mimetype": "text/x-python",
   "name": "python",
   "nbconvert_exporter": "python",
   "pygments_lexer": "ipython3",
   "version": "3.10.8"
  }
 },
 "nbformat": 4,
 "nbformat_minor": 5
}
