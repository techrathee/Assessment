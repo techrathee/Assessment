{
 "cells": [
  {
   "cell_type": "markdown",
   "id": "ed6ccd84-e0a0-49c3-b3de-c249542bdff9",
   "metadata": {},
   "source": [
    "# Multithreading"
   ]
  },
  {
   "cell_type": "markdown",
   "id": "98c40eaa-d3de-4b74-bb9b-973e4d55a19a",
   "metadata": {},
   "source": [
    "## 14feb 2023"
   ]
  },
  {
   "cell_type": "markdown",
   "id": "2649f337-4fb4-4cf8-95b0-be41b46e3902",
   "metadata": {},
   "source": [
    "### Q1. What is multithreading in Python? why is it used? Name the module used to handle threads in python?"
   ]
  },
  {
   "cell_type": "code",
   "execution_count": null,
   "id": "42d9bbdb-dfd9-4dc1-a8ae-03b4a22ae013",
   "metadata": {},
   "outputs": [],
   "source": [
    "Answer.\n",
    "Multithreading in Python is a technique that allows a program to run multiple threads concurrently, where each thread represents a separate path of \n",
    "execution within the same program. Threads share the same memory space, allowing them to access and modify the same data, but they can also operate \n",
    "independently and perform different tasks simultaneously.\n",
    "\n",
    "Multithreading is used in Python to improve the performance of programs that involve tasks that can be executed independently and concurrently.\n",
    "By running multiple threads simultaneously, the program can utilize the available resources more efficiently, resulting in faster execution times\n",
    "and better overall performance.\n",
    "\n",
    "The `threading` module is used to handle threads in Python. It provides a high-level interface for creating, starting, and managing threads,\n",
    "as well as a range of synchronization primitives for coordinating access to shared resources between threads. The `threading` module also provides\n",
    "tools for thread communication and synchronization, such as locks, semaphores, and events, which help prevent race conditions and other concurrency\n",
    "-related issues."
   ]
  },
  {
   "cell_type": "markdown",
   "id": "bc138d5f-59cb-4d5a-83c7-fa476c40eafb",
   "metadata": {},
   "source": [
    "### Q2. Why threading module used? rite the use of the following functions:\n",
    "* activeCount()\n",
    "* currentThread()\n",
    "* enumerate()"
   ]
  },
  {
   "cell_type": "code",
   "execution_count": null,
   "id": "505862e4-65ab-4470-8ca4-27cb32e38166",
   "metadata": {},
   "outputs": [],
   "source": [
    "Answer.\n",
    "ActiveCount()\n",
    "This function returns the number of active threads in the current process. This can be useful for monitoring the status of a multithreaded program and\n",
    "determining how many threads are currently running.\n",
    "\n",
    "CurrentThread()\n",
    "This function returns a reference to the current thread object. This can be useful for accessing information about the current thread, such as its name or ID.\n",
    "\n",
    "Enumerate()\n",
    "This function returns a list of all active thread objects in the current process. This can be useful for iterating over all active threads and performing operations on each one, such\n",
    "as checking their status or terminating them if necessary."
   ]
  },
  {
   "cell_type": "markdown",
   "id": "c6311d8f-b089-4fda-947a-5d80288179be",
   "metadata": {},
   "source": [
    "### Q3. Explain the following function:\n",
    "* run()\n",
    "* start()\n",
    "* join()\n",
    "* isAlive()"
   ]
  },
  {
   "cell_type": "code",
   "execution_count": null,
   "id": "12f050fd-4e38-4476-8fb1-0c73e55428da",
   "metadata": {},
   "outputs": [],
   "source": [
    "Answer.\n",
    "Run()\n",
    "This method is called when the start() method of the Thread class is invoked. It contains the code that will be executed in the thread's context.\n",
    "You should override this method to provide the specific functionality that you want to implement within the thread.\n",
    "\n",
    "Start()\n",
    "This method starts a new thread by calling the run() method in a new thread of execution. You can call the start() method only once for a given Thread instance.\n",
    "If you try to call it again, it will raise an exception.\n",
    "\n",
    "Join()\n",
    "This method blocks the calling thread until the thread on which it is called has completed its execution. This can be useful for synchronizing the main thread with a worker\n",
    "thread, so that the main thread does not continue until the worker thread has completed its work.\n",
    "\n",
    "isAlive()\n",
    "This method returns a boolean value that indicates whether the thread is currently executing (True) or has completed its execution (False).\n",
    "This can be useful for checking the status of a thread and taking appropriate action based on its current state. For example, if a thread is still alive,\n",
    "you might want to wait for it to complete before continuing with other tasks."
   ]
  },
  {
   "cell_type": "markdown",
   "id": "1d51df07-39e9-4739-92e7-959d2409888c",
   "metadata": {},
   "source": [
    "### Q4. Write a python program to create two threads. Thread one must print the list of squares and thread two must print the list of cubes."
   ]
  },
  {
   "cell_type": "code",
   "execution_count": 4,
   "id": "7c45ea15-340d-481c-9422-53b925389667",
   "metadata": {},
   "outputs": [
    {
     "name": "stdout",
     "output_type": "stream",
     "text": [
      "1 squared is 1\n",
      "2 squared is 4\n",
      "3 squared is 9\n",
      "4 squared is 16\n",
      "5 squared is 25\n",
      "6 squared is 36\n",
      "7 squared is 49\n",
      "8 squared is 64\n",
      "9 squared is 81\n",
      "10 squared is 100\n",
      "1 cubed is 1\n",
      "2 cubed is 8\n",
      "3 cubed is 27\n",
      "4 cubed is 64\n",
      "5 cubed is 125\n",
      "6 cubed is 216\n",
      "7 cubed is 343\n",
      "8 cubed is 512\n",
      "9 cubed is 729\n",
      "10 cubed is 1000\n"
     ]
    }
   ],
   "source": [
    "#Answer\n",
    "#Here's an example program in Python that creates two threads \n",
    "import threading\n",
    "\n",
    "def print_squares():\n",
    "    for i in range(1, 11):\n",
    "        print(f\"{i} squared is {i**2}\")\n",
    "        \n",
    "def print_cubes():\n",
    "    for i in range(1, 11):\n",
    "        print(f\"{i} cubed is {i**3}\")\n",
    "\n",
    "if __name__ == \"__main__\":\n",
    "    t1 = threading.Thread(target=print_squares)\n",
    "    t2 = threading.Thread(target=print_cubes)\n",
    "    \n",
    "    t1.start()\n",
    "    t2.start()\n",
    "    \n",
    "    t1.join()\n",
    "    t2.join()\n"
   ]
  },
  {
   "cell_type": "markdown",
   "id": "2eaf3872-4858-400b-9935-121a33615d93",
   "metadata": {},
   "source": [
    "### Q5. State advantages and disadvantages of multithreading"
   ]
  },
  {
   "cell_type": "code",
   "execution_count": null,
   "id": "59ad9466-52ec-4303-8790-4df23979558c",
   "metadata": {},
   "outputs": [],
   "source": [
    "Answer.\n",
    "Advantages\n",
    "1. Improved performance: Multithreading can improve the performance of a program by allowing multiple tasks to execute in parallel, thus utilizing the available resources more efficiently.\n",
    "\n",
    "2. Responsiveness: Multithreading can improve the responsiveness of a program by allowing it to continue processing other tasks while waiting for I/O operations \n",
    "or other blocking calls to complete.\n",
    "\n",
    "3.Resource sharing: Multithreading can facilitate resource sharing between threads within the same process, such as sharing memory, files, and network connections.\n",
    "\n",
    "4.Simplified design: Multithreading can simplify the design of complex applications by allowing them to be divided into smaller, more manageable units of execution.\n",
    "\n",
    "Disadvantages\n",
    "1. Complexity: Multithreading can make programs more complex and difficult to design, implement, and debug. Coordination between threads can also introduce race conditions, deadlocks,\n",
    "and other synchronization issues.\n",
    "\n",
    "2. Overhead: Multithreading introduces overhead in terms of memory usage and context switching, which can result in reduced performance for programs with a large number of threads.\n",
    "\n",
    "3. Debugging difficulties: Debugging multithreaded programs can be challenging, as issues may only appear when certain thread schedules are encountered.\n",
    "\n",
    "4. Portability: Multithreading can be platform-dependent, and code that works well on one platform may not work as expected on another.\n",
    "This can make it more difficult to write portable applications.\n"
   ]
  },
  {
   "cell_type": "markdown",
   "id": "daded2ff-5fff-410c-a135-a471339c6772",
   "metadata": {},
   "source": [
    "### Q6. Explain deadlocks and race conditions."
   ]
  },
  {
   "cell_type": "code",
   "execution_count": null,
   "id": "ecffa80d-94e1-43bb-ba4f-e973b8c108ad",
   "metadata": {},
   "outputs": [],
   "source": [
    "Answer.\n",
    "Deadlocks\n",
    "Deadlocks: A deadlock occurs when two or more threads are blocked, waiting for resources held by other threads, and are unable to proceed.\n",
    "This can happen when threads are waiting for locks or other shared resources to become available, and the order in which they acquire the locks leads to a circular dependency.\n",
    "For example, if thread A holds a lock on resource X and is waiting for a lock on resource Y, while thread B holds a lock on resource Y and is waiting for a lock on resource X,\n",
    "a deadlock will occur. Deadlocks can result in a program becoming unresponsive and requiring manual intervention to resolve.\n",
    "\n",
    "Race \n",
    "Race conditions: A race condition occurs when the behavior of a program depends on the order or timing of events that occur in different threads,\n",
    "and the outcome of the program is unpredictable or dependent on the timing of these events. For example, if two threads are accessing a shared resource without proper synchronization,\n",
    "and the order in which they access the resource is not deterministic, then the outcome of the program may be unpredictable. Race conditions can result in bugs that are difficult to reproduce\n",
    "and debug.\n",
    "\n",
    "Both deadlocks and race conditions can be avoided through proper synchronization and coordination of threads. Techniques such as locking, semaphores, \n",
    "and message passing can be used to prevent deadlocks, while techniques such as mutexes, atomic operations, and barriers can be used to prevent race conditions.\n",
    "Proper testing and debugging practices can also help to detect and resolve these issues."
   ]
  },
  {
   "cell_type": "code",
   "execution_count": null,
   "id": "5632f275-3787-41aa-abd3-d17ad77a9aa8",
   "metadata": {},
   "outputs": [],
   "source": []
  }
 ],
 "metadata": {
  "kernelspec": {
   "display_name": "Python 3 (ipykernel)",
   "language": "python",
   "name": "python3"
  },
  "language_info": {
   "codemirror_mode": {
    "name": "ipython",
    "version": 3
   },
   "file_extension": ".py",
   "mimetype": "text/x-python",
   "name": "python",
   "nbconvert_exporter": "python",
   "pygments_lexer": "ipython3",
   "version": "3.9.13"
  }
 },
 "nbformat": 4,
 "nbformat_minor": 5
}
