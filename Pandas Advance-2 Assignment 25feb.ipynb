{
 "cells": [
  {
   "cell_type": "markdown",
   "id": "01b909ec-91fa-4ae4-be61-d7040aceed2f",
   "metadata": {},
   "source": [
    "# Pandas Advance-2"
   ]
  },
  {
   "cell_type": "markdown",
   "id": "e7334597-fe1d-4ce6-83a8-c6195fbf5c65",
   "metadata": {},
   "source": [
    "## 25feb 2023"
   ]
  },
  {
   "cell_type": "code",
   "execution_count": null,
   "id": "cda7a767-b040-4616-9f63-c234cdbd72bb",
   "metadata": {},
   "outputs": [],
   "source": [
    "Consider following code to answer further questions:\n",
    "import pandas as pd\n",
    "course_name = [‘Data Science’, ‘Machine Learning’, ‘Big Data’, ‘Data Engineer’]\n",
    "duration = [2,3,6,4]\n",
    "df = pd.DataFrame(data = {‘course_name’ : course_name, ‘duration’ : duration})\n"
   ]
  },
  {
   "cell_type": "markdown",
   "id": "2cbdbba8-405b-49f8-9ba4-84d17daae41a",
   "metadata": {},
   "source": [
    "### Q1. Write a code to print the data present in the second row of the dataframe, df."
   ]
  },
  {
   "cell_type": "code",
   "execution_count": 3,
   "id": "1e9b74dd-f3a2-4306-9bb5-6b5cac46de5b",
   "metadata": {},
   "outputs": [
    {
     "name": "stdout",
     "output_type": "stream",
     "text": [
      "course_name    Machine Learning\n",
      "duration                      3\n",
      "Name: 1, dtype: object\n"
     ]
    }
   ],
   "source": [
    "#Answer.\n",
    "# Here's the code:\n",
    "import pandas as pd\n",
    "\n",
    "course_name = ['Data Science', 'Machine Learning', 'Big Data', 'Data Engineer']\n",
    "duration = [2, 3, 6, 4]\n",
    "\n",
    "df = pd.DataFrame(data={'course_name': course_name, 'duration': duration})\n",
    "\n",
    "second_row = df.iloc[1]\n",
    "print(second_row)\n"
   ]
  },
  {
   "cell_type": "markdown",
   "id": "12ae383d-5b25-47d6-85b0-0e96d641338f",
   "metadata": {},
   "source": [
    "### Q2. What is the difference between the functions loc and iloc in pandas.DataFrame?"
   ]
  },
  {
   "cell_type": "code",
   "execution_count": null,
   "id": "9f50c185-92fa-45b3-a2a9-4c8d73c208f8",
   "metadata": {},
   "outputs": [],
   "source": [
    "Answer.\n",
    "In Pandas, the loc and iloc are both indexer functions used to access data in a Pandas DataFrame. However, they have some key differences in how they handle indexing and slicing:\n",
    "\n",
    "1. loc: The loc indexer is primarily label-based. It is used to access data in a DataFrame using labels or boolean arrays based on the index and column names. With loc, you can specify\n",
    "the row and column labels explicitly.\n"
   ]
  },
  {
   "cell_type": "code",
   "execution_count": null,
   "id": "f9740b74-0966-4661-a873-af1ffad1c360",
   "metadata": {},
   "outputs": [],
   "source": [
    "#For example:\n",
    "df.loc[row_label, column_label]\n"
   ]
  },
  {
   "cell_type": "code",
   "execution_count": null,
   "id": "264e19f3-dd34-4a04-a3f3-cf78fd8f4e45",
   "metadata": {},
   "outputs": [],
   "source": [
    "2. iloc: The iloc indexer is primarily integer-based. It is used to access data in a DataFrame using integer indices rather than labels. With iloc, you can specify the row and column \n",
    "indices explicitly.\n"
   ]
  },
  {
   "cell_type": "code",
   "execution_count": null,
   "id": "df9bc40a-10da-4c11-8f3b-99cf0f6fa2fb",
   "metadata": {},
   "outputs": [],
   "source": [
    "#For example:\n",
    "df.iloc[row_index, column_index]\n"
   ]
  },
  {
   "cell_type": "markdown",
   "id": "3870395c-223e-458f-8372-63f11a84cf83",
   "metadata": {},
   "source": [
    "### Q3. Reindex the given dataframe using a variable, reindex = [3,0,1,2] and store it in the variable, new_df then find the output for both new_df.loc[2] and new_df.iloc[2]."
   ]
  },
  {
   "cell_type": "code",
   "execution_count": 4,
   "id": "e8276a2c-c877-4de6-ac34-39d808d30913",
   "metadata": {},
   "outputs": [
    {
     "name": "stdout",
     "output_type": "stream",
     "text": [
      "column_1    0.037871\n",
      "column_2    0.619565\n",
      "column_3    0.589526\n",
      "column_4    0.491905\n",
      "column_5    0.245344\n",
      "column_6    0.195670\n",
      "Name: 2, dtype: float64\n",
      "column_1    0.735415\n",
      "column_2    0.829780\n",
      "column_3    0.341990\n",
      "column_4    0.753212\n",
      "column_5    0.781095\n",
      "column_6    0.505630\n",
      "Name: 1, dtype: float64\n"
     ]
    }
   ],
   "source": [
    "#Answer.\n",
    "# Here's the code:\n",
    "\n",
    "import pandas as pd\n",
    "import numpy as np\n",
    "\n",
    "columns = ['column_1', 'column_2', 'column_3', 'column_4', 'column_5', 'column_6']\n",
    "indices = [1, 2, 3, 4, 5, 6]\n",
    "\n",
    "# Creating a dataframe\n",
    "df1 = pd.DataFrame(np.random.rand(6, 6), columns=columns, index=indices)\n",
    "\n",
    "reindex = [3, 0, 1, 2]\n",
    "new_df = df1.reindex(reindex)\n",
    "\n",
    "print(new_df.loc[2])\n",
    "print(new_df.iloc[2])\n"
   ]
  },
  {
   "cell_type": "markdown",
   "id": "facc640a-e9ac-443f-bea0-2fd598b25933",
   "metadata": {},
   "source": [
    "### Q4. Write a code to find the following statistical measurements for the above dataframe df1:\n",
    "* (i) mean of each and every column present in the dataframe.\n",
    "* (ii) standard deviation of column, ‘column_2’"
   ]
  },
  {
   "cell_type": "code",
   "execution_count": 1,
   "id": "660b6f83-415c-45c3-a68f-39b9d0e2b3a7",
   "metadata": {},
   "outputs": [
    {
     "name": "stdout",
     "output_type": "stream",
     "text": [
      "Mean of each column:\n",
      "column_1    0.555909\n",
      "column_2    0.530992\n",
      "column_3    0.648998\n",
      "column_4    0.614442\n",
      "column_5    0.474543\n",
      "column_6    0.652412\n",
      "dtype: float64\n",
      "\n",
      "Standard deviation of column 'column_2':\n",
      "0.2826394437609838\n"
     ]
    }
   ],
   "source": [
    "#Answer\n",
    "#Here's the code:\n",
    "import pandas as pd\n",
    "import numpy as np\n",
    "\n",
    "columns = ['column_1', 'column_2', 'column_3', 'column_4', 'column_5', 'column_6']\n",
    "indices = [1, 2, 3, 4, 5, 6]\n",
    "\n",
    "# Creating a dataframe\n",
    "df1 = pd.DataFrame(np.random.rand(6, 6), columns=columns, index=indices)\n",
    "\n",
    "# Calculate the mean of each column\n",
    "column_means = df1.mean()\n",
    "print(\"Mean of each column:\")\n",
    "print(column_means)\n",
    "print()\n",
    "\n",
    "# Calculate the standard deviation of column 'column_2'\n",
    "column_2_std = df1['column_2'].std()\n",
    "print(\"Standard deviation of column 'column_2':\")\n",
    "print(column_2_std)\n",
    "\n"
   ]
  },
  {
   "cell_type": "markdown",
   "id": "2c664a36-c862-4e40-a6b1-bca5bfebf3f4",
   "metadata": {},
   "source": [
    "### Q5. Replace the data present in the second row of column, ‘column_2’ by a string variable then find the mean of column, column_2. If you are getting errors in executing it then explain why.\n",
    "* [Hint: To replace the data use df1.loc[] and equate this to string data of your choice.]"
   ]
  },
  {
   "cell_type": "code",
   "execution_count": 2,
   "id": "fca6d035-412e-4637-8b61-586e748ee40d",
   "metadata": {},
   "outputs": [
    {
     "name": "stdout",
     "output_type": "stream",
     "text": [
      "Error: unsupported operand type(s) for +: 'float' and 'str'\n"
     ]
    }
   ],
   "source": [
    "#Answer.\n",
    "#Here's the code:\n",
    "\n",
    "import pandas as pd\n",
    "import numpy as np\n",
    "\n",
    "columns = ['column_1', 'column_2', 'column_3', 'column_4', 'column_5', 'column_6']\n",
    "indices = [1, 2, 3, 4, 5, 6]\n",
    "\n",
    "# Creating a dataframe\n",
    "df1 = pd.DataFrame(np.random.rand(6, 6), columns=columns, index=indices)\n",
    "\n",
    "# Replace the data in the second row of 'column_2' with a string variable\n",
    "df1.loc[2, 'column_2'] = 'string_value'\n",
    "\n",
    "# Calculate the mean of 'column_2'\n",
    "try:\n",
    "    column_2_mean = df1['column_2'].mean()\n",
    "    print(\"Mean of column 'column_2':\", column_2_mean)\n",
    "except TypeError as e:\n",
    "    print(\"Error:\", e)\n"
   ]
  },
  {
   "cell_type": "markdown",
   "id": "10ff1159-9fc2-4b8d-bd66-cb678351a68a",
   "metadata": {},
   "source": [
    "### Q6. What do you understand about the windows function in pandas and list the types of windows functions?"
   ]
  },
  {
   "cell_type": "code",
   "execution_count": null,
   "id": "2737f36b-d3c2-4338-bcd0-0f7602200cbe",
   "metadata": {},
   "outputs": [],
   "source": [
    "Answer.\n",
    "\n",
    "In Pandas, the window functions provide a way to perform calculations on a rolling or expanding window of data in a DataFrame or\n",
    "Series. These functions enable you to compute various statistics and transformations based on a specified window size or specific\n",
    "window types.\n",
    "\n",
    "The window functions in Pandas can be categorized into two main types: rolling window functions and expanding window functions.\n",
    "\n",
    "Rolling Window Functions:\n",
    "    Rolling window functions operate on a fixed-size window of data that moves across the DataFrame or Series. The window size is\n",
    "    defined by a number of periods or a time-based offset. Some commonly used rolling window functions include:\n",
    "        \n",
    "        1. rolling(): Creates a rolling window object.\n",
    "        2. mean(): Computes the mean of the values within the window.\n",
    "        3. sum(): Calculates the sum of the values within the window.\n",
    "        4. max(): Finds the maximum value within the window.\n",
    "        5. min(): Finds the minimum value within the window.\n",
    "        6. std(): Computes the standard deviation of the values within the window.\n",
    "        7. var(): Calculates the variance of the values within the window.\n",
    "        8. apply(): Applies a custom function to the values within the window.\n",
    "        \n",
    "        \n",
    "Expanding Window Functions:\n",
    "    Expanding window functions consider all the data from the start until the current position and gradually expand the window as \n",
    "    new data becomes available. These functions do not have a fixed window size. Some commonly used expanding window functions\n",
    "    include:\n",
    "        \n",
    "        1. expanding(): Creates an expanding window object.\n",
    "        2. sum(): Calculates the cumulative sum of all the values from the start.\n",
    "        3. mean(): Computes the cumulative mean of all the values from the start.\n",
    "        4. max(): Finds the maximum value in the expanding window.\n",
    "        5. min(): Finds the minimum value in the expanding window.\n",
    "        6. std(): Calculates the cumulative standard deviation of the values from the start.\n",
    "        7. var(): Calculates the cumulative variance of the values from the start.\n",
    "        8. apply(): Applies a custom function to all the values from the start.\n",
    "        "
   ]
  },
  {
   "cell_type": "markdown",
   "id": "6fbc99ff-7f7c-4506-b1e1-0dec014f8ea0",
   "metadata": {},
   "source": [
    "### Q7. Write a code to print only the current month and year at the time of answering this question.\n",
    "* [Hint: Use pandas.datetime function]"
   ]
  },
  {
   "cell_type": "code",
   "execution_count": 3,
   "id": "abeb7738-671c-4c3a-9149-b8c8d31030c7",
   "metadata": {},
   "outputs": [
    {
     "name": "stdout",
     "output_type": "stream",
     "text": [
      "Current month: 6\n",
      "Current year: 2023\n"
     ]
    }
   ],
   "source": [
    "#Answer.\n",
    "#Here's the code:\n",
    "import pandas as pd\n",
    "\n",
    "current_date = pd.to_datetime('today')\n",
    "current_month = current_date.month\n",
    "current_year = current_date.year\n",
    "\n",
    "print(\"Current month:\", current_month)\n",
    "print(\"Current year:\", current_year)\n"
   ]
  },
  {
   "cell_type": "markdown",
   "id": "fbc73b33-a14d-4494-9887-5f2ea068050f",
   "metadata": {},
   "source": [
    "### Q8. Write a Python program that takes in two dates as input (in the format YYYY-MM-DD) and calculates the difference between them in days, hours, and minutes using Pandas time delta. The program should prompt the user to enter the dates and display the result."
   ]
  },
  {
   "cell_type": "code",
   "execution_count": 4,
   "id": "f6e48087-3760-4685-8617-57ad8698d4b4",
   "metadata": {},
   "outputs": [
    {
     "name": "stdin",
     "output_type": "stream",
     "text": [
      "Enter the first date (YYYY-MM-DD):  2023-05-01\n",
      "Enter the second date (YYYY-MM-DD):  2023-09-06\n"
     ]
    },
    {
     "name": "stdout",
     "output_type": "stream",
     "text": [
      "Difference between the two dates:\n",
      "Days: 128\n",
      "Hours: 0\n",
      "Minutes: 0\n"
     ]
    }
   ],
   "source": [
    "#Answer.\n",
    "#Here's the code:\n",
    "import pandas as pd\n",
    "\n",
    "# Prompt the user to enter the dates\n",
    "date1 = input(\"Enter the first date (YYYY-MM-DD): \")\n",
    "date2 = input(\"Enter the second date (YYYY-MM-DD): \")\n",
    "\n",
    "# Convert the input dates to Pandas datetime objects\n",
    "date1 = pd.to_datetime(date1)\n",
    "date2 = pd.to_datetime(date2)\n",
    "\n",
    "# Calculate the difference between the two dates\n",
    "time_diff = date2 - date1\n",
    "\n",
    "# Extract the number of days, hours, and minutes from the timedelta\n",
    "days = time_diff.days\n",
    "hours = time_diff.seconds // 3600\n",
    "minutes = (time_diff.seconds % 3600) // 60\n",
    "\n",
    "# Display the result\n",
    "print(\"Difference between the two dates:\")\n",
    "print(f\"Days: {days}\")\n",
    "print(f\"Hours: {hours}\")\n",
    "print(f\"Minutes: {minutes}\")\n"
   ]
  },
  {
   "cell_type": "markdown",
   "id": "8a5376bb-5e4b-479f-9314-7a9f8da22a25",
   "metadata": {},
   "source": [
    "### Q9. Write a Python program that reads a CSV file containing categorical data and converts a specified column to a categorical data type. The program should prompt the user to enter the file path, column name, and category order, and then display the sorted data."
   ]
  },
  {
   "cell_type": "code",
   "execution_count": null,
   "id": "1fcf2464-70ac-4e9d-ab7d-cb045e780643",
   "metadata": {},
   "outputs": [],
   "source": [
    "#Answer.\n",
    "#Here's the code:\n",
    "import pandas as pd\n",
    "\n",
    "# Prompt the user to enter the file path\n",
    "file_path = input(\"Enter the file path of the CSV file: \")\n",
    "\n",
    "# Prompt the user to enter the column name\n",
    "column_name = input(\"Enter the column name to convert to categorical: \")\n",
    "\n",
    "# Prompt the user to enter the category order\n",
    "category_order = input(\"Enter the category order (comma-separated): \").split(\",\")\n",
    "\n",
    "# Read the CSV file into a DataFrame\n",
    "df = pd.read_csv(file_path)\n",
    "\n",
    "# Convert the specified column to categorical data type\n",
    "df[column_name] = pd.Categorical(df[column_name], categories=category_order, ordered=True)\n",
    "\n",
    "# Sort the data based on the categorical column\n",
    "sorted_data = df.sort_values(column_name)\n",
    "\n",
    "# Display the sorted data\n",
    "print(\"Sorted Data:\")\n",
    "print(sorted_data)\n"
   ]
  },
  {
   "cell_type": "markdown",
   "id": "8d6b093e-087a-4038-a818-ab0d73e16115",
   "metadata": {},
   "source": [
    "### Q10. Write a Python program that reads a CSV file containing sales data for different products and visualizes the data using a stacked bar chart to show the sales of each product category over time. The program should prompt the user to enter the file path and display the chart."
   ]
  },
  {
   "cell_type": "code",
   "execution_count": null,
   "id": "adc13bbd-3dcd-4d78-902a-c9bff5e773ce",
   "metadata": {},
   "outputs": [],
   "source": [
    "#Answer.\n",
    "#Here's the code:\n",
    "import pandas as pd\n",
    "import matplotlib.pyplot as plt\n",
    "\n",
    "# Prompt the user to enter the file path\n",
    "file_path = input(\"Enter the file path of the CSV file: \")\n",
    "\n",
    "# Read the CSV file into a DataFrame\n",
    "df = pd.read_csv(file_path)\n",
    "\n",
    "# Group the data by product category and calculate the total sales for each category\n",
    "category_sales = df.groupby('Product Category')['Sales'].sum()\n",
    "\n",
    "# Get the unique product categories\n",
    "categories = category_sales.index.tolist()\n",
    "\n",
    "# Get the years from the 'Year' column\n",
    "years = df['Year'].unique()\n",
    "\n",
    "# Create an empty DataFrame to store the sales data\n",
    "sales_data = pd.DataFrame(columns=years, index=categories)\n",
    "\n",
    "# Fill the sales data DataFrame with the total sales for each product category and year\n",
    "for category in categories:\n",
    "    for year in years:\n",
    "        sales_data.loc[category, year] = df.loc[(df['Product Category'] == category) & (df['Year'] == year), 'Sales'].sum()\n",
    "\n",
    "# Transpose the sales data DataFrame\n",
    "sales_data = sales_data.transpose()\n",
    "\n",
    "# Create a stacked bar chart\n",
    "sales_data.plot(kind='bar', stacked=True)\n",
    "\n",
    "# Set the chart title and axes labels\n",
    "plt.title('Sales of Product Categories Over Time')\n",
    "plt.xlabel('Year')\n",
    "plt.ylabel('Sales')\n",
    "\n",
    "# Display the chart\n",
    "plt.show()\n"
   ]
  },
  {
   "cell_type": "markdown",
   "id": "1ef6b2ee-19f1-4a28-a304-fa3bda23b1b9",
   "metadata": {},
   "source": [
    "### Q11. You are given a CSV file containing student data that includes the student ID and their test score. Write a Python program that reads the CSV file, calculates the mean, median, and mode of the test scores, and displays the results in a table."
   ]
  },
  {
   "cell_type": "code",
   "execution_count": null,
   "id": "d0c8a86a-c290-4679-9d97-1b978d027211",
   "metadata": {},
   "outputs": [],
   "source": [
    "#Answer.\n",
    "#Here's the code:\n",
    "import pandas as pd\n",
    "\n",
    "# Prompt the user to enter the file path of the CSV file\n",
    "file_path = input(\"Enter the file path of the CSV file containing the student data: \")\n",
    "\n",
    "# Read the CSV file into a Pandas DataFrame\n",
    "df = pd.read_csv(file_path)\n",
    "\n",
    "# Calculate the mean, median, and mode of the test scores\n",
    "mean_score = df['Test Score'].mean()\n",
    "median_score = df['Test Score'].median()\n",
    "mode_scores = df['Test Score'].mode()\n",
    "\n",
    "# Create a table to display the results\n",
    "results = pd.DataFrame({'Statistic': ['Mean', 'Median', 'Mode'],\n",
    "                        'Value': [mean_score, median_score, ', '.join(map(str, mode_scores))]})\n",
    "                        \n",
    "# Display the table\n",
    "print(results)\n"
   ]
  },
  {
   "cell_type": "code",
   "execution_count": null,
   "id": "3af9c45f-4162-4fd4-a2fd-390f2688a1c5",
   "metadata": {},
   "outputs": [],
   "source": []
  }
 ],
 "metadata": {
  "kernelspec": {
   "display_name": "Python 3 (ipykernel)",
   "language": "python",
   "name": "python3"
  },
  "language_info": {
   "codemirror_mode": {
    "name": "ipython",
    "version": 3
   },
   "file_extension": ".py",
   "mimetype": "text/x-python",
   "name": "python",
   "nbconvert_exporter": "python",
   "pygments_lexer": "ipython3",
   "version": "3.10.8"
  }
 },
 "nbformat": 4,
 "nbformat_minor": 5
}
