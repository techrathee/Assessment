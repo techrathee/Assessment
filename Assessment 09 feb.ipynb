{
 "cells": [
  {
   "cell_type": "markdown",
   "id": "e36aa9b2-ceca-47a8-9694-2bc13dbfb83e",
   "metadata": {},
   "source": [
    "# OOPS TASK"
   ]
  },
  {
   "cell_type": "markdown",
   "id": "683b8576-1365-409f-92fd-cc2e03ceb2bb",
   "metadata": {},
   "source": [
    "## 09feb 2023"
   ]
  },
  {
   "cell_type": "markdown",
   "id": "8bc380c9-1332-409f-8353-26d0b363fee4",
   "metadata": {},
   "source": [
    "### Q1. Create a vehicle class with an init method having instance variables as name_of_vehicle, max_speed and average_of_vehicle."
   ]
  },
  {
   "cell_type": "code",
   "execution_count": 2,
   "id": "04075995-e514-4ddc-9fe1-53e876517f77",
   "metadata": {},
   "outputs": [],
   "source": [
    "#Ans\n",
    "#Here's an example of how to create a Vehicle class with an __init__ method that initializes instance variables name_of_vehicle, max_speed, and average_of_vehicle\n",
    "class Vehicle:\n",
    "    \n",
    "    def __init__(self, name_of_vehicle, max_speed, average_of_vehicle):\n",
    "        self.name_of_vehicle = name_of_vehicle\n",
    "        self.max_speed = max_speed\n",
    "        self.average_of_vehicle = average_of_vehicle\n"
   ]
  },
  {
   "cell_type": "code",
   "execution_count": 3,
   "id": "905f4d1b-356d-433a-9413-b2f6c7cfd09a",
   "metadata": {},
   "outputs": [],
   "source": [
    "my_vehicle = Vehicle(\"Car\", 200, 35)"
   ]
  },
  {
   "cell_type": "code",
   "execution_count": 6,
   "id": "761c54c5-7dc5-4513-9fa3-d2eef2e7c414",
   "metadata": {},
   "outputs": [
    {
     "data": {
      "text/plain": [
       "'Car'"
      ]
     },
     "execution_count": 6,
     "metadata": {},
     "output_type": "execute_result"
    }
   ],
   "source": [
    "my_vehicle.name_of_vehicle"
   ]
  },
  {
   "cell_type": "code",
   "execution_count": 7,
   "id": "227bd29b-dcbb-461b-a35e-a227480b776d",
   "metadata": {},
   "outputs": [
    {
     "data": {
      "text/plain": [
       "200"
      ]
     },
     "execution_count": 7,
     "metadata": {},
     "output_type": "execute_result"
    }
   ],
   "source": [
    "my_vehicle.max_speed"
   ]
  },
  {
   "cell_type": "code",
   "execution_count": 8,
   "id": "f29bbdb3-af79-44d4-86ae-479ec814f2fc",
   "metadata": {},
   "outputs": [
    {
     "data": {
      "text/plain": [
       "35"
      ]
     },
     "execution_count": 8,
     "metadata": {},
     "output_type": "execute_result"
    }
   ],
   "source": [
    "my_vehicle.average_of_vehicle"
   ]
  },
  {
   "cell_type": "markdown",
   "id": "b2c3c6db-6440-4402-8902-f882be332dda",
   "metadata": {},
   "source": [
    "### Q2. Create a child class car from the vehicle class created in Que 1, which will inherit the vehicle class. Create a method named seating_capacity which takes capacity as an argument and returns the name of the vehicle and its seating capacity."
   ]
  },
  {
   "cell_type": "code",
   "execution_count": 9,
   "id": "908f7c22-a7a4-4d8d-8a16-99783b82fb8f",
   "metadata": {},
   "outputs": [],
   "source": [
    "#Ans \n",
    "#Sure, here's an example of how to create a child class called Car that inherits from the Vehicle class and has a method called seating_capacity:\n",
    "class Car(Vehicle):\n",
    "    \n",
    "    def seating_capacity(self, capacity):\n",
    "        return f\"{self.name_of_vehicle} has a seating capacity of {capacity} people.\"\n"
   ]
  },
  {
   "cell_type": "code",
   "execution_count": 11,
   "id": "8cd73137-af0d-4e4b-a1d4-770961064c00",
   "metadata": {},
   "outputs": [],
   "source": [
    "my_car = Car(\"Honda\", 180, 30)\n"
   ]
  },
  {
   "cell_type": "code",
   "execution_count": 12,
   "id": "513d255e-5965-4a00-ab51-6aaec468d7d5",
   "metadata": {},
   "outputs": [
    {
     "data": {
      "text/plain": [
       "'Honda has a seating capacity of 5 people.'"
      ]
     },
     "execution_count": 12,
     "metadata": {},
     "output_type": "execute_result"
    }
   ],
   "source": [
    "my_car.seating_capacity(5)"
   ]
  },
  {
   "cell_type": "markdown",
   "id": "f64ed297-ad4e-445c-88ec-39d1ec457377",
   "metadata": {},
   "source": [
    "### Q3. What is multiple inheritance? Write a python code to demonstrate multiple inheritance."
   ]
  },
  {
   "cell_type": "code",
   "execution_count": 15,
   "id": "c0a3f3a8-d02a-4e58-ae33-d3d3ba1db361",
   "metadata": {},
   "outputs": [],
   "source": [
    "#Ans\n",
    "#Multiple inheritance is a feature of object-oriented programming where a subclass can inherit properties and methods from multiple parent classes.\n",
    "class Animal:\n",
    "    def __init__(self, species):\n",
    "        self.species = species\n",
    "        \n",
    "    def speak(self):\n",
    "        print(\"The animal speaks.\")\n",
    "\n",
    "class Mammal:\n",
    "    def __init__(self, mammal_type):\n",
    "        self.mammal_type = mammal_type\n",
    "        \n",
    "    def feed_young(self):\n",
    "        print(\"The mammal feeds its young.\")\n",
    "\n",
    "class Platypus(Animal, Mammal):\n",
    "    def __init__(self):\n",
    "        Animal.__init__(self, \"Platypus\")\n",
    "        Mammal.__init__(self, \"Monotreme\")\n",
    "\n",
    "    def lay_eggs(self):\n",
    "        print(\"The platypus lays eggs.\")\n",
    "\n"
   ]
  },
  {
   "cell_type": "code",
   "execution_count": 16,
   "id": "808fecdf-75ab-4b93-8e7f-1ad8c1ef311a",
   "metadata": {},
   "outputs": [],
   "source": [
    "my_platypus = Platypus()"
   ]
  },
  {
   "cell_type": "code",
   "execution_count": 18,
   "id": "823652bb-0ac8-4262-b182-730e0d8a9c27",
   "metadata": {},
   "outputs": [
    {
     "data": {
      "text/plain": [
       "'Platypus'"
      ]
     },
     "execution_count": 18,
     "metadata": {},
     "output_type": "execute_result"
    }
   ],
   "source": [
    "my_platypus.species"
   ]
  },
  {
   "cell_type": "code",
   "execution_count": 19,
   "id": "80dfa3b6-7175-4161-9d15-fa998b5d40cd",
   "metadata": {},
   "outputs": [
    {
     "data": {
      "text/plain": [
       "'Monotreme'"
      ]
     },
     "execution_count": 19,
     "metadata": {},
     "output_type": "execute_result"
    }
   ],
   "source": [
    "my_platypus.mammal_type"
   ]
  },
  {
   "cell_type": "code",
   "execution_count": 21,
   "id": "1a8a2007-cfc2-4e9f-9376-06a3e190576f",
   "metadata": {},
   "outputs": [
    {
     "name": "stdout",
     "output_type": "stream",
     "text": [
      "The platypus lays eggs.\n"
     ]
    }
   ],
   "source": [
    "my_platypus.lay_eggs()"
   ]
  },
  {
   "cell_type": "code",
   "execution_count": 22,
   "id": "8ff45068-4449-40ef-bd2f-193ceb347354",
   "metadata": {},
   "outputs": [
    {
     "name": "stdout",
     "output_type": "stream",
     "text": [
      "The mammal feeds its young.\n"
     ]
    }
   ],
   "source": [
    "my_platypus.feed_young()"
   ]
  },
  {
   "cell_type": "code",
   "execution_count": 23,
   "id": "b0bca4ef-3789-4835-8745-051620e8d315",
   "metadata": {},
   "outputs": [
    {
     "name": "stdout",
     "output_type": "stream",
     "text": [
      "The animal speaks.\n"
     ]
    }
   ],
   "source": [
    "my_platypus.speak()"
   ]
  },
  {
   "cell_type": "markdown",
   "id": "b80b9686-ede2-415f-91a4-aeae8ab1c398",
   "metadata": {},
   "source": [
    "### Q4. What are getter and setter in python? Create a class and create a getter and a setter method in this class."
   ]
  },
  {
   "cell_type": "code",
   "execution_count": null,
   "id": "f51a3a1a-5644-40dc-bcb7-624ab35631cb",
   "metadata": {},
   "outputs": [],
   "source": [
    "#Ans\n",
    "Getter and setter methods in Python are used to access and modify the values of class attributes.\n",
    "A getter method returns the value of a private attribute, and a setter method modifies the value of a private attribute."
   ]
  },
  {
   "cell_type": "code",
   "execution_count": 25,
   "id": "9f4fc81b-55e3-4577-ad2b-06e313e42b62",
   "metadata": {},
   "outputs": [],
   "source": [
    "#Here's an example of how to create a class with getter and setter methods in Python:\n",
    "class Person:\n",
    "    def __init__(self, name, age):\n",
    "        self._name = name\n",
    "        self._age = age\n",
    "\n",
    "    def get_name(self):\n",
    "        return self._name\n",
    "\n",
    "    def set_name(self, name):\n",
    "        self._name = name\n",
    "\n",
    "    def get_age(self):\n",
    "        return self._age\n",
    "\n",
    "    def set_age(self, age):\n",
    "        self._age = age\n"
   ]
  },
  {
   "cell_type": "code",
   "execution_count": 27,
   "id": "2ad6be47-8cff-41dc-a2c9-29612decfed1",
   "metadata": {},
   "outputs": [],
   "source": [
    "person = Person(\"John\", 25)"
   ]
  },
  {
   "cell_type": "code",
   "execution_count": 28,
   "id": "f91bc163-2453-4fa8-b2fa-dcad02d94fe2",
   "metadata": {},
   "outputs": [
    {
     "data": {
      "text/plain": [
       "'John'"
      ]
     },
     "execution_count": 28,
     "metadata": {},
     "output_type": "execute_result"
    }
   ],
   "source": [
    "person.get_name()"
   ]
  },
  {
   "cell_type": "code",
   "execution_count": 29,
   "id": "075c68d8-4f96-487b-b4b6-48a1530fe5a1",
   "metadata": {},
   "outputs": [],
   "source": [
    "person.set_name(\"jane\")"
   ]
  },
  {
   "cell_type": "code",
   "execution_count": 30,
   "id": "47674976-0d9e-4e6c-acb3-1b918961e85c",
   "metadata": {},
   "outputs": [
    {
     "data": {
      "text/plain": [
       "'jane'"
      ]
     },
     "execution_count": 30,
     "metadata": {},
     "output_type": "execute_result"
    }
   ],
   "source": [
    "person.get_name()"
   ]
  },
  {
   "cell_type": "code",
   "execution_count": 31,
   "id": "517e5750-d556-4eac-a414-75194044c578",
   "metadata": {},
   "outputs": [
    {
     "data": {
      "text/plain": [
       "25"
      ]
     },
     "execution_count": 31,
     "metadata": {},
     "output_type": "execute_result"
    }
   ],
   "source": [
    "person.get_age()"
   ]
  },
  {
   "cell_type": "code",
   "execution_count": 32,
   "id": "5c001ef9-2210-4405-af21-a1e2bed4c3ff",
   "metadata": {},
   "outputs": [],
   "source": [
    "person.set_age(30)"
   ]
  },
  {
   "cell_type": "code",
   "execution_count": 33,
   "id": "8798f4ab-96a0-4dbc-91dd-a3d91b16a041",
   "metadata": {},
   "outputs": [
    {
     "data": {
      "text/plain": [
       "30"
      ]
     },
     "execution_count": 33,
     "metadata": {},
     "output_type": "execute_result"
    }
   ],
   "source": [
    "person.get_age()"
   ]
  },
  {
   "cell_type": "markdown",
   "id": "2d8c3d08-f30c-419a-9b77-985c9b6d1215",
   "metadata": {},
   "source": [
    "### Q5.What is method overriding in python? Write a python code to demonstrate method overriding."
   ]
  },
  {
   "cell_type": "code",
   "execution_count": null,
   "id": "be59dea7-536e-414a-98a8-5345c2dc59e5",
   "metadata": {},
   "outputs": [],
   "source": [
    "#Ans\n",
    "\n",
    "Method overriding is a feature of object-oriented programming where a subclass provides its own implementation of a method that is already provided by \n",
    "its parent class.\n",
    "\n",
    "In Python, method overriding can be achieved by defining a method in the subclass with the same name as a method in the parent class. \n",
    "When the method is called on an instance of the subclass, the subclass's implementation of the method is used instead of the parent class's implementation."
   ]
  },
  {
   "cell_type": "code",
   "execution_count": 35,
   "id": "4a22709b-cba0-412e-bfad-e82dd685e965",
   "metadata": {},
   "outputs": [],
   "source": [
    "#Here's an example of how to demonstrate method overriding in Python:\n",
    "class Animal:\n",
    "    def make_sound(self):\n",
    "        print(\"The animal makes a sound.\")\n",
    "\n",
    "class Dog(Animal):\n",
    "    def make_sound(self):\n",
    "        print(\"The dog barks.\")\n",
    "\n",
    "class Cat(Animal):\n",
    "    def make_sound(self):\n",
    "        print(\"The cat meows.\")\n",
    "\n"
   ]
  },
  {
   "cell_type": "code",
   "execution_count": 37,
   "id": "354d5fbe-4aab-4329-9f6e-db8cbcd1a1ca",
   "metadata": {},
   "outputs": [],
   "source": [
    "animal = Animal()\n",
    "dog = Dog()\n",
    "cat = Cat()\n"
   ]
  },
  {
   "cell_type": "code",
   "execution_count": 38,
   "id": "045c6cac-fd45-4408-a016-b1219af1dc01",
   "metadata": {},
   "outputs": [
    {
     "name": "stdout",
     "output_type": "stream",
     "text": [
      "The animal makes a sound.\n"
     ]
    }
   ],
   "source": [
    "animal.make_sound()"
   ]
  },
  {
   "cell_type": "code",
   "execution_count": 39,
   "id": "1d572a3c-e2c3-4c03-852b-6d7e68b59bbf",
   "metadata": {},
   "outputs": [
    {
     "name": "stdout",
     "output_type": "stream",
     "text": [
      "The dog barks.\n"
     ]
    }
   ],
   "source": [
    "dog.make_sound()"
   ]
  },
  {
   "cell_type": "code",
   "execution_count": 40,
   "id": "14174691-8ad3-4c45-b2fc-4575185443ca",
   "metadata": {},
   "outputs": [
    {
     "name": "stdout",
     "output_type": "stream",
     "text": [
      "The cat meows.\n"
     ]
    }
   ],
   "source": [
    "cat.make_sound()"
   ]
  },
  {
   "cell_type": "code",
   "execution_count": null,
   "id": "469a9d34-ff51-455e-a84e-2292867c8548",
   "metadata": {},
   "outputs": [],
   "source": []
  },
  {
   "cell_type": "code",
   "execution_count": null,
   "id": "cf6f162f-4e8f-4f36-b793-098924e3573f",
   "metadata": {},
   "outputs": [],
   "source": []
  },
  {
   "cell_type": "code",
   "execution_count": null,
   "id": "e52e0ebc-6aff-4fca-9820-e1d276acee02",
   "metadata": {},
   "outputs": [],
   "source": []
  },
  {
   "cell_type": "code",
   "execution_count": null,
   "id": "899d3e75-be72-4708-873d-d368a9de21d7",
   "metadata": {},
   "outputs": [],
   "source": []
  }
 ],
 "metadata": {
  "kernelspec": {
   "display_name": "Python 3 (ipykernel)",
   "language": "python",
   "name": "python3"
  },
  "language_info": {
   "codemirror_mode": {
    "name": "ipython",
    "version": 3
   },
   "file_extension": ".py",
   "mimetype": "text/x-python",
   "name": "python",
   "nbconvert_exporter": "python",
   "pygments_lexer": "ipython3",
   "version": "3.9.13"
  }
 },
 "nbformat": 4,
 "nbformat_minor": 5
}
