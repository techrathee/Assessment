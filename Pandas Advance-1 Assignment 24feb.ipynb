{
 "cells": [
  {
   "cell_type": "markdown",
   "id": "39b4dfbe-95e7-47eb-9e74-fa4d2708426c",
   "metadata": {},
   "source": [
    "# Pandas Advance-1"
   ]
  },
  {
   "cell_type": "markdown",
   "id": "7849cd63-434e-4b5c-83f3-20fefdd636de",
   "metadata": {},
   "source": [
    "### Q1. List any five functions of the pandas library with execution."
   ]
  },
  {
   "cell_type": "code",
   "execution_count": 6,
   "id": "c6442651-ffab-4cdc-8945-a87bd14bb9f1",
   "metadata": {},
   "outputs": [
    {
     "data": {
      "text/html": [
       "<div>\n",
       "<style scoped>\n",
       "    .dataframe tbody tr th:only-of-type {\n",
       "        vertical-align: middle;\n",
       "    }\n",
       "\n",
       "    .dataframe tbody tr th {\n",
       "        vertical-align: top;\n",
       "    }\n",
       "\n",
       "    .dataframe thead th {\n",
       "        text-align: right;\n",
       "    }\n",
       "</style>\n",
       "<table border=\"1\" class=\"dataframe\">\n",
       "  <thead>\n",
       "    <tr style=\"text-align: right;\">\n",
       "      <th></th>\n",
       "      <th>PassengerId</th>\n",
       "      <th>Survived</th>\n",
       "      <th>Pclass</th>\n",
       "      <th>Name</th>\n",
       "      <th>Sex</th>\n",
       "      <th>Age</th>\n",
       "      <th>SibSp</th>\n",
       "      <th>Parch</th>\n",
       "      <th>Ticket</th>\n",
       "      <th>Fare</th>\n",
       "      <th>Cabin</th>\n",
       "      <th>Embarked</th>\n",
       "    </tr>\n",
       "  </thead>\n",
       "  <tbody>\n",
       "    <tr>\n",
       "      <th>0</th>\n",
       "      <td>1</td>\n",
       "      <td>0</td>\n",
       "      <td>3</td>\n",
       "      <td>Braund, Mr. Owen Harris</td>\n",
       "      <td>male</td>\n",
       "      <td>22.0</td>\n",
       "      <td>1</td>\n",
       "      <td>0</td>\n",
       "      <td>A/5 21171</td>\n",
       "      <td>7.2500</td>\n",
       "      <td>NaN</td>\n",
       "      <td>S</td>\n",
       "    </tr>\n",
       "    <tr>\n",
       "      <th>1</th>\n",
       "      <td>2</td>\n",
       "      <td>1</td>\n",
       "      <td>1</td>\n",
       "      <td>Cumings, Mrs. John Bradley (Florence Briggs Th...</td>\n",
       "      <td>female</td>\n",
       "      <td>38.0</td>\n",
       "      <td>1</td>\n",
       "      <td>0</td>\n",
       "      <td>PC 17599</td>\n",
       "      <td>71.2833</td>\n",
       "      <td>C85</td>\n",
       "      <td>C</td>\n",
       "    </tr>\n",
       "    <tr>\n",
       "      <th>2</th>\n",
       "      <td>3</td>\n",
       "      <td>1</td>\n",
       "      <td>3</td>\n",
       "      <td>Heikkinen, Miss. Laina</td>\n",
       "      <td>female</td>\n",
       "      <td>26.0</td>\n",
       "      <td>0</td>\n",
       "      <td>0</td>\n",
       "      <td>STON/O2. 3101282</td>\n",
       "      <td>7.9250</td>\n",
       "      <td>NaN</td>\n",
       "      <td>S</td>\n",
       "    </tr>\n",
       "    <tr>\n",
       "      <th>3</th>\n",
       "      <td>4</td>\n",
       "      <td>1</td>\n",
       "      <td>1</td>\n",
       "      <td>Futrelle, Mrs. Jacques Heath (Lily May Peel)</td>\n",
       "      <td>female</td>\n",
       "      <td>35.0</td>\n",
       "      <td>1</td>\n",
       "      <td>0</td>\n",
       "      <td>113803</td>\n",
       "      <td>53.1000</td>\n",
       "      <td>C123</td>\n",
       "      <td>S</td>\n",
       "    </tr>\n",
       "    <tr>\n",
       "      <th>4</th>\n",
       "      <td>5</td>\n",
       "      <td>0</td>\n",
       "      <td>3</td>\n",
       "      <td>Allen, Mr. William Henry</td>\n",
       "      <td>male</td>\n",
       "      <td>35.0</td>\n",
       "      <td>0</td>\n",
       "      <td>0</td>\n",
       "      <td>373450</td>\n",
       "      <td>8.0500</td>\n",
       "      <td>NaN</td>\n",
       "      <td>S</td>\n",
       "    </tr>\n",
       "  </tbody>\n",
       "</table>\n",
       "</div>"
      ],
      "text/plain": [
       "   PassengerId  Survived  Pclass  \\\n",
       "0            1         0       3   \n",
       "1            2         1       1   \n",
       "2            3         1       3   \n",
       "3            4         1       1   \n",
       "4            5         0       3   \n",
       "\n",
       "                                                Name     Sex   Age  SibSp  \\\n",
       "0                            Braund, Mr. Owen Harris    male  22.0      1   \n",
       "1  Cumings, Mrs. John Bradley (Florence Briggs Th...  female  38.0      1   \n",
       "2                             Heikkinen, Miss. Laina  female  26.0      0   \n",
       "3       Futrelle, Mrs. Jacques Heath (Lily May Peel)  female  35.0      1   \n",
       "4                           Allen, Mr. William Henry    male  35.0      0   \n",
       "\n",
       "   Parch            Ticket     Fare Cabin Embarked  \n",
       "0      0         A/5 21171   7.2500   NaN        S  \n",
       "1      0          PC 17599  71.2833   C85        C  \n",
       "2      0  STON/O2. 3101282   7.9250   NaN        S  \n",
       "3      0            113803  53.1000  C123        S  \n",
       "4      0            373450   8.0500   NaN        S  "
      ]
     },
     "execution_count": 6,
     "metadata": {},
     "output_type": "execute_result"
    }
   ],
   "source": [
    "#Answer.\n",
    "#Here are five functions of the Pandas library along with their execution examples:\n",
    "#  1. read_csv(): This function is used to read data from a CSV file and create a DataFrame.\n",
    "\n",
    "import pandas as pd\n",
    "\n",
    "# Read a CSV file and create a DataFrame\n",
    "data = pd.read_csv('https://raw.githubusercontent.com/datasciencedojo/datasets/master/titanic.csv')\n",
    "data.head()\n"
   ]
  },
  {
   "cell_type": "code",
   "execution_count": 5,
   "id": "8052e905-2669-4496-a3df-0c5d4b60723d",
   "metadata": {},
   "outputs": [
    {
     "name": "stdout",
     "output_type": "stream",
     "text": [
      "   A  B\n",
      "0  1  a\n",
      "1  2  b\n",
      "2  3  c\n"
     ]
    }
   ],
   "source": [
    "#  2. head(): This function is used to display the first few rows of a DataFrame.\n",
    "import pandas as pd\n",
    "\n",
    "# Create a DataFrame\n",
    "data = pd.DataFrame({'A': [1, 2, 3, 4, 5],\n",
    "                     'B': ['a', 'b', 'c', 'd', 'e']})\n",
    "\n",
    "# Display the first 3 rows of the DataFrame\n",
    "print(data.head(3))\n"
   ]
  },
  {
   "cell_type": "code",
   "execution_count": 7,
   "id": "06cf43bf-1540-4175-87ee-d398fb371244",
   "metadata": {},
   "outputs": [
    {
     "name": "stdout",
     "output_type": "stream",
     "text": [
      "              A          B\n",
      "count  5.000000   5.000000\n",
      "mean   3.000000  30.000000\n",
      "std    1.581139  15.811388\n",
      "min    1.000000  10.000000\n",
      "25%    2.000000  20.000000\n",
      "50%    3.000000  30.000000\n",
      "75%    4.000000  40.000000\n",
      "max    5.000000  50.000000\n"
     ]
    }
   ],
   "source": [
    "#  3. describe(): This function computes various summary statistics of the DataFrame, such as count, mean, min, max, etc.\n",
    "import pandas as pd\n",
    "\n",
    "# Create a DataFrame\n",
    "data = pd.DataFrame({'A': [1, 2, 3, 4, 5],\n",
    "                     'B': [10, 20, 30, 40, 50]})\n",
    "\n",
    "# Compute summary statistics\n",
    "print(data.describe())\n"
   ]
  },
  {
   "cell_type": "code",
   "execution_count": 11,
   "id": "0aac5e1e-0631-41b4-8c48-32e13e7b4af7",
   "metadata": {},
   "outputs": [
    {
     "name": "stderr",
     "output_type": "stream",
     "text": [
      "/tmp/ipykernel_77/4190689902.py:11: FutureWarning: The default value of numeric_only in DataFrameGroupBy.sum is deprecated. In a future version, numeric_only will default to False. Either specify numeric_only or select only columns which should be valid for the function.\n",
      "  grouped_data.sum()\n"
     ]
    },
    {
     "data": {
      "text/html": [
       "<div>\n",
       "<style scoped>\n",
       "    .dataframe tbody tr th:only-of-type {\n",
       "        vertical-align: middle;\n",
       "    }\n",
       "\n",
       "    .dataframe tbody tr th {\n",
       "        vertical-align: top;\n",
       "    }\n",
       "\n",
       "    .dataframe thead th {\n",
       "        text-align: right;\n",
       "    }\n",
       "</style>\n",
       "<table border=\"1\" class=\"dataframe\">\n",
       "  <thead>\n",
       "    <tr style=\"text-align: right;\">\n",
       "      <th></th>\n",
       "      <th>C</th>\n",
       "    </tr>\n",
       "    <tr>\n",
       "      <th>A</th>\n",
       "      <th></th>\n",
       "    </tr>\n",
       "  </thead>\n",
       "  <tbody>\n",
       "    <tr>\n",
       "      <th>bar</th>\n",
       "      <td>6</td>\n",
       "    </tr>\n",
       "    <tr>\n",
       "      <th>foo</th>\n",
       "      <td>9</td>\n",
       "    </tr>\n",
       "  </tbody>\n",
       "</table>\n",
       "</div>"
      ],
      "text/plain": [
       "     C\n",
       "A     \n",
       "bar  6\n",
       "foo  9"
      ]
     },
     "execution_count": 11,
     "metadata": {},
     "output_type": "execute_result"
    }
   ],
   "source": [
    "#  4. groupby(): This function is used to group the data based on one or more columns, allowing for operations like aggregationand transformation.\n",
    "import pandas as pd\n",
    "\n",
    "# Create a DataFrame\n",
    "data = pd.DataFrame({'A': ['foo', 'bar', 'foo', 'bar', 'foo'],\n",
    "                     'B': ['one', 'one', 'two', 'two', 'one'],\n",
    "                     'C': [1, 2, 3, 4, 5]})\n",
    "\n",
    "# Group data by column 'A' and compute the sum of column 'C'\n",
    "grouped_data = data.groupby('A')\n",
    "grouped_data.sum()\n"
   ]
  },
  {
   "cell_type": "code",
   "execution_count": 12,
   "id": "7071a4ba-2346-4349-a079-07867671926d",
   "metadata": {},
   "outputs": [],
   "source": [
    "#  5. to_csv(): This function is used to write the contents of a DataFrame to a CSV file.\n",
    "import pandas as pd\n",
    "\n",
    "# Create a DataFrame\n",
    "data = pd.DataFrame({'A': [1, 2, 3, 4, 5],\n",
    "                     'B': ['a', 'b', 'c', 'd', 'e']})\n",
    "\n",
    "# Write the DataFrame to a CSV file\n",
    "data.to_csv('output.csv', index=False)\n"
   ]
  },
  {
   "cell_type": "markdown",
   "id": "c55682ca-b16e-4299-aef5-a8ba40ba3ba5",
   "metadata": {},
   "source": [
    "### Q2. Given a Pandas DataFrame df with columns 'A', 'B', and 'C', write a Python function to re-index the DataFrame with a new index that starts from 1 and increments by 2 for each row."
   ]
  },
  {
   "cell_type": "code",
   "execution_count": 1,
   "id": "b6240a01-8dd3-405c-a9f3-50f1186fa1bc",
   "metadata": {},
   "outputs": [],
   "source": [
    "#Answer\n",
    "#Here's an example of how you can write the Python function:\n",
    "import pandas as pd\n",
    "\n",
    "def reindex_dataframe(df):\n",
    "    new_index = pd.Series(range(1, len(df) * 2 + 1, 2))\n",
    "    df = df.reset_index(drop=True)\n",
    "    df.index = new_index\n",
    "    return df\n"
   ]
  },
  {
   "cell_type": "code",
   "execution_count": 2,
   "id": "f58697c0-7f01-4305-a901-ec4daa9e6175",
   "metadata": {},
   "outputs": [
    {
     "name": "stdout",
     "output_type": "stream",
     "text": [
      "   A  B  C\n",
      "1  1  4  7\n",
      "3  2  5  8\n",
      "5  3  6  9\n"
     ]
    }
   ],
   "source": [
    "#Use this function as follows:\n",
    "df = pd.DataFrame({'A': [1, 2, 3], 'B': [4, 5, 6], 'C': [7, 8, 9]})\n",
    "new_df = reindex_dataframe(df)\n",
    "print(new_df)\n"
   ]
  },
  {
   "cell_type": "markdown",
   "id": "190e59b5-1c52-4866-abc0-5be5934b65dd",
   "metadata": {},
   "source": [
    "### Q3. You have a Pandas DataFrame df with a column named 'Values'. Write a Python function that iterates over the DataFrame and calculates the sum of the first three values in the 'Values' column. The function should print the sum to the console.\n",
    "* For example, if the 'Values' column of df contains the values [10, 20, 30, 40, 50], your function should calculate and print the sum of the first three values, which is 60."
   ]
  },
  {
   "cell_type": "code",
   "execution_count": 3,
   "id": "8ff1c8a5-0464-46b1-a7e3-605b4b54422e",
   "metadata": {},
   "outputs": [],
   "source": [
    "#Answer.\n",
    "#Here's an example of how you can write the Python function:\n",
    "import pandas as pd\n",
    "\n",
    "def calculate_sum(df):\n",
    "    first_three_sum = df['Values'].head(3).sum()\n",
    "    print(\"Sum of the first three values:\", first_three_sum)\n"
   ]
  },
  {
   "cell_type": "code",
   "execution_count": 4,
   "id": "09cf6a05-bbab-4ec7-b3eb-bccd8ca7c902",
   "metadata": {},
   "outputs": [
    {
     "name": "stdout",
     "output_type": "stream",
     "text": [
      "Sum of the first three values: 60\n"
     ]
    }
   ],
   "source": [
    "#Use this function as follows:\n",
    "df = pd.DataFrame({'Values': [10, 20, 30, 40, 50]})\n",
    "calculate_sum(df)\n"
   ]
  },
  {
   "cell_type": "markdown",
   "id": "ea65ce3b-920b-4786-8059-7891cddcb327",
   "metadata": {},
   "source": [
    "### Q4. Given a Pandas DataFrame df with a column 'Text', write a Python function to create a new column 'Word_Count' that contains the number of words in each row of the 'Text' column."
   ]
  },
  {
   "cell_type": "code",
   "execution_count": 5,
   "id": "36b38141-4d2e-4dc1-82ed-7ba7691c7232",
   "metadata": {},
   "outputs": [],
   "source": [
    "#Answer.\n",
    "#Here's an example of how you can write the Python function:\n",
    "import pandas as pd\n",
    "\n",
    "def calculate_word_count(df):\n",
    "    df['Word_Count'] = df['Text'].apply(lambda x: len(str(x).split()))\n",
    "    return df\n"
   ]
  },
  {
   "cell_type": "code",
   "execution_count": 6,
   "id": "02c1e313-08f3-475f-ab10-0bc2ac4ec6c5",
   "metadata": {},
   "outputs": [
    {
     "name": "stdout",
     "output_type": "stream",
     "text": [
      "                  Text  Word_Count\n",
      "0        Hello, world!           2\n",
      "1  This is a sentence.           4\n",
      "2   Python is awesome.           3\n"
     ]
    }
   ],
   "source": [
    "#Use this function as follows:\n",
    "df = pd.DataFrame({'Text': ['Hello, world!', 'This is a sentence.', 'Python is awesome.']})\n",
    "new_df = calculate_word_count(df)\n",
    "print(new_df)\n"
   ]
  },
  {
   "cell_type": "markdown",
   "id": "374a9f21-e34a-4323-a244-30fe7e40dd51",
   "metadata": {},
   "source": [
    "### Q5. How are DataFrame.size() and DataFrame.shape() different?"
   ]
  },
  {
   "cell_type": "code",
   "execution_count": null,
   "id": "31497d2c-a986-4316-91f0-3641bf38e945",
   "metadata": {},
   "outputs": [],
   "source": [
    "Answer.\n",
    "The DataFrame.size and DataFrame.shape are both attributes in Pandas that provide information about the dimensions of a DataFrame, but they differ in the information they provide.\n",
    "\n",
    "DataFrame.size:\n",
    "    1. DataFrame.size returns the total number of elements in the DataFrame, which is calculated as the product of the number of rows and the number of columns.\n",
    "    \n",
    "    2. The returned value represents the total number of cells in the DataFrame, including both populated cells and potential missing or NaN values.\n",
    "    \n",
    "    3. The size attribute does not provide information about the structure or layout of the DataFrame.\n",
    "    \n",
    "    \n",
    "DataFrame.shape:\n",
    "    1. DataFrame.shape returns a tuple representing the dimensions of the DataFrame, i.e., the number of rows and the number of columns.\n",
    "    \n",
    "    2. The returned value is in the format (rows, columns).\n",
    "    \n",
    "    3. This attribute provides information about the structure and layout of the DataFrame, indicating how many rows and columns it contains.\n",
    "    \n",
    "    4. The shape attribute does not include any information about the data within the DataFrame, such as the content of specific cells.\n",
    "    "
   ]
  },
  {
   "cell_type": "markdown",
   "id": "431c8406-1388-400b-a71e-973f12568c02",
   "metadata": {},
   "source": [
    "### Q6. Which function of pandas do we use to read an excel file?"
   ]
  },
  {
   "cell_type": "code",
   "execution_count": 9,
   "id": "bcd62104-39db-4c85-bf00-43182a134026",
   "metadata": {},
   "outputs": [],
   "source": [
    "Answer.\n",
    "Here's an example of how you can use the read_excel() function:\n",
    "\n",
    "import pandas as pd\n",
    "df = pd.read_excel('filename.xlsx')\n"
   ]
  },
  {
   "cell_type": "markdown",
   "id": "c7556ed9-507d-4c31-9aff-42b6ecc6fead",
   "metadata": {},
   "source": [
    "### Q7. You have a Pandas DataFrame df that contains a column named 'Email' that contains emailaddresses in the format 'username@domain.com'. Write a Python function that creates a new column 'Username' in df that contains only the username part of each email address.\n",
    "* The username is the part of the email address that appears before the '@' symbol. For example, if the email address is 'john.doe@example.com', the 'Username' column should contain 'john.doe'. Your function should extract the username from each email address and store it in the new 'Username' column."
   ]
  },
  {
   "cell_type": "code",
   "execution_count": 10,
   "id": "41aed7cb-369e-42ea-b4fa-d618833d63e8",
   "metadata": {},
   "outputs": [],
   "source": [
    "#Answer.\n",
    "# Here's an example of how you can write the Python function:\n",
    "import pandas as pd\n",
    "\n",
    "def extract_username(df):\n",
    "    df['Username'] = df['Email'].str.split('@').str[0]\n",
    "    return df\n"
   ]
  },
  {
   "cell_type": "code",
   "execution_count": 11,
   "id": "ef28a51f-7710-49c9-bcf9-0ace837fe5b9",
   "metadata": {},
   "outputs": [
    {
     "name": "stdout",
     "output_type": "stream",
     "text": [
      "                    Email    Username\n",
      "0    john.doe@example.com    john.doe\n",
      "1  jane.smith@example.com  jane.smith\n"
     ]
    }
   ],
   "source": [
    "#Use this function as follows:\n",
    "df = pd.DataFrame({'Email': ['john.doe@example.com', 'jane.smith@example.com']})\n",
    "new_df = extract_username(df)\n",
    "print(new_df)\n"
   ]
  },
  {
   "cell_type": "markdown",
   "id": "ad19a308-5d01-4d6a-84c5-6e6747a8d01e",
   "metadata": {},
   "source": [
    "### Q8. You have a Pandas DataFrame df with columns 'A', 'B', and 'C'. Write a Python function that selects all rows where the value in column 'A' is greater than 5 and the value in column 'B' is less than 10. The function should return a new DataFrame that contains only the selected rows.\n",
    "* For example, if df contains the following values:\n",
    "`A B C`\n",
    "`0 3 5 1`\n",
    "`1 8 2 7`\n",
    "`2 6 9 4`\n",
    "`3 2 3 5`\n",
    "`4 9 1 2`\n",
    "* Your function should select the following rows: A B C\n",
    "`1 8 2 7`\n",
    "`4 9 1 2`\n",
    "* The function should return a new DataFrame that contains only the selected rows."
   ]
  },
  {
   "cell_type": "code",
   "execution_count": 12,
   "id": "7ca65d94-9b5a-4e5f-8d8b-ba7e789ae848",
   "metadata": {},
   "outputs": [],
   "source": [
    "#Answer.\n",
    "# Here's an example of how you can write the Python function:\n",
    "import pandas as pd\n",
    "\n",
    "def select_rows(df):\n",
    "    selected_rows = df[(df['A'] > 5) & (df['B'] < 10)]\n",
    "    return selected_rows\n"
   ]
  },
  {
   "cell_type": "code",
   "execution_count": 13,
   "id": "c85bbc6d-45da-4127-8087-5d6abd494503",
   "metadata": {},
   "outputs": [
    {
     "name": "stdout",
     "output_type": "stream",
     "text": [
      "   A  B  C\n",
      "1  8  2  7\n",
      "2  6  9  4\n",
      "4  9  1  2\n"
     ]
    }
   ],
   "source": [
    "#Use this function as follows:\n",
    "df = pd.DataFrame({'A': [3, 8, 6, 2, 9], 'B': [5, 2, 9, 3, 1], 'C': [1, 7, 4, 5, 2]})\n",
    "selected_df = select_rows(df)\n",
    "print(selected_df)\n"
   ]
  },
  {
   "cell_type": "markdown",
   "id": "c784b2c9-0af2-46c8-8f44-e10ba0a6fe0e",
   "metadata": {},
   "source": [
    "### Q9. Given a Pandas DataFrame df with a column 'Values', write a Python function to calculate the mean, median, and standard deviation of the values in the 'Values' column."
   ]
  },
  {
   "cell_type": "code",
   "execution_count": 14,
   "id": "d1b2ddd9-13a7-44f4-bcd7-3e3655f30813",
   "metadata": {},
   "outputs": [],
   "source": [
    "#Answer.\n",
    "#Here's an example of how you can write the Python function:\n",
    "import pandas as pd\n",
    "import numpy as np\n",
    "\n",
    "def calculate_stats(df):\n",
    "    values = df['Values']\n",
    "    mean_value = np.mean(values)\n",
    "    median_value = np.median(values)\n",
    "    std_value = np.std(values)\n",
    "    \n",
    "    return mean_value, median_value, std_value\n"
   ]
  },
  {
   "cell_type": "code",
   "execution_count": 16,
   "id": "2eac83bd-2626-453d-9965-5af4718bd239",
   "metadata": {},
   "outputs": [
    {
     "name": "stdout",
     "output_type": "stream",
     "text": [
      "Mean: 30.0\n",
      "Median: 30.0\n",
      "Standard Deviation: 14.142135623730951\n"
     ]
    }
   ],
   "source": [
    "#Use this function as follows:\n",
    "df = pd.DataFrame({'Values': [10, 20, 30, 40, 50]})\n",
    "mean, median, std = calculate_stats(df)\n",
    "print(\"Mean:\", mean)\n",
    "print(\"Median:\", median)\n",
    "print(\"Standard Deviation:\", std)\n"
   ]
  },
  {
   "cell_type": "markdown",
   "id": "b1111ea1-8d22-41d2-a30b-effea304bde3",
   "metadata": {},
   "source": [
    "### Q10. Given a Pandas DataFrame df with a column 'Sales' and a column 'Date', write a Python function to create a new column 'MovingAverage' that contains the moving average of the sales for the past 7 days for each row in the DataFrame. The moving average should be calculated using a window of size 7 and should include the current day."
   ]
  },
  {
   "cell_type": "code",
   "execution_count": 17,
   "id": "c474e2ee-f3de-40ca-aca1-5e8f71263837",
   "metadata": {},
   "outputs": [],
   "source": [
    "#Answer\n",
    "#Here's an example of how you can write the Python function:\n",
    "import pandas as pd\n",
    "\n",
    "def calculate_moving_average(df):\n",
    "    df['MovingAverage'] = df['Sales'].rolling(window=7, min_periods=1).mean()\n",
    "    return df\n"
   ]
  },
  {
   "cell_type": "code",
   "execution_count": 18,
   "id": "bbac5e1f-8291-4a50-a97a-8753d4b370d9",
   "metadata": {},
   "outputs": [
    {
     "name": "stdout",
     "output_type": "stream",
     "text": [
      "        Date  Sales  MovingAverage\n",
      "0 2023-01-01     10           10.0\n",
      "1 2023-01-02     20           15.0\n",
      "2 2023-01-03     30           20.0\n",
      "3 2023-01-04     40           25.0\n",
      "4 2023-01-05     50           30.0\n",
      "5 2023-01-06     60           35.0\n",
      "6 2023-01-07     70           40.0\n",
      "7 2023-01-08     80           50.0\n",
      "8 2023-01-09     90           60.0\n",
      "9 2023-01-10    100           70.0\n"
     ]
    }
   ],
   "source": [
    "#Use this function as follows:\n",
    "df = pd.DataFrame({'Date': pd.date_range(start='1/1/2023', periods=10), 'Sales': [10, 20, 30, 40, 50, 60, 70, 80, 90, 100]})\n",
    "new_df = calculate_moving_average(df)\n",
    "print(new_df)\n"
   ]
  },
  {
   "cell_type": "markdown",
   "id": "c29d9a77-c14c-4a2d-afd4-b9091336a68b",
   "metadata": {},
   "source": [
    "### Q11. You have a Pandas DataFrame df with a column 'Date'. Write a Python function that creates a new column 'Weekday' in the DataFrame. The 'Weekday' column should contain the weekday name (e.g. Monday, Tuesday) corresponding to each date in the 'Date' column.\n",
    "* For example, if df contains the following values:\n",
    "* Date\n",
    "`0 2023-01-01`\n",
    "`1 2023-01-02`\n",
    "`2 2023-01-03`\n",
    "`3 2023-01-04`\n",
    "`4 2023-01-05`\n",
    "* Your function should create the following DataFrame:\n",
    "\n",
    "* Date Weekday\n",
    "`0 2023-01-01 Sunday`\n",
    "`1 2023-01-02 Monday`\n",
    "`2 2023-01-03 Tuesday`\n",
    "`3 2023-01-04 Wednesday`\n",
    "`4 2023-01-05 Thursday`\n",
    "* The function should return the modified DataFrame."
   ]
  },
  {
   "cell_type": "code",
   "execution_count": 22,
   "id": "5200ffb6-d010-48eb-8bbb-32b206921732",
   "metadata": {},
   "outputs": [],
   "source": [
    "#Answer.\n",
    "# Here's an example of how you can write the Python function:\n",
    "import pandas as pd\n",
    "\n",
    "def add_weekday_column(df):\n",
    "    df['Weekday'] = df['Date'].dt.weekday_name\n",
    "    return df\n"
   ]
  },
  {
   "cell_type": "code",
   "execution_count": 27,
   "id": "a681e654-74c8-4a66-a72b-0457951d0ba9",
   "metadata": {},
   "outputs": [],
   "source": [
    "Use this function as follows:\n",
    "df = pd.DataFrame({'Date': pd.date_range(start='2023-01-01', periods=5)})\n",
    "modified_df = add_weekday_column(df)\n",
    "print(modified_df)\n"
   ]
  },
  {
   "cell_type": "markdown",
   "id": "81b8a330-927c-4b3a-94d4-bb6e8ef196fd",
   "metadata": {},
   "source": [
    "### Q12. Given a Pandas DataFrame df with a column 'Date' that contains timestamps, write a Python function to select all rows where the date is between '2023-01-01' and '2023-01-31'."
   ]
  },
  {
   "cell_type": "code",
   "execution_count": 24,
   "id": "a56ad98f-dfa4-4c88-964b-12fed7fbc5f4",
   "metadata": {},
   "outputs": [],
   "source": [
    "#Answer.\n",
    "#Here's an example of how you can write the Python function:\n",
    "import pandas as pd\n",
    "\n",
    "def select_rows_between_dates(df):\n",
    "    start_date = '2023-01-01'\n",
    "    end_date = '2023-01-31'\n",
    "    \n",
    "    selected_rows = df[(df['Date'] >= start_date) & (df['Date'] <= end_date)]\n",
    "    return selected_rows\n"
   ]
  },
  {
   "cell_type": "code",
   "execution_count": 26,
   "id": "7651784b-383c-4cd8-ae47-f5b334b0c1b0",
   "metadata": {},
   "outputs": [
    {
     "name": "stdout",
     "output_type": "stream",
     "text": [
      "         Date\n",
      "0  2023-01-01\n",
      "1  2023-01-02\n",
      "2  2023-01-03\n",
      "3  2023-01-04\n",
      "4  2023-01-05\n",
      "5  2023-01-06\n",
      "6  2023-01-07\n",
      "7  2023-01-08\n",
      "8  2023-01-09\n",
      "9  2023-01-10\n",
      "10 2023-01-11\n",
      "11 2023-01-12\n",
      "12 2023-01-13\n",
      "13 2023-01-14\n",
      "14 2023-01-15\n",
      "15 2023-01-16\n",
      "16 2023-01-17\n",
      "17 2023-01-18\n",
      "18 2023-01-19\n",
      "19 2023-01-20\n",
      "20 2023-01-21\n",
      "21 2023-01-22\n",
      "22 2023-01-23\n",
      "23 2023-01-24\n",
      "24 2023-01-25\n",
      "25 2023-01-26\n",
      "26 2023-01-27\n",
      "27 2023-01-28\n",
      "28 2023-01-29\n",
      "29 2023-01-30\n",
      "30 2023-01-31\n"
     ]
    }
   ],
   "source": [
    "#Use this function as follows:\n",
    "df = pd.DataFrame({'Date': pd.date_range(start='2023-01-01', end='2023-02-28')})\n",
    "selected_df = select_rows_between_dates(df)\n",
    "print(selected_df)\n"
   ]
  },
  {
   "cell_type": "markdown",
   "id": "b9fd5714-8c15-4cca-9968-cb78ae6aa79a",
   "metadata": {},
   "source": [
    "### Q13. To use the basic functions of pandas, what is the first and foremost necessary library that needs to be imported?"
   ]
  },
  {
   "cell_type": "code",
   "execution_count": null,
   "id": "855ec663-7d2d-403b-bbeb-adf8eedde6e3",
   "metadata": {},
   "outputs": [],
   "source": [
    "Answer.\n",
    "The first and foremost necessary library that needs to be imported to use the basic functions of pandas is the pandas library itself. You can import it using the following statement:\n",
    "    \n",
    "    import pandas as pd\n",
    "    "
   ]
  },
  {
   "cell_type": "code",
   "execution_count": null,
   "id": "1129b58c-e446-4b2a-b4c9-d82828e498d9",
   "metadata": {},
   "outputs": [],
   "source": []
  }
 ],
 "metadata": {
  "kernelspec": {
   "display_name": "Python 3 (ipykernel)",
   "language": "python",
   "name": "python3"
  },
  "language_info": {
   "codemirror_mode": {
    "name": "ipython",
    "version": 3
   },
   "file_extension": ".py",
   "mimetype": "text/x-python",
   "name": "python",
   "nbconvert_exporter": "python",
   "pygments_lexer": "ipython3",
   "version": "3.10.8"
  }
 },
 "nbformat": 4,
 "nbformat_minor": 5
}
