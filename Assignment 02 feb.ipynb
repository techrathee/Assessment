{
 "cells": [
  {
   "cell_type": "markdown",
   "id": "485d198b-f9c6-4360-9cdc-07ee11bd98f5",
   "metadata": {},
   "source": [
    "# Assignment "
   ]
  },
  {
   "cell_type": "markdown",
   "id": "399444ca-3296-4634-9d5c-8d6df42c8e45",
   "metadata": {},
   "source": [
    "## 02 feb 2023"
   ]
  },
  {
   "cell_type": "markdown",
   "id": "228e218b-b626-4f65-8a89-5656ebd0d45a",
   "metadata": {},
   "source": [
    "### Q1. Explain with an example each when to use a for loop and a while loop."
   ]
  },
  {
   "cell_type": "code",
   "execution_count": null,
   "id": "83220acd-43d2-45bb-a4ad-a7a2608a3d18",
   "metadata": {},
   "outputs": [],
   "source": [
    "#for loop\n",
    "Ans. For loops and while loops are both programming constructs that are used for iteration or repetition in code.\n",
    "They can both be used to accomplish similar tasks, but there are some differences in when they are most appropriate to use."
   ]
  },
  {
   "cell_type": "code",
   "execution_count": 3,
   "id": "5b93f0b5-3cb4-436b-8496-4453b485875b",
   "metadata": {},
   "outputs": [
    {
     "name": "stdout",
     "output_type": "stream",
     "text": [
      "1\n",
      "2\n",
      "3\n",
      "4\n",
      "5\n",
      "6\n",
      "7\n",
      "8\n",
      "9\n",
      "10\n"
     ]
    }
   ],
   "source": [
    "#For example, if you want to print the numbers from 1 to 10, you could use a for loop like this:\n",
    "for i in range(1, 11):\n",
    "    print(i)"
   ]
  },
  {
   "cell_type": "code",
   "execution_count": null,
   "id": "3341092f-c9ba-4a8a-91c7-feaa76df4a57",
   "metadata": {},
   "outputs": [],
   "source": [
    "# while loop\n",
    "A while loop, on the other hand, is typically used when you want to repeat a block of code until a specific condition is met.\n",
    "This condition is checked at the beginning of each iteration of the loop. "
   ]
  },
  {
   "cell_type": "code",
   "execution_count": 2,
   "id": "8ba5922d-3df1-4392-bfa4-5c64f957fb37",
   "metadata": {},
   "outputs": [
    {
     "name": "stdout",
     "output_type": "stream",
     "text": [
      "1\n",
      "2\n",
      "3\n",
      "4\n",
      "5\n",
      "6\n",
      "7\n",
      "8\n",
      "9\n",
      "10\n"
     ]
    }
   ],
   "source": [
    "#Here's an example of a while loop\n",
    "num = 1\n",
    "while num <= 10:\n",
    "    print(num)\n",
    "    num= num+1"
   ]
  },
  {
   "cell_type": "markdown",
   "id": "effb75fb-46f4-40f7-aad3-26e2f24bd464",
   "metadata": {},
   "source": [
    "### Q2. Write a python program to print the sum and product of the first 10 natural numbers using for and while loop."
   ]
  },
  {
   "cell_type": "code",
   "execution_count": null,
   "id": "34a6ae45-c14f-49f7-a295-2763f644ddc9",
   "metadata": {},
   "outputs": [],
   "source": [
    "Ans.Here's the Python code to print the sum and product of the first 10 natural numbers using a for loop:"
   ]
  },
  {
   "cell_type": "code",
   "execution_count": 12,
   "id": "2e3bc5ee-febf-45db-994d-7e7ee8911d84",
   "metadata": {
    "tags": []
   },
   "outputs": [
    {
     "name": "stdout",
     "output_type": "stream",
     "text": [
      "Sum of first 10 natural numbers is: 55\n",
      "Product of first 10 natural numbers is: 3628800\n"
     ]
    }
   ],
   "source": [
    "# Using for loop to find sum and product of first 10 natural numbers\n",
    "sum = 0\n",
    "product = 1\n",
    "\n",
    "for i in range(1, 11):\n",
    "    sum =sum+i\n",
    "    product =product*i\n",
    "\n",
    "print(\"Sum of first 10 natural numbers is:\", sum)\n",
    "print(\"Product of first 10 natural numbers is:\", product)\n"
   ]
  },
  {
   "cell_type": "code",
   "execution_count": 20,
   "id": "9ae7f473-4483-45d1-b9e1-3e5c9dacd84f",
   "metadata": {},
   "outputs": [
    {
     "name": "stdout",
     "output_type": "stream",
     "text": [
      "Sum of first 10 natural numbers is: 55\n",
      "Product of first 10 natural numbers is: 3628800\n"
     ]
    }
   ],
   "source": [
    "# And here's the code to do the same using a while loop:\n",
    "# Using while loop to find sum and product of first 10 natural numbers\n",
    "sum = 0\n",
    "product = 1\n",
    "i = 1\n",
    "\n",
    "while i <= 10:\n",
    "    sum =sum+ i\n",
    "    product =product* i\n",
    "    i = i+ 1\n",
    "\n",
    "print(\"Sum of first 10 natural numbers is:\", sum)\n",
    "print(\"Product of first 10 natural numbers is:\", product)\n"
   ]
  },
  {
   "cell_type": "markdown",
   "id": "76ce3a90-5d2f-4b9c-8da2-f869425d100c",
   "metadata": {},
   "source": [
    "## Q3. Create a python program to compute the electricity bill for a household.\n",
    "The per-unit charges in rupees are as follows: For the first 100 units, the user will be charged Rs. 4.5 per\n",
    "unit, for the next 100 units, the user will be charged Rs. 6 per unit, and for the next 100 units, the user will\n",
    "be charged Rs. 10 per unit, After 300 units and above the user will be charged Rs. 20 per unit.\n",
    "* Your program must pass this test case: when the unit of electricity consumed by the user in a month is 310, the total electricity bill should be 2250."
   ]
  },
  {
   "cell_type": "code",
   "execution_count": 13,
   "id": "7536edc6-cdff-4301-974e-b0b59efe94e4",
   "metadata": {},
   "outputs": [
    {
     "name": "stdin",
     "output_type": "stream",
     "text": [
      "Enter the units consumed:  310\n"
     ]
    },
    {
     "name": "stdout",
     "output_type": "stream",
     "text": [
      "Electricity bill for the month is: Rs. 2250.0\n"
     ]
    }
   ],
   "source": [
    "#Here's a Python program to compute the electricity bill for a household:\n",
    "# Taking user input for units consumed in a month\n",
    "units = int(input(\"Enter the units consumed: \"))\n",
    "bill = 0\n",
    "# Calculating the electricity bill based on the slab rates\n",
    "if units <= 100:\n",
    "    bill = units * 4.5\n",
    "elif units <= 200:\n",
    "    bill = 100 * 4.5 + (units - 100) * 6\n",
    "elif units <= 300:\n",
    "    bill = 100 * 4.5 + 100 * 6 + (units - 200) * 10\n",
    "else:\n",
    "    bill = 100 * 4.5 + 100 * 6 + 100 * 10 + (units - 300) * 20\n",
    "    \n",
    "print(\"Electricity bill for the month is: Rs.\", bill)\n"
   ]
  },
  {
   "cell_type": "markdown",
   "id": "18a0e19d-afd3-4303-914e-5155c5e3b696",
   "metadata": {},
   "source": [
    "### Q4. Create a list of numbers from 1 to 100. \n",
    "Use for loop and while loop to calculate the cube of each number and if the cube of that number is divisible by 4 or 5 then append that number in a list and print that list."
   ]
  },
  {
   "cell_type": "code",
   "execution_count": 18,
   "id": "56792a16-c55d-43ad-a047-8ae3e6ab089f",
   "metadata": {},
   "outputs": [
    {
     "name": "stdout",
     "output_type": "stream",
     "text": [
      "Numbers whose cube is divisible by 4 or 5: [4, 5, 8, 10, 12, 15, 16, 20, 24, 25, 28, 30, 32, 35, 36, 40, 44, 45, 48, 50, 52, 55, 56, 60, 64, 65, 68, 70, 72, 75, 76, 80, 84, 85, 88, 90, 92, 95, 96, 100]\n"
     ]
    }
   ],
   "source": [
    "# Using for loop to calculate cube of each number\n",
    "numbers = list(range(1, 101))\n",
    "cubes = []\n",
    "\n",
    "for num in numbers:\n",
    "    cube = num * 3\n",
    "    if cube % 4 == 0 or cube % 5 == 0:\n",
    "        cubes.append(num)\n",
    "\n",
    "print(\"Numbers whose cube is divisible by 4 or 5:\", cubes)\n"
   ]
  },
  {
   "cell_type": "code",
   "execution_count": 21,
   "id": "e3482052-913e-4205-ba71-57b491d55a97",
   "metadata": {},
   "outputs": [
    {
     "name": "stdout",
     "output_type": "stream",
     "text": [
      "Numbers whose cube is divisible by 4 or 5: [4, 5, 8, 10, 12, 15, 16, 20, 24, 25, 28, 30, 32, 35, 36, 40, 44, 45, 48, 50, 52, 55, 56, 60, 64, 65, 68, 70, 72, 75, 76, 80, 84, 85, 88, 90, 92, 95, 96, 100]\n"
     ]
    }
   ],
   "source": [
    "# Using while loop to calculate cube of each number\n",
    "numbers = list(range(1, 101))\n",
    "cubes = []\n",
    "i = 0\n",
    "\n",
    "while i < len(numbers):\n",
    "    cube = numbers[i] * 3\n",
    "    if cube % 4 == 0 or cube % 5 == 0:\n",
    "        cubes.append(numbers[i])\n",
    "    i = i + 1\n",
    "\n",
    "print(\"Numbers whose cube is divisible by 4 or 5:\", cubes)\n"
   ]
  },
  {
   "cell_type": "markdown",
   "id": "75640df7-8c8c-4848-b5e2-a9b440916b0b",
   "metadata": {},
   "source": [
    "### Q5.  Write a program to filter count vowels in the below-given string.\n",
    "string = \"I want to become a data scientist\""
   ]
  },
  {
   "cell_type": "code",
   "execution_count": 27,
   "id": "e8746e37-2d65-4304-b67e-4ccc746dca4c",
   "metadata": {},
   "outputs": [
    {
     "name": "stdout",
     "output_type": "stream",
     "text": [
      "Number of vowels in the string: 12\n"
     ]
    }
   ],
   "source": [
    "# Defining a function to count vowels\n",
    "def count_vowels(string):\n",
    "    vowels = \"aeiouAEIOU\"\n",
    "    count = 0\n",
    "    \n",
    "    for char in string:\n",
    "        if char in vowels:\n",
    "            count = count+ 1\n",
    "            \n",
    "    return count\n",
    "\n",
    "# Main program\n",
    "string = \"I want to become a data scientist\"\n",
    "vowel_count = count_vowels(string)\n",
    "\n",
    "print(\"Number of vowels in the string:\", vowel_count)\n"
   ]
  },
  {
   "cell_type": "code",
   "execution_count": null,
   "id": "a4fbca17-f568-415e-a155-54fc9fc1c57c",
   "metadata": {},
   "outputs": [],
   "source": []
  },
  {
   "cell_type": "code",
   "execution_count": null,
   "id": "95fdf6f9-3230-430a-a786-5533f269f0f3",
   "metadata": {},
   "outputs": [],
   "source": []
  }
 ],
 "metadata": {
  "kernelspec": {
   "display_name": "Python 3 (ipykernel)",
   "language": "python",
   "name": "python3"
  },
  "language_info": {
   "codemirror_mode": {
    "name": "ipython",
    "version": 3
   },
   "file_extension": ".py",
   "mimetype": "text/x-python",
   "name": "python",
   "nbconvert_exporter": "python",
   "pygments_lexer": "ipython3",
   "version": "3.9.13"
  }
 },
 "nbformat": 4,
 "nbformat_minor": 5
}
