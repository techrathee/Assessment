{
 "cells": [
  {
   "cell_type": "markdown",
   "id": "b5fb3b4d-4a38-4f6a-a289-9cbdc06bb272",
   "metadata": {},
   "source": [
    "# Assignment "
   ]
  },
  {
   "cell_type": "markdown",
   "id": "168a5c20-ffc2-42e2-9b78-3b58ae535ac7",
   "metadata": {},
   "source": [
    "## 05 feb 2023"
   ]
  },
  {
   "cell_type": "markdown",
   "id": "d62c1253-0eab-4d23-a9a0-9225573cedbd",
   "metadata": {},
   "source": [
    "###  Q1. Explain Class and Object with respect to Object-Oriented Programming. Give a suitable example."
   ]
  },
  {
   "cell_type": "code",
   "execution_count": null,
   "id": "7b1b375d-dbf0-421a-be67-61a452622b8a",
   "metadata": {},
   "outputs": [],
   "source": [
    "#Ans\n",
    "An object, on the other hand, is an instance of a class. It represents a particular entity that has been created based on the class definition.\n",
    "The object contains the actual data that corresponds to the attributes defined in the class,\n",
    "as well as the code that implements the methods defined in the class."
   ]
  },
  {
   "cell_type": "code",
   "execution_count": 5,
   "id": "32d47da9-0476-4e6b-b928-8a6befedf524",
   "metadata": {},
   "outputs": [],
   "source": [
    "#Here's an example\n",
    "class person:\n",
    "    def __init__(self, name, age):\n",
    "        self.name = name\n",
    "        self.age = age\n",
    "\n",
    "    def return_person (self):\n",
    "        return(\"Hello, my name is \" + self.name + \" and I am \" + str(self.age) + \" years old.\")\n"
   ]
  },
  {
   "cell_type": "code",
   "execution_count": 16,
   "id": "aaae8650-1221-414f-a627-a08db107227e",
   "metadata": {},
   "outputs": [],
   "source": [
    "person1 = person(\"Priyanshu\", 19)"
   ]
  },
  {
   "cell_type": "code",
   "execution_count": 18,
   "id": "6c8a716a-b596-4910-ae3c-115803d0b5fe",
   "metadata": {},
   "outputs": [
    {
     "data": {
      "text/plain": [
       "'Hello, my name is Priyanshu and I am 19 years old.'"
      ]
     },
     "execution_count": 18,
     "metadata": {},
     "output_type": "execute_result"
    }
   ],
   "source": [
    "person1.return_person()"
   ]
  },
  {
   "cell_type": "code",
   "execution_count": 19,
   "id": "730b82d1-f8a6-4ca8-83f3-9f76c450a899",
   "metadata": {},
   "outputs": [],
   "source": [
    "person2 = person(\"Techrathee\", 20)"
   ]
  },
  {
   "cell_type": "code",
   "execution_count": 20,
   "id": "4b89e2db-8ffd-4af0-9c43-768bfe5e2a5d",
   "metadata": {},
   "outputs": [
    {
     "data": {
      "text/plain": [
       "'Hello, my name is Techrathee and I am 20 years old.'"
      ]
     },
     "execution_count": 20,
     "metadata": {},
     "output_type": "execute_result"
    }
   ],
   "source": [
    "person2.return_person()"
   ]
  },
  {
   "cell_type": "markdown",
   "id": "d2429fff-1cea-4ba0-84ab-e86b15456894",
   "metadata": {},
   "source": [
    "### Q2. Name the four pillars of OOPs."
   ]
  },
  {
   "cell_type": "markdown",
   "id": "4b1d8d6b-b0d3-45f7-8091-c9be45d1ab56",
   "metadata": {},
   "source": [
    "# Ans\n",
    " # The four pillars of Object-Oriented Programming (OOPs) are:\n",
    "\n",
    "    1.  Encapsulation: This refers to the practice of hiding the internal details of an object and providing a public interface through which\n",
    "        other objects can interact with it. Encapsulation helps to protect the data and behavior of an object from external interference,\n",
    "        and also allows for better organization and maintainability of code.\n",
    "    \n",
    "    2.  Inheritance: Inheritance is a mechanism that allows a new class to be based on an existing class, inheriting its attributes and methods. \n",
    "        This helps to promote code reuse and can also facilitate code organization and maintenance.\n",
    "        \n",
    "    3. Polymorphism: Polymorphism is the ability of objects of different classes to be treated as if they are of the same type. \n",
    "       This can be achieved through method overloading (having multiple methods with the same name but different parameters) or method overriding \n",
    "        (redefining a method in a subclass).\n",
    "        \n",
    "    4. Abstraction: Abstraction is the process of identifying essential features of an object and ignoring the non-essential details.\n",
    "       It allows for the creation of simplified, generalized models that can be used to represent complex systems. \n",
    "        Abstraction can help to reduce complexity and improve maintainability of code."
   ]
  },
  {
   "cell_type": "markdown",
   "id": "dd5b15f6-3df7-48f7-9e29-e9bf23e53f0b",
   "metadata": {},
   "source": [
    "### Q3. Explain why the __init__() function is used. Give a suitable example."
   ]
  },
  {
   "cell_type": "code",
   "execution_count": null,
   "id": "02531861-79cb-4e47-831b-a59dc147afbd",
   "metadata": {},
   "outputs": [],
   "source": [
    "#Ans\n",
    "The __init__() method allows us to define the initial state of an object and perform any necessary setup that needs to be done when an object is created.\n",
    "It is also commonly used to set default values for attributes, and to validate input data before it is assigned to an attribute."
   ]
  },
  {
   "cell_type": "code",
   "execution_count": 22,
   "id": "457d27f3-c517-4d23-8ad6-2da85c25c826",
   "metadata": {},
   "outputs": [],
   "source": [
    "#Here's an example to illustrate the use of __init__() method:\n",
    "class data:\n",
    "    def __init__(self , student_id ,phone_number,email_id):\n",
    "        self.student_id = student_id\n",
    "        self.phone_number = phone_number\n",
    "        self.email_id = email_id\n",
    "        \n",
    "    def return_studend_details (self):\n",
    "        return self.student_id ,self.phone_number,self.email_id"
   ]
  },
  {
   "cell_type": "code",
   "execution_count": 23,
   "id": "f01df470-5ed3-4ba4-a81a-1b11b71ab772",
   "metadata": {},
   "outputs": [],
   "source": [
    "priyanshu = data(305,7389862911,\"techrathee@gmail.com\")"
   ]
  },
  {
   "cell_type": "code",
   "execution_count": 25,
   "id": "92d5d13c-e11b-46eb-b36c-6586a0eb3f47",
   "metadata": {},
   "outputs": [
    {
     "data": {
      "text/plain": [
       "(305, 7389862911, 'techrathee@gmail.com')"
      ]
     },
     "execution_count": 25,
     "metadata": {},
     "output_type": "execute_result"
    }
   ],
   "source": [
    "priyanshu.return_studend_details()"
   ]
  },
  {
   "cell_type": "markdown",
   "id": "054bd0fa-3608-433f-831c-7920251c853b",
   "metadata": {},
   "source": [
    "### Q4. Why self is used in OOPs?"
   ]
  },
  {
   "cell_type": "code",
   "execution_count": null,
   "id": "0832a2a5-4039-4362-9e6e-5f8da296fc05",
   "metadata": {},
   "outputs": [],
   "source": [
    "#Ans \n",
    "In Object-Oriented Programming (OOPs), the \"self\" keyword is used to refer to the instance of the class that is currently being manipulated. \n",
    "It is a convention in Python, and some other languages, to use \"self\" as the first parameter of instance methods,\n",
    "although you could technically call it anything."
   ]
  },
  {
   "cell_type": "code",
   "execution_count": 48,
   "id": "3cb5457c-ed1d-4b27-abea-fc3842c6f935",
   "metadata": {},
   "outputs": [],
   "source": [
    "#Here's an example to illustrate the use of \"self\" in OOPs:\n",
    "class Person:\n",
    "    def __init__(self, name, age):\n",
    "        self.name = name\n",
    "        self.age = age\n",
    "\n",
    "    def introduce(self):\n",
    "        print(f\"My name is {self.name} and I'm {self.age} years old.\")\n"
   ]
  },
  {
   "cell_type": "code",
   "execution_count": 45,
   "id": "221dd0d3-f997-4b02-84c5-a4d683cecb08",
   "metadata": {},
   "outputs": [],
   "source": [
    "person1 = Person(\"Alice\", 25)"
   ]
  },
  {
   "cell_type": "code",
   "execution_count": 47,
   "id": "6e95515c-3e5f-4eed-8411-4445e6f5db8f",
   "metadata": {},
   "outputs": [
    {
     "name": "stdout",
     "output_type": "stream",
     "text": [
      "My name is Alice and I'm 25 years old.\n"
     ]
    }
   ],
   "source": [
    "person1.introduce()"
   ]
  },
  {
   "cell_type": "markdown",
   "id": "73f28ed6-99b7-43e6-9e20-f50149cd3cf1",
   "metadata": {},
   "source": [
    "### Q5. What is inheritance? Give an example for each type of inheritance."
   ]
  },
  {
   "cell_type": "code",
   "execution_count": null,
   "id": "2470bab2-fcd6-4715-9feb-0255125f5348",
   "metadata": {},
   "outputs": [],
   "source": [
    "#Ans\n",
    "Inheritance is a mechanism in object-oriented programming (OOPs) that allows a new class to be based on an existing class,\n",
    "inheriting all of its attributes and methods. Inheritance enables code reusability and helps to create a hierarchical structure of classes."
   ]
  },
  {
   "cell_type": "code",
   "execution_count": 51,
   "id": "3af53815-b666-4ad3-99d6-2acc6cacb6f4",
   "metadata": {},
   "outputs": [],
   "source": [
    "#Single inheritance: This is where a subclass inherits from a single parent class. It is the simplest and most commonly used type of inheritance. \n",
    "#Here's an example:\n",
    "class Animal:\n",
    "    def __init__(self, name, age):\n",
    "        self.name = name\n",
    "        self.age = age\n",
    "\n",
    "    def make_sound(self):\n",
    "        pass\n",
    "\n",
    "class Dog(Animal):\n",
    "    def make_sound(self):\n",
    "        print(\"Woof!\")\n",
    "\n"
   ]
  },
  {
   "cell_type": "code",
   "execution_count": 52,
   "id": "d6988859-3982-4046-82dc-59a3a70fcca9",
   "metadata": {},
   "outputs": [],
   "source": [
    "dog1 = Dog(\"Buddy\", 3)"
   ]
  },
  {
   "cell_type": "code",
   "execution_count": 54,
   "id": "bbb4b297-b27f-4582-8ae4-e3097b61f856",
   "metadata": {},
   "outputs": [
    {
     "name": "stdout",
     "output_type": "stream",
     "text": [
      "Buddy\n",
      "Woof!\n"
     ]
    }
   ],
   "source": [
    "print(dog1.name)\n",
    "dog1.make_sound()\n"
   ]
  },
  {
   "cell_type": "code",
   "execution_count": 56,
   "id": "123f113f-196c-41f1-ab87-6592c006e794",
   "metadata": {},
   "outputs": [],
   "source": [
    "# Multiple inheritance: This is where a subclass inherits from multiple parent classes. \n",
    "# It allows the subclass to combine the attributes and methods of multiple classes.\n",
    "# Here's an example:\n",
    "class Employee:\n",
    "    def __init__(self, name, salary):\n",
    "        self.name = name\n",
    "        self.salary = salary\n",
    "\n",
    "    def get_salary(self):\n",
    "        return self.salary\n",
    "\n",
    "class Manager:\n",
    "    def __init__(self, team):\n",
    "        self.team = team\n",
    "\n",
    "    def get_team(self):\n",
    "        return self.team\n",
    "\n",
    "class ManagerEmployee(Employee, Manager):\n",
    "    def __init__(self, name, salary, team):\n",
    "        Employee.__init__(self, name, salary)\n",
    "        Manager.__init__(self, team)\n",
    "\n",
    "    def get_info(self):\n",
    "        print(f\"{self.name} is a manager of the {self.team} team and has a salary of {self.salary}.\")\n",
    "\n"
   ]
  },
  {
   "cell_type": "code",
   "execution_count": 57,
   "id": "b0a6f01d-66af-4b47-801c-9ceb068568a5",
   "metadata": {},
   "outputs": [],
   "source": [
    "manager_employee1 = ManagerEmployee(\"Alice\", 50000, \"Marketing\")"
   ]
  },
  {
   "cell_type": "code",
   "execution_count": 58,
   "id": "791bf359-77c5-402e-8463-3ebfb64bffff",
   "metadata": {},
   "outputs": [
    {
     "name": "stdout",
     "output_type": "stream",
     "text": [
      "Alice is a manager of the Marketing team and has a salary of 50000.\n"
     ]
    }
   ],
   "source": [
    "manager_employee1.get_info()"
   ]
  },
  {
   "cell_type": "code",
   "execution_count": null,
   "id": "24a172d6-10d2-4fd0-9873-f91860aa17f3",
   "metadata": {},
   "outputs": [],
   "source": []
  },
  {
   "cell_type": "code",
   "execution_count": null,
   "id": "83d9c47b-e655-4201-9c67-2bfbe95c9408",
   "metadata": {},
   "outputs": [],
   "source": []
  },
  {
   "cell_type": "code",
   "execution_count": null,
   "id": "2e711a66-2e11-4073-9f74-881a1041c577",
   "metadata": {},
   "outputs": [],
   "source": []
  },
  {
   "cell_type": "code",
   "execution_count": null,
   "id": "daafed92-9dd6-480e-b92a-4783dfc12b49",
   "metadata": {},
   "outputs": [],
   "source": []
  },
  {
   "cell_type": "code",
   "execution_count": null,
   "id": "595bee7c-476b-4e6b-a30c-e3c0b21770d1",
   "metadata": {},
   "outputs": [],
   "source": []
  }
 ],
 "metadata": {
  "kernelspec": {
   "display_name": "Python 3 (ipykernel)",
   "language": "python",
   "name": "python3"
  },
  "language_info": {
   "codemirror_mode": {
    "name": "ipython",
    "version": 3
   },
   "file_extension": ".py",
   "mimetype": "text/x-python",
   "name": "python",
   "nbconvert_exporter": "python",
   "pygments_lexer": "ipython3",
   "version": "3.9.13"
  }
 },
 "nbformat": 4,
 "nbformat_minor": 5
}
