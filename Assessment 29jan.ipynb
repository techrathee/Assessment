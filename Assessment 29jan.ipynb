{
 "cells": [
  {
   "cell_type": "markdown",
   "id": "f4c794ff-d69c-4a33-9852-992c74491af6",
   "metadata": {},
   "source": [
    "# Assignment "
   ]
  },
  {
   "cell_type": "markdown",
   "id": "5c53aaab-a115-4363-bdc8-7a2546f7a58e",
   "metadata": {},
   "source": [
    "## 29jan 2023"
   ]
  },
  {
   "cell_type": "markdown",
   "id": "aa57ecce-b95a-47c2-874a-c0c5803d903a",
   "metadata": {},
   "source": [
    "### Q1. Who developed python programming language"
   ]
  },
  {
   "cell_type": "code",
   "execution_count": null,
   "id": "4ec7ddbe-81d1-4981-9c17-d45da65d9410",
   "metadata": {},
   "outputs": [],
   "source": [
    "#Ans\n",
    "Python programming language was developed by Guido van Rossum in the late 1980s while working at the National Research Institute for Mathematics\n",
    "and Computer Science in the Netherlands. Guido van Rossum started working on Python in December 1989 and released the first version, Python 0.9.0,\n",
    "in February 1991. Since then, Python has evolved and grown to become one of the most popular programming languages in the world.\n"
   ]
  },
  {
   "cell_type": "markdown",
   "id": "8fb9d443-830b-4cb4-bd77-e4585e53de1d",
   "metadata": {},
   "source": [
    "### Q2. Which type of programming does python support"
   ]
  },
  {
   "cell_type": "code",
   "execution_count": null,
   "id": "c9254f75-1bc4-4a0c-824e-ec4f19e516d6",
   "metadata": {},
   "outputs": [],
   "source": [
    "#Ans\n",
    "Python is a versatile programming language that supports a variety of programming paradigms, including:\n",
    "    1. Procedural programming: Python provides the necessary features to write structured code in a procedural style, \n",
    "       where the program is divided into a set of functions and procedures that manipulate data.\n",
    "  \n",
    "    2. Object-oriented programming (OOP): Python is a fully object-oriented language, which means that it supports the creation and manipulation \n",
    "       of objects, classes, and inheritance.\n",
    "        \n",
    "    3. Functional programming: Python supports functional programming constructs such as lambda functions, map, filter,\n",
    "       and reduce, which allow developers to write code in a functional style.\n",
    "        \n",
    "    4. Scripting: Python is often used as a scripting language for tasks such as automating system administration tasks, testing, and data processing.\n",
    "    \n",
    "    5. Web development: Python has several frameworks for web development, including Django and Flask,\n",
    "    which allow developers to build web applications quickly and efficiently.\n",
    "    "
   ]
  },
  {
   "cell_type": "markdown",
   "id": "ec8d8685-2298-4bad-b539-38da00180aff",
   "metadata": {},
   "source": [
    "### Q3. Is Python case sensitive when dealing with identifiers"
   ]
  },
  {
   "cell_type": "code",
   "execution_count": null,
   "id": "afb9678d-7541-4d55-a82b-e7171094b940",
   "metadata": {},
   "outputs": [],
   "source": [
    "#Ans\n",
    "Yes, Python is case sensitive when dealing with identifiers. Identifiers are names given to variables, functions, classes, and other objects in Python code. \n",
    "Python treats identifiers with different capitalization as distinct entities.\n",
    "\n",
    "For example, the variables \"myVariable\" and \"myvariable\" would be treated as two separate variables by Python. This means that if you define a variable \n",
    "with a certain capitalization, you must use the same capitalization whenever you refer to that variable in your code.\n"
   ]
  },
  {
   "cell_type": "code",
   "execution_count": 2,
   "id": "6fd1d104-ed2c-4ec9-8534-b4d23e47f8b9",
   "metadata": {},
   "outputs": [
    {
     "name": "stdout",
     "output_type": "stream",
     "text": [
      "10\n"
     ]
    }
   ],
   "source": [
    "#Here's an example:\n",
    "myVariable = 10\n",
    "print(myVariable)\n"
   ]
  },
  {
   "cell_type": "code",
   "execution_count": 3,
   "id": "2285cbf4-ffa3-4c77-91f9-9f500c616dcd",
   "metadata": {},
   "outputs": [
    {
     "ename": "NameError",
     "evalue": "name 'MyVariable' is not defined",
     "output_type": "error",
     "traceback": [
      "\u001b[1;31m---------------------------------------------------------------------------\u001b[0m",
      "\u001b[1;31mNameError\u001b[0m                                 Traceback (most recent call last)",
      "\u001b[1;32m~\\AppData\\Local\\Temp\\ipykernel_2800\\1006685063.py\u001b[0m in \u001b[0;36m<module>\u001b[1;34m\u001b[0m\n\u001b[1;32m----> 1\u001b[1;33m \u001b[0mprint\u001b[0m\u001b[1;33m(\u001b[0m\u001b[0mMyVariable\u001b[0m\u001b[1;33m)\u001b[0m\u001b[1;33m\u001b[0m\u001b[1;33m\u001b[0m\u001b[0m\n\u001b[0m",
      "\u001b[1;31mNameError\u001b[0m: name 'MyVariable' is not defined"
     ]
    }
   ],
   "source": [
    "print(MyVariable)\n"
   ]
  },
  {
   "cell_type": "code",
   "execution_count": null,
   "id": "41c44dc0-5376-4bea-a6b6-ebddd6c01351",
   "metadata": {},
   "outputs": [],
   "source": [
    "In the above example, if we try to print the value of \"MyVariable\" (with a capital \"M\") instead of \"myVariable\", we will get a NameError, \n",
    "because Python treats \"myVariable\" and \"MyVariable\" as two different variables.\n"
   ]
  },
  {
   "cell_type": "markdown",
   "id": "acc8c328-d2db-45c4-8886-012247c0a73d",
   "metadata": {},
   "source": [
    "### Q4. What is the correct extension of the Python file"
   ]
  },
  {
   "cell_type": "code",
   "execution_count": null,
   "id": "aa4265b9-c27c-4ab2-ace0-96e557cf058d",
   "metadata": {},
   "outputs": [],
   "source": [
    "#Ans\n",
    "It's important to note that the \".py\" extension is not mandatory when you write Python code in an interactive Python shell or in a Jupyter notebook, \n",
    "as these environments don't save code to files. However, when you write Python code in a text editor or an IDE and save it to a file, \n",
    " you should use the \".py\" extension to indicate that it contains Python code.\n",
    "    "
   ]
  },
  {
   "cell_type": "markdown",
   "id": "fd7791d9-2976-4881-99c9-f89fcb417526",
   "metadata": {},
   "source": [
    "### Q5. Is Python code compiled or interpreted"
   ]
  },
  {
   "cell_type": "code",
   "execution_count": null,
   "id": "b2e3fc4f-f011-4075-8eee-9f81dcdc4649",
   "metadata": {},
   "outputs": [],
   "source": [
    "#Ans\n",
    "This means that Python code can be executed without the need for a separate compilation step. When you run a Python program, the interpreter reads \n",
    "the source code, translates it into bytecode, and executes it on-the-fly. This makes Python a very convenient language for rapid prototyping and \n",
    "iterative development.\n",
    "\n",
    "However, some Python implementations, such as PyPy, can use a Just-In-Time (JIT) compiler to improve performance by compiling frequently executed bytecode \n",
    "into machine code at runtime. This is done dynamically, as the program is running, and can result in significant performance gains.\n"
   ]
  },
  {
   "cell_type": "markdown",
   "id": "34d78dee-f7a3-45de-a5d4-1ba74408bb75",
   "metadata": {},
   "source": [
    "### Q6. Name a few blocks of code used to define in Python language? "
   ]
  },
  {
   "cell_type": "code",
   "execution_count": 4,
   "id": "09751f50-7318-4deb-96ab-072a9f1a037c",
   "metadata": {},
   "outputs": [],
   "source": [
    "#Ans\n",
    "# Function definition block:\n",
    "def my_function(arg1, arg2):\n",
    "    # This is the function body\n",
    "    result = arg1 + arg2\n",
    "    return result\n"
   ]
  },
  {
   "cell_type": "code",
   "execution_count": null,
   "id": "0c3fbaff-dc87-4cba-afe7-7c15155e7194",
   "metadata": {},
   "outputs": [],
   "source": [
    "# Conditional block:\n",
    "if x > 0:\n",
    "    # This code will be executed if x is greater than 0\n",
    "    print(\"x is positive\")\n",
    "else:\n",
    "    # This code will be executed if x is less than or equal to 0\n",
    "    print(\"x is not positive\")\n"
   ]
  },
  {
   "cell_type": "code",
   "execution_count": null,
   "id": "db5b32d7-2411-41e5-b114-c143409df52e",
   "metadata": {},
   "outputs": [],
   "source": [
    "# Looping block:\n",
    "for i in range(10):\n",
    "    # This code will be executed 10 times\n",
    "    print(i)\n"
   ]
  },
  {
   "cell_type": "code",
   "execution_count": null,
   "id": "28a86769-792d-4ffc-b98b-2d6158e834ea",
   "metadata": {},
   "outputs": [],
   "source": [
    "# Class definition block:\n",
    "class MyClass:\n",
    "    def __init__(self, arg1, arg2):\n",
    "        self.arg1 = arg1\n",
    "        self.arg2 = arg2\n",
    "\n",
    "    def my_method(self):\n",
    "        # This is a method of the class\n",
    "        print(self.arg1 + self.arg2)\n"
   ]
  },
  {
   "cell_type": "markdown",
   "id": "c7c94ea2-aade-4234-89a6-5141c718d29a",
   "metadata": {},
   "source": [
    "### Q7. State a character used to give single-line comments in Python"
   ]
  },
  {
   "cell_type": "code",
   "execution_count": null,
   "id": "1dd19578-5d2b-4fc9-93ae-acaf909f7b84",
   "metadata": {},
   "outputs": [],
   "source": [
    "#Ans\n",
    "In Python, the hash symbol (#) is used to indicate a single-line comment. Any text that appears after the # symbol on the same line is treated as a\n",
    "comment and is ignored by the Python interpreter."
   ]
  },
  {
   "cell_type": "code",
   "execution_count": null,
   "id": "806d2a61-49d3-40d9-9f96-ccba552a7426",
   "metadata": {},
   "outputs": [],
   "source": [
    "# For example:\n",
    "# This is a comment in Python\n",
    "\n",
    "print(\"Hello, world!\")  # This is another comment\n",
    "\n",
    "# You can also use comments to disable or \"comment out\" code that you don't want to run\n",
    "# print(\"This code will not be executed\")\n"
   ]
  },
  {
   "cell_type": "markdown",
   "id": "b21bbf5d-b28c-42e2-add7-43d046c74d1f",
   "metadata": {},
   "source": [
    "### Q8. Mention functions which can help us to find the version of python that we are currently working on"
   ]
  },
  {
   "cell_type": "code",
   "execution_count": 6,
   "id": "5aaf65cb-6f81-473c-ad9e-345f1244c430",
   "metadata": {},
   "outputs": [
    {
     "name": "stdout",
     "output_type": "stream",
     "text": [
      "3.9.13 (main, Aug 25 2022, 23:51:50) [MSC v.1916 64 bit (AMD64)]\n"
     ]
    }
   ],
   "source": [
    "#Ans\n",
    "# In Python, you can use the sys module to find out the version of Python that you are currently working with. Here are a few functions you can use:\n",
    "import sys\n",
    "\n",
    "print(sys.version)\n"
   ]
  },
  {
   "cell_type": "markdown",
   "id": "b1043647-9860-4d38-96ac-622d07f7e700",
   "metadata": {},
   "source": [
    "### Q9.Python supports the creation of anonymous functions at runtime, using a construct called "
   ]
  },
  {
   "cell_type": "code",
   "execution_count": null,
   "id": "83ae8121-c90a-4bbf-875a-1e32cbadcd22",
   "metadata": {},
   "outputs": [],
   "source": [
    "#Ans\n",
    "Lambda expressions allow you to create small, one-line functions on the fly without having to define a named function using the def keyword. \n",
    "They are particularly useful when you need to pass a function as an argument to another function, or when you need to define a simple function quickly\n",
    "and easily.\n"
   ]
  },
  {
   "cell_type": "code",
   "execution_count": null,
   "id": "4fb89d9f-578a-405a-9ab9-4af4224242fa",
   "metadata": {},
   "outputs": [],
   "source": [
    "#The syntax of a lambda expression is as follows:\n",
    "\n",
    "lambda arguments: expression\n"
   ]
  },
  {
   "cell_type": "markdown",
   "id": "c0a4941a-6e03-492f-9435-fe8bbebd98c0",
   "metadata": {},
   "source": [
    "### Q10. What does pip stand for python"
   ]
  },
  {
   "cell_type": "code",
   "execution_count": null,
   "id": "103e9fa3-a2a3-40cf-82b0-55dbcd9d4b9f",
   "metadata": {},
   "outputs": [],
   "source": [
    "#Ans\n",
    "pip makes it easy to install packages from the Python Package Index (PyPI) and other package repositories, as well as to manage dependencies between \n",
    "different packages. With pip, you can install packages globally or locally to a specific virtual environment, and you can also specify specific versions\n",
    "of packages to install.\n",
    "\n",
    "* pip install package_name: Installs a package from PyPI or another repository.\n",
    "* pip uninstall package_name: Uninstalls a package.\n",
    "* pip list: Lists all installed packages.\n",
    "* pip freeze: Outputs a list of installed packages in a format that can be used to recreate the environment.\n",
    "* pip search package_name: Searches PyPI for packages with a specific name.\n"
   ]
  },
  {
   "cell_type": "markdown",
   "id": "cdb37fb0-f270-499f-87ef-6b4157faec49",
   "metadata": {},
   "source": [
    "### Q11. Mention a few built-in functions in python"
   ]
  },
  {
   "cell_type": "code",
   "execution_count": null,
   "id": "6db1e6d3-5f1d-4426-9b30-0baae71d97b7",
   "metadata": {},
   "outputs": [],
   "source": [
    "#Ans\n",
    "1. print(): used to display the output on the console.\n",
    "\n",
    "2. input(): used to take input from the user through the console.\n",
    "\n",
    "3. len(): used to find the length of an object such as a string, list, tuple, etc.\n",
    "\n",
    "4. type(): used to find the data type of an object.\n",
    "\n",
    "5. range(): used to generate a sequence of numbers within a range.\n",
    "\n",
    "6. max(): used to find the maximum value in a sequence of values.\n",
    "\n",
    "7. min(): used to find the minimum value in a sequence of values.\n",
    "\n",
    "8. sum(): used to find the sum of a sequence of values.\n",
    "\n",
    "9. round(): used to round off a decimal number to a specific number of decimal places.\n",
    "\n",
    "10. abs(): used to find the absolute value of a number.\n",
    "\n"
   ]
  },
  {
   "cell_type": "markdown",
   "id": "812e2620-a537-4b28-afc9-3fca708baedd",
   "metadata": {},
   "source": [
    "### Q12. What is the maximum possible length of an identifier in Python"
   ]
  },
  {
   "cell_type": "code",
   "execution_count": null,
   "id": "dfca535e-1826-4aa4-9754-56117d97575c",
   "metadata": {},
   "outputs": [],
   "source": [
    "#Ans\n",
    "In Python, the maximum length of an identifier (variable, function, class, module names) is not explicitly defined. However,\n",
    "according to the Python style guide (PEP8), the recommended maximum line length is 79 characters, including the length of identifiers. \n",
    "This is because longer lines can make the code harder to read and understand.\n",
    "\n",
    "Although there is no strict limit on the length of an identifier, it is generally recommended to keep it concise and descriptive,\n",
    "and follow the naming conventions recommended by PEP8. For example, variable names should be in lowercase, and if the name is composed of multiple words,\n",
    "use underscores to separate them (e.g. my_variable_name).\n"
   ]
  },
  {
   "cell_type": "markdown",
   "id": "5f383b85-b08f-494d-8f19-8ea63de85c9d",
   "metadata": {},
   "source": [
    "### Q13. What are the benefits of using Python"
   ]
  },
  {
   "cell_type": "code",
   "execution_count": null,
   "id": "3f3f30f4-5c05-4cf3-b406-83d381a5e42c",
   "metadata": {},
   "outputs": [],
   "source": [
    "#Ans\n",
    " Python is a popular programming language with a range of benefits, including:\n",
    "    1. Simple and easy to learn: Python has a simple and easy-to-read syntax, making it an ideal choice for beginners to learn programming.\n",
    "    \n",
    "    2. Large and active community: Python has a large and active community of developers who contribute to its development and\n",
    "       share their knowledge through online forums, blogs, and tutorials.\n",
    "        \n",
    "    3. Versatile: Python is a versatile language that can be used for a wide range of applications, including web development, data analysis,\n",
    "       scientific computing, machine learning, and more.\n",
    "        \n",
    "    4. Cross-platform compatibility: Python code can be run on various platforms, including Windows, Mac, Linux, and UNIX.\n",
    "    \n",
    "    5. Availability of libraries and frameworks: Python has a vast collection of libraries and frameworks, such as NumPy, Pandas, Django, Flask, etc.,\n",
    "      that make development faster and more efficient.\n",
    "        \n",
    "    6. High productivity: Python's simple and concise syntax allows developers to write code faster, making it an ideal choice for rapid prototyping and\n",
    "       development.\n",
    "        \n",
    "    7. Large number of job opportunities: The popularity of Python has led to an increase in demand for Python developers, creating a large number of \n",
    "      job opportunities in various fields.\n",
    "        "
   ]
  },
  {
   "cell_type": "markdown",
   "id": "db0472d2-8404-45f8-9b06-65c08670644a",
   "metadata": {},
   "source": [
    "### Q14. How is memory managed in Python"
   ]
  },
  {
   "cell_type": "code",
   "execution_count": null,
   "id": "6eb7e12a-61cb-46b5-8ffd-0cf7c8a09da4",
   "metadata": {},
   "outputs": [],
   "source": [
    "#Ans\n",
    "Memory management in Python is done automatically by a component called the \"Python memory manager\". It is responsible for allocating \n",
    "and deallocating memory for objects in the Python program.\n",
    "\n",
    "Python uses a technique called \"reference counting\" to manage memory. Every time an object is created, Python assigns it a reference count, \n",
    "which keeps track of how many times it is being referred to in the program. When the reference count of an object reaches zero, it is considered \"garbage\"\n",
    "and can be deleted from memory.\n",
    "\n",
    "Python also has a garbage collector, which periodically checks for objects with zero reference counts and deletes them. This helps to free up memory that\n",
    "is no longer being used by the program.\n"
   ]
  },
  {
   "cell_type": "markdown",
   "id": "cc8d3cbd-34a9-43e4-9d7d-6d8bbdcc624c",
   "metadata": {},
   "source": [
    "### Q15. How to install Python on Windows and set path variables"
   ]
  },
  {
   "cell_type": "code",
   "execution_count": null,
   "id": "8aadd3cd-fdf1-4181-98f9-7e9f3abec315",
   "metadata": {},
   "outputs": [],
   "source": [
    "#Ans\n",
    " To install Python on Windows and set path variables, follow these steps:\n",
    "        1. Download the Python installer for Windows from the official Python website: \n",
    "            \n",
    "        2. Run the installer and follow the installation wizard. Make sure to select the \"Add Python to PATH\" option during the installation process. \n",
    "           This will automatically set the path variables for Python.\n",
    "            \n",
    "        3. Once the installation is complete, open a command prompt and type \"python\" to confirm that Python is installed correctly. \n",
    "           If Python is installed correctly, you should see the Python version number displayed in the command prompt.\n",
    "            \n",
    "        4. To set the path variables manually, go to the Control Panel and click on \"System\". Then, click on \"Advanced system settings\" and\n",
    "            click on the \"Environment Variables\" button.\n",
    "            \n",
    "        5. Under \"System variables\", scroll down and find the \"Path\" variable. Click on \"Edit\" and add the path to the Python installation directory \n",
    "           (usually C:\\PythonXX, where XX is the version number). Make sure to separate the path with a semicolon (;).\n",
    "            \n",
    "        6. Click \"OK\" to save the changes and close the windows.\n",
    "        \n",
    "        7. Open a new command prompt and type \"python\" to confirm that Python is working correctly.\n",
    "        \n",
    " That's it! You have successfully installed Python on Windows and set the path variables. You can now start writing and running Python code on your system.\n"
   ]
  },
  {
   "cell_type": "markdown",
   "id": "97e0ad47-f3f8-4024-99aa-b9c2a5fc2c87",
   "metadata": {},
   "source": [
    "### Q16. Is indentation required in python"
   ]
  },
  {
   "cell_type": "code",
   "execution_count": null,
   "id": "44597598-3bb0-4b44-b500-ab6055c54cdb",
   "metadata": {},
   "outputs": [],
   "source": [
    "#Ans\n",
    " Yes, indentation is required in Python. Unlike many other programming languages, which use braces or other symbols to delimit blocks of code,\n",
    "Python uses indentation to indicate the scope of code blocks."
   ]
  },
  {
   "cell_type": "code",
   "execution_count": 11,
   "id": "8802ba08-c7fe-4034-ba78-499ee5495db8",
   "metadata": {},
   "outputs": [],
   "source": [
    "# Here's an example of a Python function that uses indentation to define the code block:\n",
    "def person(name):\n",
    "    if len(name) > 0:\n",
    "        print(\"Hello, \" + name + \"!\")\n",
    "    else:\n",
    "        print(\"Hello, world!\")"
   ]
  },
  {
   "cell_type": "code",
   "execution_count": 14,
   "id": "b87e7ff8-ac70-4de4-a852-e15f862d1f11",
   "metadata": {},
   "outputs": [
    {
     "name": "stdout",
     "output_type": "stream",
     "text": [
      "Hello, priyanshu!\n"
     ]
    }
   ],
   "source": [
    "person(\"priyanshu\")"
   ]
  },
  {
   "cell_type": "code",
   "execution_count": null,
   "id": "d15e3b42-85b1-4d10-8dda-6549b325890d",
   "metadata": {},
   "outputs": [],
   "source": []
  },
  {
   "cell_type": "code",
   "execution_count": null,
   "id": "8113a0ff-4b91-4105-9daa-319b5a9e7e13",
   "metadata": {},
   "outputs": [],
   "source": []
  },
  {
   "cell_type": "code",
   "execution_count": null,
   "id": "d3ecad24-3e09-4e73-b3dd-1d819c511ecc",
   "metadata": {},
   "outputs": [],
   "source": []
  },
  {
   "cell_type": "code",
   "execution_count": null,
   "id": "8989afd3-5040-4468-896c-3f2db5d34bff",
   "metadata": {},
   "outputs": [],
   "source": []
  },
  {
   "cell_type": "code",
   "execution_count": null,
   "id": "2febaa20-e24c-40ad-bb46-517113cfb756",
   "metadata": {},
   "outputs": [],
   "source": []
  }
 ],
 "metadata": {
  "kernelspec": {
   "display_name": "Python 3 (ipykernel)",
   "language": "python",
   "name": "python3"
  },
  "language_info": {
   "codemirror_mode": {
    "name": "ipython",
    "version": 3
   },
   "file_extension": ".py",
   "mimetype": "text/x-python",
   "name": "python",
   "nbconvert_exporter": "python",
   "pygments_lexer": "ipython3",
   "version": "3.9.13"
  }
 },
 "nbformat": 4,
 "nbformat_minor": 5
}
