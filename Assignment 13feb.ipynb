{
 "cells": [
  {
   "cell_type": "markdown",
   "id": "42fbfa4c-a5be-42a6-a649-a875f36a332e",
   "metadata": {},
   "source": [
    "# Exception Handling Assignment"
   ]
  },
  {
   "cell_type": "markdown",
   "id": "7a0fb1fa-d518-460a-9f6c-afbafd475ade",
   "metadata": {},
   "source": [
    "## 13feb 2023"
   ]
  },
  {
   "cell_type": "code",
   "execution_count": 11,
   "id": "84a878f1-e484-4e11-a350-407fed6dd4ca",
   "metadata": {},
   "outputs": [],
   "source": [
    "import logging\n",
    "logging.basicConfig(filename=\"AS13feb.log\",level= logging.ERROR)"
   ]
  },
  {
   "cell_type": "markdown",
   "id": "ab5caf85-0614-4ed8-afc9-7e995c19fb71",
   "metadata": {},
   "source": [
    "### Q1. Explain why we have to use the Exception class while creating a Custom Exception.\n",
    " ##### Note: Here Exception class refers to the base class for all the exceptions."
   ]
  },
  {
   "cell_type": "code",
   "execution_count": null,
   "id": "468bb906-b21f-45cd-a33c-6967ebd3dfcb",
   "metadata": {},
   "outputs": [],
   "source": [
    "Answer.\n",
    "In Python, the Exception class is the base class for all built-in and user-defined exceptions. When creating a custom exception in Python, \n",
    "it is recommended to inherit from the Exception class because it provides a standard interface for defining and handling exceptions.\n",
    "\n",
    "By inheriting from the Exception class, our custom exception can inherit all the properties and methods of the Exception class,\n",
    "including the ability to store an error message, a stack trace, and other important information related to the exception. \n",
    "It also allows our custom exception to be caught by any code that catches the base Exception class, providing a consistent and standardized\n",
    "way of handling exceptions throughout the codebase.\n",
    "\n",
    "Furthermore, using the Exception class as a base class makes it easier to distinguish between different types of exceptions and to handle them appropriately.\n",
    "For example, we can catch multiple exceptions and handle them differently depending on their types, such as by logging them,\n",
    "displaying an error message to the user, or retrying the operation that caused the exception.\n",
    "\n",
    "Overall, using the Exception class as the base class for custom exceptions ensures that our code adheres to best practices for exception handling and\n",
    "makes it easier to write robust and reliable software."
   ]
  },
  {
   "cell_type": "markdown",
   "id": "cbd1ca4b-71b0-4df5-ab12-2535574f5ef4",
   "metadata": {},
   "source": [
    "### Q2. Write a python program to print Python Exception Hierarchy."
   ]
  },
  {
   "cell_type": "code",
   "execution_count": 30,
   "id": "2d1ba535-220d-470b-b24f-0dac387dccdc",
   "metadata": {},
   "outputs": [],
   "source": [
    "#Here's a Python program to print the Python Exception Hierarchy:\n",
    "# define a function to print exception hierarchy\n",
    "try:\n",
    "    def print_exception_hierarchy(exc_class, indent=0):\n",
    "        logging.info(' ' *indent + exc_class.__name__)\n",
    "    for sub_class in exc_class.__subclasses__():\n",
    "        print_exception_hierarchy(sub_class, indent + 4)\n",
    "except Exception as e:\n",
    "    logging.error(e)\n",
    "# call the function with the base Exception class\n",
    "print_exception_hierarchy(Exception)"
   ]
  },
  {
   "cell_type": "markdown",
   "id": "26385709-ae35-4d94-b879-9101b2e36182",
   "metadata": {},
   "source": [
    "### Q3. What errors are defined in the ArithmeticError class? Explain any two with an example."
   ]
  },
  {
   "cell_type": "code",
   "execution_count": 22,
   "id": "9f5089ac-bd4f-468a-b9c1-4b837822b1c6",
   "metadata": {},
   "outputs": [],
   "source": [
    "#Here are two examples of errors that are defined in the ArithmeticError class:\n",
    "#ZeroDivisionError\n",
    "try:\n",
    "    x = 10\n",
    "    y = 0\n",
    "    z = x / y  # raises ZeroDivisionError\n",
    "except ZeroDivisionError as e:\n",
    "    logging.error(\"the error was ZeroDivisionError{}\".format(e))"
   ]
  },
  {
   "cell_type": "code",
   "execution_count": 23,
   "id": "e1e14776-67fc-49ac-9b7a-35348bac0949",
   "metadata": {},
   "outputs": [],
   "source": [
    "#OverflowError\n",
    "import sys\n",
    "try:\n",
    "    x = sys.maxsize\n",
    "    y = x * x * x  # raises OverflowError\n",
    "except Exception as e:\n",
    "    logging.error(e)"
   ]
  },
  {
   "cell_type": "markdown",
   "id": "a803ccf9-ae73-47ed-a8e6-7f55f4e36a2d",
   "metadata": {},
   "source": [
    "### Q4. Why LookupError class is used? Explain with an example KeyError and IndexError."
   ]
  },
  {
   "cell_type": "code",
   "execution_count": 25,
   "id": "8a610acc-e19e-4b98-ba87-d9e7c889d839",
   "metadata": {},
   "outputs": [
    {
     "name": "stdout",
     "output_type": "stream",
     "text": [
      "'key2'\n"
     ]
    }
   ],
   "source": [
    "#Here are two examples of lookup errors that are defined as subclasses of the LookupError class:\n",
    "#KeyError\n",
    "try:\n",
    "    d = {'key':'subh',1:[2,3,4,5]}\n",
    "    print(d['key2'])\n",
    "except KeyError as e :\n",
    "          print (e)\n"
   ]
  },
  {
   "cell_type": "code",
   "execution_count": 24,
   "id": "1f6f8de4-2008-4bc5-a041-583e1e80cf5d",
   "metadata": {},
   "outputs": [
    {
     "name": "stdout",
     "output_type": "stream",
     "text": [
      "list index out of range\n"
     ]
    }
   ],
   "source": [
    "#IndexError\n",
    "try:\n",
    "    l =[2,3,4,5]\n",
    "    print(l[6])\n",
    "except IndexError as e :\n",
    "    print(e)\n"
   ]
  },
  {
   "cell_type": "markdown",
   "id": "a13f9ed2-7667-4fed-906c-62d3fb322ec0",
   "metadata": {},
   "source": [
    "### Q5. Explain ImportError. What is ModuleNotFoundError?"
   ]
  },
  {
   "cell_type": "code",
   "execution_count": 8,
   "id": "4ff788f5-073e-4cd2-91d9-9cd57c25a2f3",
   "metadata": {},
   "outputs": [
    {
     "name": "stdout",
     "output_type": "stream",
     "text": [
      "Error importing my_module: No module named 'my_module'\n"
     ]
    }
   ],
   "source": [
    "#Here's an example of how an ImportError can occur:\n",
    "try:\n",
    "    import my_module\n",
    "except ImportError as e:\n",
    "    print(f\"Error importing my_module: {e}\")\n"
   ]
  },
  {
   "cell_type": "code",
   "execution_count": 9,
   "id": "1b8139e1-6bea-4337-b86c-2fd0f68417a7",
   "metadata": {},
   "outputs": [
    {
     "name": "stdout",
     "output_type": "stream",
     "text": [
      "Error importing my_missing_module: No module named 'my_missing_module'\n"
     ]
    }
   ],
   "source": [
    "try:\n",
    "    import my_missing_module\n",
    "except ModuleNotFoundError as e:\n",
    "    print(f\"Error importing my_missing_module: {e}\")\n"
   ]
  },
  {
   "cell_type": "markdown",
   "id": "ac9f419c-ba0c-4e58-af6d-a1322f3613d0",
   "metadata": {},
   "source": [
    "### Q6. List down some best practices for exception handling in python."
   ]
  },
  {
   "cell_type": "markdown",
   "id": "84bc2270-8cdf-4fbd-ab25-8a46d60b863d",
   "metadata": {},
   "source": [
    "Answer.\n",
    "* Use Always a specific exception\n",
    "* print always a proper message\n",
    "* always try to log your error\n",
    "* always avoioid to write a mutiple exception handling\n",
    "* Document all the error\n",
    "* cleanup all the resources\n"
   ]
  },
  {
   "cell_type": "code",
   "execution_count": null,
   "id": "f8d09a0d-7d63-421c-bdae-50aa7af33345",
   "metadata": {},
   "outputs": [],
   "source": []
  }
 ],
 "metadata": {
  "kernelspec": {
   "display_name": "Python 3 (ipykernel)",
   "language": "python",
   "name": "python3"
  },
  "language_info": {
   "codemirror_mode": {
    "name": "ipython",
    "version": 3
   },
   "file_extension": ".py",
   "mimetype": "text/x-python",
   "name": "python",
   "nbconvert_exporter": "python",
   "pygments_lexer": "ipython3",
   "version": "3.9.13"
  }
 },
 "nbformat": 4,
 "nbformat_minor": 5
}
