{
 "cells": [
  {
   "cell_type": "markdown",
   "id": "4275c1b8-e7fd-4a3c-81e6-2426f1650f75",
   "metadata": {},
   "source": [
    "# Statistics Advance-1"
   ]
  },
  {
   "cell_type": "markdown",
   "id": "320ac3cd-5d7b-4743-9817-8ec4f07a39cf",
   "metadata": {},
   "source": [
    "## 08mar 2023"
   ]
  },
  {
   "cell_type": "markdown",
   "id": "44fba938-5c20-41a0-bd6d-df0eaca1715e",
   "metadata": {
    "tags": []
   },
   "source": [
    "### Q1. What is the Probability density function?"
   ]
  },
  {
   "cell_type": "code",
   "execution_count": null,
   "id": "e920d066-8cb9-417e-9cdb-025f72adaf7e",
   "metadata": {},
   "outputs": [],
   "source": [
    "Answer.\n",
    "In probability theory and statistics, a probability density function (PDF) is a mathematical function that describes the likelihood of a continuous random variable taking on a specific\n",
    "value within a given range. The PDF is used to characterize the probability distribution of a random variable.\n",
    "\n",
    "The PDF, denoted as f(x), provides the relative likelihood of the random variable X being equal to a particular value x. It does not give the exact probability of X being equal to x \n",
    "but rather represents the probability density at that point. The probability of X falling within a specific interval [a, b] can be obtained by integrating the PDF over that interval:\n",
    "    \n",
    "    P(a ≤ X ≤ b) = ∫[a,b] f(x) dx\n",
    "\n",
    "The PDF must satisfy two conditions:\n",
    "    \n",
    "    Non-negativity: The PDF must be non-negative for all values of x.\n",
    "    f(x) ≥ 0\n",
    "    \n",
    "    Normalization: The area under the PDF curve must equal 1.\n",
    "    ∫(-∞,+∞) f(x) dx = 1\n",
    "    "
   ]
  },
  {
   "cell_type": "markdown",
   "id": "2274a6a6-8fd3-4347-a091-600b683c7d52",
   "metadata": {},
   "source": [
    "### Q2. What are the types of Probability distribution?"
   ]
  },
  {
   "cell_type": "code",
   "execution_count": null,
   "id": "3c00d6b3-880a-4741-b68f-a8d041f31e6a",
   "metadata": {},
   "outputs": [],
   "source": [
    "Answer.\n",
    "There are several types of probability distributions, each with its own characteristics and applications. Here are some commonly encountered probability distributions:\n",
    "    \n",
    "    1. Uniform Distribution: In a uniform distribution, all outcomes within a given range have equal probability. The PDF is a constant over the range of possible values.\n",
    "    \n",
    "    2. Normal Distribution (Gaussian Distribution): The normal distribution is a continuous probability distribution that is symmetric and bell-shaped. It is widely used in statistics\n",
    "    due to the central limit theorem. The PDF is characterized by its mean and standard deviation.\n",
    "    \n",
    "    3. Exponential Distribution: The exponential distribution describes the time between events in a Poisson process, where events occur continuously and independently at a constant\n",
    "    average rate. It is commonly used to model the lifetime of objects or the time between events.\n",
    "    \n",
    "    4. Poisson Distribution: The Poisson distribution is used to model the number of events that occur in a fixed interval of time or space, given a known average rate of occurrence.\n",
    "    It is often employed in situations where events happen randomly and independently.\n",
    "    \n",
    "    5. Binomial Distribution: The binomial distribution is used to model the number of successes in a fixed number of independent Bernoulli trials, where each trial has the same \n",
    "    probability of success. It is characterized by the number of trials and the probability of success in each trial.\n",
    "    \n",
    "    6. Geometric Distribution: The geometric distribution represents the number of trials needed to achieve the first success in a sequence of independent Bernoulli trials, where each \n",
    "    trial has the same probability of success.\n",
    "    \n",
    "    7. Gamma Distribution: The gamma distribution is a family of continuous probability distributions that generalizes the exponential distribution. It is often used to model waiting\n",
    "    times, failure times, and various other positive continuous variables.\n",
    "    \n",
    "    8. Beta Distribution: The beta distribution is a continuous probability distribution defined on the interval [0, 1]. It is commonly used to model random variables that represent\n",
    "    proportions or probabilities.\n",
    "    \n",
    "    9. Chi-Squared Distribution: The chi-squared distribution is a continuous probability distribution that arises in the context of hypothesis testing and estimation. It is often used\n",
    "    to analyze the distribution of sample variances.\n",
    "    "
   ]
  },
  {
   "cell_type": "markdown",
   "id": "1a16c3b7-107c-4075-a04b-07b145648622",
   "metadata": {},
   "source": [
    "### Q3. Write a Python function to calculate the probability density function of a normal distribution with given mean and standard deviation at a given point."
   ]
  },
  {
   "cell_type": "code",
   "execution_count": 1,
   "id": "19c0a5f6-b425-454b-b753-37125ff0f7a2",
   "metadata": {},
   "outputs": [
    {
     "name": "stdout",
     "output_type": "stream",
     "text": [
      "The PDF at x = 0.5 is 0.3520653267642995\n"
     ]
    }
   ],
   "source": [
    "#Answer.\n",
    "# Here's an example of a Python function that calculates the probability density function (PDF) of a normal distribution at a given point using the mean and standard deviation:\n",
    "import math\n",
    "\n",
    "def normal_pdf(x, mean, std_dev):\n",
    "    coefficient = 1 / (std_dev * math.sqrt(2 * math.pi))\n",
    "    exponent = -((x - mean) ** 2) / (2 * std_dev ** 2)\n",
    "    pdf = coefficient * math.exp(exponent)\n",
    "    return pdf\n",
    "\n",
    "#Here's an example usage of the function:\n",
    "mean = 0\n",
    "std_dev = 1\n",
    "x = 0.5\n",
    "pdf_value = normal_pdf(x, mean, std_dev)\n",
    "print(f\"The PDF at x = {x} is {pdf_value}\")\n"
   ]
  },
  {
   "cell_type": "markdown",
   "id": "9bde9bde-ca8a-4d82-805c-5c67d2318b67",
   "metadata": {},
   "source": [
    "### Q4. What are the properties of Binomial distribution? Give two examples of events where binomial distribution can be applied."
   ]
  },
  {
   "cell_type": "code",
   "execution_count": null,
   "id": "5f4850c2-7ad1-461b-b7f9-5701baf1ef76",
   "metadata": {},
   "outputs": [],
   "source": [
    "Aswer.\n",
    "The binomial distribution is a discrete probability distribution that models the number of successes in a fixed number of independent Bernoulli trials, where each trial has the same\n",
    "probability of success. Here are some properties of the binomial distribution:\n",
    "    \n",
    "    1. Fixed Number of Trials: The binomial distribution is defined for a fixed number of trials, denoted by n. Each trial can have two outcomes: success or failure.\n",
    "    \n",
    "    2. Independent Trials: The trials in a binomial distribution are assumed to be independent, meaning that the outcome of one trial does not affect the outcome of other trials.\n",
    "    \n",
    "    3. Constant Probability of Success: Each trial in a binomial distribution has the same probability of success, denoted by p. The probability of failure is denoted by q = 1 - p.\n",
    "    \n",
    "    4. Discrete Distribution: The binomial distribution is a discrete probability distribution, meaning that it describes the probabilities of a discrete set of outcomes \n",
    "    (number of successes).\n",
    "    \n",
    "    5. Probability Mass Function (PMF): The probability mass function of the binomial distribution gives the probability of observing a specific number of successes in the given number \n",
    "    of trials.\n",
    "    \n",
    "    6. Mean and Variance: The mean (expected value) of a binomial distribution is given by μ = n * p, and the variance is given by σ^2 = n * p * q.\n",
    "    \n",
    "Examples of events where the binomial distribution can be applied:\n",
    "    \n",
    "    1. Coin Flips: Suppose you flip a fair coin 10 times and want to know the probability of getting exactly 7 heads. Each coin flip is a Bernoulli trial with a 0.5 probability of heads,\n",
    "    and the number of heads in 10 flips follows a binomial distribution.\n",
    "    \n",
    "    2. Election Outcomes: In a political election, you want to determine the probability that a candidate wins a specific number of votes in a district with a fixed number of voters. \n",
    "    Assuming that each voter independently votes for the candidate with a fixed probability, the number of votes received by the candidate follows a binomial distribution.\n",
    "    "
   ]
  },
  {
   "cell_type": "markdown",
   "id": "144ba44d-56df-48a2-9fee-859ed7b5e9b7",
   "metadata": {},
   "source": [
    "### Q5. Generate a random sample of size 1000 from a binomial distribution with probability of success 0.4 and plot a histogram of the results using matplotlib."
   ]
  },
  {
   "cell_type": "code",
   "execution_count": 2,
   "id": "372e4c38-daf7-4747-9e57-b16dd5ab5990",
   "metadata": {},
   "outputs": [
    {
     "data": {
      "image/png": "[encoded data removed]",
      "text/plain": [
       "<Figure size 640x480 with 1 Axes>"
      ]
     },
     "metadata": {},
     "output_type": "display_data"
    }
   ],
   "source": [
    "#Answer.\n",
    "# Here's an example of how you can generate a random sample of size 1000 from a binomial distribution with a probability of success of 0.4 and plot a histogram using matplotlib in Python:\n",
    "import numpy as np\n",
    "import matplotlib.pyplot as plt\n",
    "\n",
    "# Set the parameters\n",
    "n = 1000  # Number of trials\n",
    "p = 0.4  # Probability of success\n",
    "\n",
    "# Generate the random sample\n",
    "sample = np.random.binomial(n, p, size=1000)\n",
    "\n",
    "# Plot the histogram\n",
    "plt.hist(sample, bins=20, edgecolor='black')\n",
    "plt.xlabel('Number of Successes')\n",
    "plt.ylabel('Frequency')\n",
    "plt.title('Histogram of Binomial Distribution')\n",
    "plt.show()\n"
   ]
  },
  {
   "cell_type": "markdown",
   "id": "aa7a0513-f024-4d4b-bd99-dae39af54b65",
   "metadata": {},
   "source": [
    "### Q6. Write a Python function to calculate the cumulative distribution function of a Poisson distribution with given mean at a given point."
   ]
  },
  {
   "cell_type": "code",
   "execution_count": 3,
   "id": "79d2d2ab-aa57-4e02-acc4-336d6c81d222",
   "metadata": {},
   "outputs": [
    {
     "name": "stdout",
     "output_type": "stream",
     "text": [
      "The CDF at k = 2 is 0.3208471988621341\n"
     ]
    }
   ],
   "source": [
    "#Answer.\n",
    "# Here's an example of a Python function that calculates the cumulative distribution function (CDF) of a Poisson distribution at a given point using the mean:\n",
    "import math\n",
    "\n",
    "def poisson_cdf(k, mean):\n",
    "    cdf = 0.0\n",
    "    for i in range(k + 1):\n",
    "        cdf += math.exp(-mean) * (mean ** i) / math.factorial(i)\n",
    "    return cdf\n",
    "\n",
    "#Here's an example usage of the function:\n",
    "mean = 3.5\n",
    "k = 2\n",
    "cdf_value = poisson_cdf(k, mean)\n",
    "print(f\"The CDF at k = {k} is {cdf_value}\")\n"
   ]
  },
  {
   "cell_type": "markdown",
   "id": "70d82e53-efe1-41bc-ad2b-9d65d3603c7e",
   "metadata": {},
   "source": [
    "### Q7. How Binomial distribution different from Poisson distribution?"
   ]
  },
  {
   "cell_type": "code",
   "execution_count": null,
   "id": "4b624b5a-2db8-4608-ac53-a59ba24ae16a",
   "metadata": {},
   "outputs": [],
   "source": [
    "Answer.\n",
    "The Binomial distribution and the Poisson distribution are both probability distributions commonly used to model the number of events or successes in a certain situation. However,\n",
    "they differ in terms of their underlying assumptions and the types of scenarios they are best suited for. Here are the key differences between the Binomial and Poisson distributions:\n",
    "    \n",
    "    1. Nature of the Events:\n",
    "        \n",
    "        * Binomial Distribution:\n",
    "            The Binomial distribution is used when there is a fixed number of independent Bernoulli trials, where each trial can have two possible outcomes: success or failure.\n",
    "            The probability of success remains constant across trials.\n",
    "            \n",
    "        * Poisson Distribution:\n",
    "            The Poisson distribution is used to model the number of rare events that occur randomly in a given interval of time or space. The events are assumed to be independent and \n",
    "            occur at a constant average rate.\n",
    "            \n",
    "    2. Assumptions:\n",
    "        \n",
    "        * Binomial Distribution:\n",
    "            The Binomial distribution assumes a fixed number of trials, independent and identical trials, and a constant probability of success in each trial.\n",
    "            \n",
    "        * Poisson Distribution: \n",
    "            The Poisson distribution assumes a large number of trials (or a continuous time or space interval), events occur randomly and independently, and the average rate of events \n",
    "            remains constant.\n",
    "            \n",
    "    3. Parameterization:\n",
    "        \n",
    "        * Binomial Distribution:\n",
    "            The Binomial distribution is characterized by two parameters: the number of trials (n) and the probability of success in each trial (p).\n",
    "            \n",
    "        * Poisson Distribution:\n",
    "            The Poisson distribution is characterized by a single parameter: the average rate (λ) at which events occur.\n",
    "            \n",
    "    4.  Support and Shape:\n",
    "        \n",
    "        * Binomial Distribution:\n",
    "            The Binomial distribution is a discrete probability distribution, as it models the number of successes in a fixed number of trials. It has a finite support\n",
    "            (0, 1, 2, ..., n) and is characterized by a symmetric or skewed shape depending on the values of n and p.\n",
    "            \n",
    "        * Poisson Distribution:\n",
    "            The Poisson distribution is also a discrete probability distribution, but it is often approximated by a continuous distribution in practice. It has an infinite support \n",
    "            (0, 1, 2, ...) and typically exhibits a right-skewed shape.\n",
    "            \n",
    "    5. Application Scenarios:\n",
    "        \n",
    "        * Binomial Distribution:\n",
    "            The Binomial distribution is commonly used when analyzing binary outcomes, such as the number of heads in a series of coin flips or the success or failure of a product in \n",
    "            a quality control process.\n",
    "            \n",
    "        * Poisson Distribution:\n",
    "            The Poisson distribution is often applied in situations involving rare events, such as the number of customer arrivals at a service desk in a given time period, the number\n",
    "            of accidents in a day, or the number of phone calls received per hour.\n",
    "            "
   ]
  },
  {
   "cell_type": "markdown",
   "id": "298c6862-688b-47e6-bc3c-fe3416086f17",
   "metadata": {},
   "source": [
    "### Q8. Generate a random sample of size 1000 from a Poisson distribution with mean 5 and calculate the sample mean and variance."
   ]
  },
  {
   "cell_type": "code",
   "execution_count": 4,
   "id": "fe4e2917-360e-4759-bc79-cce861f92fb5",
   "metadata": {},
   "outputs": [
    {
     "name": "stdout",
     "output_type": "stream",
     "text": [
      "Sample Mean: 5.018\n",
      "Sample Variance: 4.661675999999999\n"
     ]
    }
   ],
   "source": [
    "#Answer\n",
    "#Here's an example of how you can generate a random sample of size 1000 from a Poisson distribution with a mean of 5 and calculate the sample mean and variance in Python:\n",
    "import numpy as np\n",
    "\n",
    "# Set the parameters\n",
    "mean = 5  # Mean of the Poisson distribution\n",
    "sample_size = 1000  # Size of the random sample\n",
    "\n",
    "# Generate the random sample\n",
    "sample = np.random.poisson(mean, size=sample_size)\n",
    "\n",
    "# Calculate the sample mean and variance\n",
    "sample_mean = np.mean(sample)\n",
    "sample_variance = np.var(sample)\n",
    "\n",
    "print(\"Sample Mean:\", sample_mean)\n",
    "print(\"Sample Variance:\", sample_variance)\n"
   ]
  },
  {
   "cell_type": "markdown",
   "id": "a8263e06-d75b-401c-9da3-15b0289e2675",
   "metadata": {},
   "source": [
    "### Q9. How mean and variance are related in Binomial distribution and Poisson distribution?"
   ]
  },
  {
   "cell_type": "code",
   "execution_count": null,
   "id": "a45e671b-f9ca-43a9-adca-44c490a98042",
   "metadata": {},
   "outputs": [],
   "source": [
    "Answer.\n",
    "In both the Binomial and Poisson distributions, the mean and variance are related, but the nature of this relationship differs between the two distributions.\n",
    "\n",
    "Binomial Distribution:\n",
    "    For a Binomial distribution with parameters n (number of trials) and p (probability of success in each trial), the mean (μ) and variance (σ^2) are related as follows:\n",
    "        \n",
    "        Mean: μ = n * p\n",
    "        Variance: σ^2 = n * p * (1 - p)\n",
    "        \n",
    "The variance of a Binomial distribution depends on both the number of trials (n) and the probability of success (p). As p approaches 0 or 1, the variance decreases because the outcome\n",
    "becomes more certain. When p = 0.5, the variance is maximized.\n",
    "\n",
    "Poisson Distribution:\n",
    "    For a Poisson distribution with parameter λ (average rate of events), the mean (μ) and variance (σ^2) are related as follows:\n",
    "        \n",
    "        Mean: μ = λ\n",
    "        Variance: σ^2 = λ\n",
    "        \n",
    "In the Poisson distribution, the mean and variance are equal. The variance of a Poisson distribution is solely determined by the average rate of events (λ), which is also equal to the \n",
    "mean. This indicates that in a Poisson distribution, the variability around the mean is directly tied to the average rate at which events occur.\n"
   ]
  },
  {
   "cell_type": "markdown",
   "id": "d927b8fa-9c0f-40a2-9750-274bcdca5d8d",
   "metadata": {},
   "source": [
    "### Q10. In normal distribution with respect to mean position, where does the least frequent data appear?"
   ]
  },
  {
   "cell_type": "code",
   "execution_count": null,
   "id": "2a4b2eae-373f-48a3-b4fa-18f235ce3c46",
   "metadata": {},
   "outputs": [],
   "source": [
    "Answer.\n",
    "In a normal distribution, the data is symmetrically distributed around the mean. The least frequent data points are located in the tails of the distribution, farthest from the mean.\n",
    "\n",
    "In a standard normal distribution (with a mean of 0 and a standard deviation of 1), the data points become less frequent as they move further away from the mean in either direction.\n",
    "The tails of the distribution, which are the extreme ends, contain the least frequent data points.\n",
    "\n",
    "Specifically, in a standard normal distribution:\n",
    "    \n",
    "    \n",
    "\n",
    "The data points to the left of the mean (negative values) represent the lower tail of the distribution.\n",
    "The data points to the right of the mean (positive values) represent the upper tail of the distribution."
   ]
  },
  {
   "cell_type": "code",
   "execution_count": null,
   "id": "6fc88521-9f07-4c12-ac10-ea38b0f15cb5",
   "metadata": {},
   "outputs": [],
   "source": []
  }
 ],
 "metadata": {
  "kernelspec": {
   "display_name": "Python 3 (ipykernel)",
   "language": "python",
   "name": "python3"
  },
  "language_info": {
   "codemirror_mode": {
    "name": "ipython",
    "version": 3
   },
   "file_extension": ".py",
   "mimetype": "text/x-python",
   "name": "python",
   "nbconvert_exporter": "python",
   "pygments_lexer": "ipython3",
   "version": "3.10.8"
  }
 },
 "nbformat": 4,
 "nbformat_minor": 5
}
