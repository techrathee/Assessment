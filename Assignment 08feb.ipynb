{
 "cells": [
  {
   "cell_type": "markdown",
   "id": "74a306fb-7d31-4f91-ae11-199750260986",
   "metadata": {},
   "source": [
    "# OOPS Assignment"
   ]
  },
  {
   "cell_type": "markdown",
   "id": "4bc85871-7fd1-45fc-817f-d2ee6353329d",
   "metadata": {},
   "source": [
    "## 08 feb 2023"
   ]
  },
  {
   "cell_type": "markdown",
   "id": "c14f58d2-f986-4286-bc1a-4a900d0d263f",
   "metadata": {},
   "source": [
    "### Q1. What is Abstraction in OOps? Explain with an example."
   ]
  },
  {
   "cell_type": "code",
   "execution_count": null,
   "id": "a745e41b-7301-449c-ae06-cbf75dabfd5a",
   "metadata": {},
   "outputs": [],
   "source": [
    "#Ans\n",
    "Abstraction is a fundamental concept in Object-Oriented Programming (OOPs) that involves the separation of complex systems into smaller, more manageable parts.\n",
    "Abstraction allows programmers to focus on the essential features of an object and ignore the irrelevant details, thus simplifying the development process.\n",
    "\n",
    "\n",
    "In OOPs, abstraction is achieved through the use of abstract classes and interfaces. An abstract class is a class that cannot be instantiated on its own\n",
    "but provides a template for creating derived classes. An interface, on the other hand, defines a set of methods that a class must implement.\n",
    "\n",
    "Let's take an example of a car to understand abstraction. A car can be thought of as a complex system consisting of various components such as an engine, \n",
    "wheels, gearbox, and so on. To abstract this system, we can create a class called \"Car\" that defines the essential features of a car, such as the ability to \n",
    "start, stop, accelerate, and decelerate."
   ]
  },
  {
   "cell_type": "code",
   "execution_count": 4,
   "id": "d5bf9f27-d745-4598-b4ad-df2738426620",
   "metadata": {},
   "outputs": [
    {
     "ename": "SyntaxError",
     "evalue": "invalid syntax (1272014953.py, line 1)",
     "output_type": "error",
     "traceback": [
      "\u001b[1;36m  File \u001b[1;32m\"C:\\Users\\techr\\AppData\\Local\\Temp\\ipykernel_1856\\1272014953.py\"\u001b[1;36m, line \u001b[1;32m1\u001b[0m\n\u001b[1;33m    abstract class Car {\u001b[0m\n\u001b[1;37m             ^\u001b[0m\n\u001b[1;31mSyntaxError\u001b[0m\u001b[1;31m:\u001b[0m invalid syntax\n"
     ]
    }
   ],
   "source": [
    "abstract class Car {\n",
    "   public abstract void start();\n",
    "   public abstract void stop();\n",
    "   public abstract void accelerate();\n",
    "   public abstract void decelerate();\n",
    "}\n"
   ]
  },
  {
   "cell_type": "markdown",
   "id": "ed1b9fc1-f740-4782-90ea-a643c235c4f4",
   "metadata": {},
   "source": [
    "### Q2.Differentiate between Abstraction and Encapsulation. Explain with an example."
   ]
  },
  {
   "cell_type": "code",
   "execution_count": null,
   "id": "359a2a57-aad8-4378-96af-8801155c0e18",
   "metadata": {},
   "outputs": [],
   "source": [
    "#Ans\n",
    "Abstraction and encapsulation are both important concepts in Object-Oriented Programming, but they serve different purposes.\n",
    "\n",
    "Abstraction is a technique that allows programmers to focus on the essential features of an object and ignore the irrelevant details. It involves breaking \n",
    "down a complex system into smaller, more manageable parts, so that the developer can work on each part independently. Abstraction is achieved through the use\n",
    "of abstract classes and interfaces.\n",
    "\n",
    "Encapsulation, on the other hand, is the technique of hiding the internal details of an object from the outside world. It involves bundling together data and \n",
    "the methods that manipulate that data into a single unit, known as a class. Encapsulation prevents the outside world from directly accessing and modifying an\n",
    "object's internal data, ensuring that the object remains in a valid state.\n"
   ]
  },
  {
   "cell_type": "code",
   "execution_count": 16,
   "id": "8d50b2cf-2e1e-4472-81aa-20cc98d0836e",
   "metadata": {},
   "outputs": [],
   "source": [
    "#Let's take an example to differentiate between abstraction and encapsulation\n",
    "class bank_account:\n",
    "    def __init__ (self,balance):\n",
    "        self.__balance = balance\n",
    "        \n",
    "    def depost (self,amount ):\n",
    "        self.__balance = self.__balance + amount\n",
    "        return \"Transaction Complete\"\n",
    "    \n",
    "    def withdraw (self, amount):\n",
    "        if self.__balance >= amount:\n",
    "            self.__balance = self.__balance - amount\n",
    "            return \" Withdraw Complete\"\n",
    "        else :\n",
    "            return \" Insufficient Balance\"\n",
    "        \n",
    "    def get_balance (self):\n",
    "        return self.__balance"
   ]
  },
  {
   "cell_type": "code",
   "execution_count": 20,
   "id": "8f9bdf93-5bef-41fa-978c-1e6a07fe1b64",
   "metadata": {},
   "outputs": [],
   "source": [
    "priyanshu = bank_account(1000)"
   ]
  },
  {
   "cell_type": "code",
   "execution_count": 21,
   "id": "3615d7a8-bbe4-49cf-a684-93943c94d29e",
   "metadata": {},
   "outputs": [
    {
     "data": {
      "text/plain": [
       "'Transaction Complete'"
      ]
     },
     "execution_count": 21,
     "metadata": {},
     "output_type": "execute_result"
    }
   ],
   "source": [
    "priyanshu.depost(1000)"
   ]
  },
  {
   "cell_type": "code",
   "execution_count": 22,
   "id": "dd852627-8f44-452b-90fe-06989b938aac",
   "metadata": {},
   "outputs": [
    {
     "data": {
      "text/plain": [
       "2000"
      ]
     },
     "execution_count": 22,
     "metadata": {},
     "output_type": "execute_result"
    }
   ],
   "source": [
    "priyanshu.get_balance()"
   ]
  },
  {
   "cell_type": "code",
   "execution_count": 23,
   "id": "c886269b-ce1a-4044-a7db-d2ba6a4b6b5d",
   "metadata": {},
   "outputs": [
    {
     "data": {
      "text/plain": [
       "' Withdraw Complete'"
      ]
     },
     "execution_count": 23,
     "metadata": {},
     "output_type": "execute_result"
    }
   ],
   "source": [
    "priyanshu.withdraw(500)"
   ]
  },
  {
   "cell_type": "code",
   "execution_count": 24,
   "id": "5cf97c9c-6454-4d31-868f-650216803471",
   "metadata": {},
   "outputs": [
    {
     "data": {
      "text/plain": [
       "1500"
      ]
     },
     "execution_count": 24,
     "metadata": {},
     "output_type": "execute_result"
    }
   ],
   "source": [
    "priyanshu.get_balance()"
   ]
  },
  {
   "cell_type": "code",
   "execution_count": 25,
   "id": "0aed457a-aeb1-46c4-b18c-665e1d729a50",
   "metadata": {},
   "outputs": [
    {
     "data": {
      "text/plain": [
       "' Insufficient Balance'"
      ]
     },
     "execution_count": 25,
     "metadata": {},
     "output_type": "execute_result"
    }
   ],
   "source": [
    "priyanshu.withdraw(2000)"
   ]
  },
  {
   "cell_type": "markdown",
   "id": "5d69ff50-a1d9-4761-b334-fde95cf8ee36",
   "metadata": {},
   "source": [
    "### Q3. What is abc module in python? Why is it used?"
   ]
  },
  {
   "cell_type": "code",
   "execution_count": null,
   "id": "8287748b-676c-424f-8875-0b85a88cf863",
   "metadata": {},
   "outputs": [],
   "source": [
    "#Ans\n",
    "The abc (Abstract Base Class) module is a built-in module in Python that provides the infrastructure for defining and working with abstract base classes.\n",
    "\n",
    "The abc (Abstract Base Class) module is a built-in module in Python that provides the infrastructure for defining and working with abstract base classes.\n",
    "\n",
    "An abstract base class is a class that cannot be instantiated and is meant to be subclassed by other classes. It serves as a template or blueprint for other\n",
    "classes to follow, and provides a common interface for all its subclasses.\n",
    "\n",
    "For example, suppose you are developing an application that requires different types of animals. You can define an abstract base class called Animal \n",
    "using the abc module:"
   ]
  },
  {
   "cell_type": "code",
   "execution_count": 2,
   "id": "936b53f7-cd12-42a7-8af9-b1c440e0a2e1",
   "metadata": {},
   "outputs": [],
   "source": [
    "import abc\n",
    "class pwskills:\n",
    "    \n",
    "    \n",
    "    @abc.abstractmethod\n",
    "    def students_detials(self):\n",
    "        pass\n",
    "    \n",
    "    @abc.abstractmethod\n",
    "    def students_assignemnt(self):\n",
    "        pass\n",
    "    \n",
    "    @abc.abstractmethod\n",
    "    def student_marks(self):\n",
    "        pass"
   ]
  },
  {
   "cell_type": "code",
   "execution_count": 3,
   "id": "4a948cf7-a2d9-4410-9aeb-2d587e76743a",
   "metadata": {},
   "outputs": [],
   "source": [
    "class student_detils(pwskills):\n",
    "    \n",
    "    def students_detials(self):\n",
    "        return \"this is a meth for taking students details\"\n",
    "    \n",
    "    def student_assignemnt(self):\n",
    "        return \"this is a meth for assing details for a perticualt studend\"\n",
    "    \n",
    "    def student_marks(self):\n",
    "        return \" this is meth for marks details for a studend\"\n",
    "    \n",
    "    "
   ]
  },
  {
   "cell_type": "code",
   "execution_count": 4,
   "id": "a7da6d4a-6f43-47f8-a679-d4973f97fa1a",
   "metadata": {},
   "outputs": [],
   "source": [
    "class data_science_maters(pwskills):\n",
    "    \n",
    "    def students_detials(self):\n",
    "        return \"this will return a student details for data science masters\"\n",
    "    \n",
    "    def students_assignemnt(self):\n",
    "        return \" this will give you a student assigment detaild for data science masters\"\n",
    "    \n",
    "    def student_marks(self):\n",
    "        return \" this is meth for marks details for a data science masters\""
   ]
  },
  {
   "cell_type": "code",
   "execution_count": 5,
   "id": "7a874628-498e-4216-8d75-943b71eba4f6",
   "metadata": {},
   "outputs": [],
   "source": [
    "dsm =data_science_maters()\n",
    "sb =student_detils()"
   ]
  },
  {
   "cell_type": "code",
   "execution_count": 6,
   "id": "b7645d53-1d54-4ed2-b8dd-4193161dfe2b",
   "metadata": {},
   "outputs": [
    {
     "data": {
      "text/plain": [
       "'this will return a student details for data science masters'"
      ]
     },
     "execution_count": 6,
     "metadata": {},
     "output_type": "execute_result"
    }
   ],
   "source": [
    "dsm.students_detials()"
   ]
  },
  {
   "cell_type": "code",
   "execution_count": 7,
   "id": "5a0d62c5-764b-4956-9784-9ecae067f410",
   "metadata": {},
   "outputs": [
    {
     "data": {
      "text/plain": [
       "'this is a meth for taking students details'"
      ]
     },
     "execution_count": 7,
     "metadata": {},
     "output_type": "execute_result"
    }
   ],
   "source": [
    "sb.students_detials()"
   ]
  },
  {
   "cell_type": "code",
   "execution_count": 8,
   "id": "a329315b-2a29-44f4-8db8-a33547cfe50d",
   "metadata": {},
   "outputs": [
    {
     "data": {
      "text/plain": [
       "' this will give you a student assigment detaild for data science masters'"
      ]
     },
     "execution_count": 8,
     "metadata": {},
     "output_type": "execute_result"
    }
   ],
   "source": [
    "dsm.students_assignemnt()"
   ]
  },
  {
   "cell_type": "markdown",
   "id": "718b4547-6758-4805-bf08-85b0a9bc1387",
   "metadata": {},
   "source": [
    "### Q4. How can we achieve data abstraction?"
   ]
  },
  {
   "cell_type": "code",
   "execution_count": null,
   "id": "49f12c7e-96fd-4e65-89e8-4c786a9358f4",
   "metadata": {},
   "outputs": [],
   "source": [
    "#Ans\n",
    "Data abstraction can be achieved in object-oriented programming languages like Python, by using classes and objects.\n",
    "\n",
    "Data abstraction is the process of hiding the implementation details of a class and exposing only the essential features to the user.\n",
    "This helps to simplify the complexity of the code, and make it easier to use and understand.\n",
    "\n",
    "To achieve data abstraction, we can use access modifiers like private, public, and protected in the class definition. These access modifiers determine \n",
    "which attributes and methods of a class are visible to the user and which ones are hidden.\n",
    "\n",
    "For example, let's say we have a class called BankAccount, which represents a bank account. It has attributes like account number, balance, and owner name. \n",
    "We want to hide the account number and balance attributes from the user and expose only the owner name attribute."
   ]
  },
  {
   "cell_type": "code",
   "execution_count": 10,
   "id": "d7a4fe6b-80f2-4f8a-8c32-08915408e7f8",
   "metadata": {},
   "outputs": [],
   "source": [
    "class BankAccount:\n",
    "    \n",
    "    def __init__(self, account_number, balance, owner_name):\n",
    "        self._account_number = account_number\n",
    "        self._balance = balance\n",
    "        self.owner_name = owner_name\n",
    "        \n",
    "    def get_owner_name(self):\n",
    "        return self.owner_name\n"
   ]
  },
  {
   "cell_type": "code",
   "execution_count": 11,
   "id": "606772d5-3ed2-4349-a41a-a83464f8a291",
   "metadata": {},
   "outputs": [],
   "source": [
    "priyanshu = BankAccount(987654321,1000,\"priyanshu\")"
   ]
  },
  {
   "cell_type": "code",
   "execution_count": 13,
   "id": "028e544b-dfdf-485c-89bb-3695a4eace93",
   "metadata": {},
   "outputs": [
    {
     "data": {
      "text/plain": [
       "'priyanshu'"
      ]
     },
     "execution_count": 13,
     "metadata": {},
     "output_type": "execute_result"
    }
   ],
   "source": [
    "priyanshu.get_owner_name()"
   ]
  },
  {
   "cell_type": "code",
   "execution_count": 15,
   "id": "5fa4b4b0-4a33-49bb-b911-ac4cd9a5ece4",
   "metadata": {},
   "outputs": [
    {
     "data": {
      "text/plain": [
       "'priyanshu'"
      ]
     },
     "execution_count": 15,
     "metadata": {},
     "output_type": "execute_result"
    }
   ],
   "source": [
    "priyanshu.owner_name"
   ]
  },
  {
   "cell_type": "markdown",
   "id": "c3aa256f-2cf3-4735-8bfe-0d5940a5cfa6",
   "metadata": {},
   "source": [
    "### Q5. Can we create an instance of an abstract class? Explain your answer."
   ]
  },
  {
   "cell_type": "code",
   "execution_count": null,
   "id": "7922e3ab-3fe1-4492-9486-f5aec9903d55",
   "metadata": {},
   "outputs": [],
   "source": [
    "#Ans\n",
    "No, we cannot create an instance of an abstract class in Python or any other object-oriented programming language.\n",
    "\n",
    "An abstract class is a class that is meant to be subclassed and cannot be instantiated on its own. It contains one or more abstract methods,\n",
    "which do not have an implementation in the abstract class and must be implemented in the subclasses that inherit from the abstract class.\n",
    "\n",
    "In Python, we can define an abstract class using the abc module and the ABCMeta metaclass. We can mark a method as abstract using the @abstractmethod decorator.\n"
   ]
  },
  {
   "cell_type": "code",
   "execution_count": 16,
   "id": "c77555c1-5b93-466c-9957-f354d9775ea3",
   "metadata": {},
   "outputs": [],
   "source": [
    "from abc import ABC, abstractmethod\n",
    "\n",
    "class MyAbstractClass(ABC):\n",
    "    @abstractmethod\n",
    "    def my_abstract_method(self):\n",
    "        pass\n"
   ]
  },
  {
   "cell_type": "code",
   "execution_count": 23,
   "id": "a69a5504-faa8-445c-b788-b11dc328963c",
   "metadata": {},
   "outputs": [],
   "source": [
    "my_object = MyAbstractClass"
   ]
  },
  {
   "cell_type": "code",
   "execution_count": 24,
   "id": "c83e2bba-fa36-4955-bdef-179cdd3f8e37",
   "metadata": {},
   "outputs": [],
   "source": [
    "class MyConcreteClass(MyAbstractClass):\n",
    "    def my_abstract_method(self):\n",
    "        print(\"Implementation of my_abstract_method in MyConcreteClass\")\n",
    "        "
   ]
  },
  {
   "cell_type": "code",
   "execution_count": 31,
   "id": "ce6c6d3b-195a-43da-8a8e-065529ab04c4",
   "metadata": {},
   "outputs": [
    {
     "name": "stdout",
     "output_type": "stream",
     "text": [
      "Implementation of my_abstract_method in MyConcreteClass\n"
     ]
    }
   ],
   "source": [
    "my_object.my_abstract_method()"
   ]
  },
  {
   "cell_type": "code",
   "execution_count": null,
   "id": "f3dd1c3c-f55c-432f-a96d-5be943b2a89c",
   "metadata": {},
   "outputs": [],
   "source": []
  },
  {
   "cell_type": "code",
   "execution_count": null,
   "id": "75b6603f-5ddb-4777-84d3-14eb91077d7f",
   "metadata": {},
   "outputs": [],
   "source": []
  },
  {
   "cell_type": "code",
   "execution_count": null,
   "id": "39163697-f088-447c-ab13-593f762cf14b",
   "metadata": {},
   "outputs": [],
   "source": []
  },
  {
   "cell_type": "code",
   "execution_count": null,
   "id": "6344e10b-022e-4deb-9412-4dc0d5471aa5",
   "metadata": {},
   "outputs": [],
   "source": []
  },
  {
   "cell_type": "code",
   "execution_count": null,
   "id": "d5887462-fb6a-41d8-a59c-c7626ad5f51d",
   "metadata": {},
   "outputs": [],
   "source": []
  }
 ],
 "metadata": {
  "kernelspec": {
   "display_name": "Python 3 (ipykernel)",
   "language": "python",
   "name": "python3"
  },
  "language_info": {
   "codemirror_mode": {
    "name": "ipython",
    "version": 3
   },
   "file_extension": ".py",
   "mimetype": "text/x-python",
   "name": "python",
   "nbconvert_exporter": "python",
   "pygments_lexer": "ipython3",
   "version": "3.9.13"
  }
 },
 "nbformat": 4,
 "nbformat_minor": 5
}
