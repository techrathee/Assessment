{
 "cells": [
  {
   "cell_type": "markdown",
   "id": "ad125d25-04af-4b02-a4e9-9ebad790f94d",
   "metadata": {},
   "source": [
    "# Statistics Basic-2"
   ]
  },
  {
   "cell_type": "markdown",
   "id": "9b87af83-3bf0-403e-8d76-ba2570012c7f",
   "metadata": {},
   "source": [
    "## 07mar 2023"
   ]
  },
  {
   "cell_type": "markdown",
   "id": "3036ca3c-b5fd-437b-bd71-a95c99596f95",
   "metadata": {},
   "source": [
    "### Q1. What are the three measures of central tendency?"
   ]
  },
  {
   "cell_type": "code",
   "execution_count": null,
   "id": "464930be-6e5c-42ff-973a-6aa953e983b8",
   "metadata": {},
   "outputs": [],
   "source": [
    "Answer.\n",
    "The three measures of central tendency are:\n",
    "    \n",
    "    1. Mean: \n",
    "        The mean, often referred to as the average, is the most commonly used measure of central tendency. It is calculated by summing up all the values in a data set and dividing \n",
    "        the sum by the total number of values. The mean is sensitive to extreme values, as it takes into account every value in the data set.\n",
    "        \n",
    "    2. Median: \n",
    "        The median is the middle value in a data set when it is arranged in ascending or descending order. If there is an even number of values, the median is calculated by taking the \n",
    "        average of the two middle values. Unlike the mean, the median is not affected by extreme values and provides a measure of the central value that is less influenced by outliers.\n",
    "        \n",
    "    3. Mode:\n",
    "        The mode represents the value or values that occur most frequently in a data set. Unlike the mean and median, the mode can be used for both numerical and categorical data.\n",
    "        A data set can have no mode (when no value is repeated), one mode (unimodal), two modes (bimodal), or more than two modes (multimodal). If all values occur with the same \n",
    "        frequency, the data set is said to be \"uniform\" or \"non-modal.\"\n",
    "        "
   ]
  },
  {
   "cell_type": "markdown",
   "id": "5a55797d-3690-47d6-9ec7-f797a9025bff",
   "metadata": {},
   "source": [
    "### Q2. What is the difference between the mean, median, and mode? How are they used to measure the central tendency of a dataset?"
   ]
  },
  {
   "cell_type": "code",
   "execution_count": null,
   "id": "24def32e-61ce-4225-9a31-ba2ff0eb1264",
   "metadata": {},
   "outputs": [],
   "source": [
    "Answer.\n",
    "The mean, median, and mode are all measures of central tendency used to describe the center or typical value of a dataset. While they serve a similar purpose, they differ in how they \n",
    "are calculated and what aspects of the data they capture.\n",
    "    \n",
    "    Mean:\n",
    "        The mean is calculated by summing up all the values in a dataset and dividing the sum by the total number of values. It takes into account every value in the dataset and \n",
    "        provides an average value. The mean is sensitive to extreme values, as it includes all values in the calculation.\n",
    "        \n",
    "    Median:\n",
    "        The median is the middle value in a dataset when it is arranged in ascending or descending order. If there is an even number of values, the median is calculated by taking the \n",
    "        average of the two middle values. The median is not influenced by extreme values and is useful when there are outliers or skewed distributions in the dataset.\n",
    "        \n",
    "    Mode:\n",
    "        The mode represents the value or values that occur most frequently in a dataset. Unlike the mean and median, which are calculated based on numerical values, the mode can be used\n",
    "        for both numerical and categorical data. The mode provides insights into the most common or frequently occurring value(s) in the dataset.\n",
    "        \n",
    "        \n",
    "The choice of which measure of central tendency to use depends on the nature of the data and the specific questions being addressed:\n",
    "    \n",
    "    * The mean is commonly used when the data is normally distributed and there are no extreme values or outliers that significantly affect the average. It provides a balanced \n",
    "    representation of the dataset.\n",
    "    \n",
    "    * The median is preferred when there are outliers or when the data is skewed, as it is less affected by extreme values and gives a better indication of the central value for such \n",
    "    datasets.\n",
    "    \n",
    "    * The mode is useful when identifying the most frequently occurring value(s) is important, especially in categorical or discrete datasets.\n"
   ]
  },
  {
   "cell_type": "markdown",
   "id": "e2925ea5-da1e-4598-992d-e6fa370296c9",
   "metadata": {},
   "source": [
    "### Q3. Measure the three measures of central tendency for the given height data:\n",
    "`[178,177,176,177,178.2,178,175,179,180,175,178.9,176.2,177,172.5,178,176.5]`"
   ]
  },
  {
   "cell_type": "code",
   "execution_count": 22,
   "id": "c790ff10-0d45-449a-961e-4f40b3172ef6",
   "metadata": {},
   "outputs": [
    {
     "name": "stdout",
     "output_type": "stream",
     "text": [
      " Given height data mean is 177.01875\n",
      " Given height data median  is 177.0\n",
      " Given height data  ModeResult(mode=array([177.]), count=array([3]))\n"
     ]
    }
   ],
   "source": [
    "#Answer\n",
    "data = [178,177,176,177,178.2,178,175,179,180,175,178.9,176.2,177,172.5,178,176.5]\n",
    "# First import numpy as np And from scipy import stats\n",
    "import numpy as np\n",
    "from scipy import stats\n",
    "# Find Mean of Giveone Data\n",
    "Mean = np.mean(data)\n",
    "\n",
    "# To find the Median\n",
    "Median = np.median(data)\n",
    "\n",
    "# To find the Mode\n",
    "Mode = stats.mode(data, keepdims= True)\n",
    "\n",
    "# To Print mean ,median and mode value\n",
    "print(f\" Given height data mean is {Mean}\")\n",
    "print(f\" Given height data median  is {Median}\")\n",
    "print(f\" Given height data  {Mode}\")\n"
   ]
  },
  {
   "cell_type": "markdown",
   "id": "dfee8449-37c7-4a97-b1ed-6280671233bb",
   "metadata": {},
   "source": [
    "### Q4. Find the standard deviation for the given data:\n",
    "`[178,177,176,177,178.2,178,175,179,180,175,178.9,176.2,177,172.5,178,176.5]`"
   ]
  },
  {
   "cell_type": "code",
   "execution_count": 26,
   "id": "9f90cdf7-4a10-46d8-b611-5954740b43e1",
   "metadata": {},
   "outputs": [
    {
     "name": "stdout",
     "output_type": "stream",
     "text": [
      " Standard Deviation of  Given data is 1.7885814036548633\n"
     ]
    }
   ],
   "source": [
    "#Answer\n",
    "data = [178,177,176,177,178.2,178,175,179,180,175,178.9,176.2,177,172.5,178,176.5]\n",
    "\n",
    "# First import numpy as np\n",
    "import numpy as np\n",
    "\n",
    "# To Find Standard Deviation of given data\n",
    "Sdt = np.std(data)\n",
    "\n",
    "# To Print Value of standard deviation\n",
    "\n",
    "print(f\" Standard Deviation of  Given data is {Sdt}\") "
   ]
  },
  {
   "cell_type": "markdown",
   "id": "7de5b639-0520-4726-9986-6ffc3a4d335e",
   "metadata": {},
   "source": [
    "### Q5. How are measures of dispersion such as range, variance, and standard deviation used to describe the spread of a dataset? Provide an example."
   ]
  },
  {
   "cell_type": "code",
   "execution_count": null,
   "id": "54ee3cd6-9ee2-46fc-8a8f-fc6ac6d4750c",
   "metadata": {},
   "outputs": [],
   "source": [
    "Answer.\n",
    "Measures of dispersion, such as range, variance, and standard deviation, are used to describe the spread or variability of a dataset. They provide information about how the data points\n",
    "are spread out or deviate from the central tendency measures.\n",
    "\n",
    "Range:\n",
    "    The range is the simplest measure of dispersion and represents the difference between the maximum and minimum values in a dataset. It gives an idea of the total spread or extent\n",
    "    of the dataset. However, it only considers the two extreme values and does not take into account the distribution of the data points in between.\n",
    "    \n",
    "    Example:\n",
    "        Suppose we have the following dataset representing the ages of a group of people: [20, 25, 30, 35, 40]. The range can be calculated as follows:\n",
    "            \n",
    "            Range = maximum value - minimum value\n",
    "            Range = 40 - 20\n",
    "            Range = 20\n",
    "            In this example, the range is 20, indicating that the ages span a range of 20 years.\n",
    "            \n",
    "Variance:\n",
    "    Variance measures the average squared deviation from the mean of the dataset. It takes into account the dispersion of each individual data point from the mean and provides a \n",
    "    measure of the spread of the dataset. A higher variance indicates a greater spread or variability in the data.\n",
    "    \n",
    "    Example:\n",
    "        Consider the following dataset representing the weights of a group of people (in kg): [60, 65, 70, 75, 80]. The variance can be calculated as follows:\n",
    "            \n",
    "            Step 1: Calculate the mean: (60 + 65 + 70 + 75 + 80) / 5 = 70\n",
    "            Step 2: Calculate the squared deviation from the mean for each data point:\n",
    "                \n",
    "                (60 - 70)^2 = 100\n",
    "                (65 - 70)^2 = 25\n",
    "                (70 - 70)^2 = 0\n",
    "                (75 - 70)^2 = 25\n",
    "                (80 - 70)^2 = 100\n",
    "                \n",
    "            Step 3: Calculate the mean of the squared deviations: (100 + 25 + 0 + 25 + 100) / 5 = 50\n",
    "            In this example, the variance is 50, indicating that the weights have a spread or deviation from the mean of approximately 50 kg^2..\n",
    "            \n",
    "Standard Deviation:\n",
    "    The standard deviation is the square root of the variance and provides a measure of the spread of the dataset in the original units of the data. It is commonly used as it is\n",
    "    easier to interpret than variance since it is in the same units as the data.\n",
    "    \n",
    "    Example:\n",
    "        Using the same dataset of weights [60, 65, 70, 75, 80], the variance is 50. To calculate the standard deviation, we take the square root of the variance:\n",
    "            \n",
    "            Standard deviation = √50 ≈ 7.071\n",
    "            In this example, the standard deviation is approximately 7.071 kg, indicating that the weights have an average deviation of about 7.071 kg from the mean.\n",
    "            "
   ]
  },
  {
   "cell_type": "markdown",
   "id": "b38d0814-7210-4279-8d41-68fe9dff519c",
   "metadata": {},
   "source": [
    "### Q6. What is a Venn diagram?"
   ]
  },
  {
   "cell_type": "code",
   "execution_count": null,
   "id": "5f684868-a700-49ae-9f61-51c65aae6632",
   "metadata": {},
   "outputs": [],
   "source": [
    "Answer.\n",
    "A Venn diagram is a graphical representation used to illustrate the relationships and similarities between different sets or groups of items. It was introduced by the mathematician\n",
    "John Venn in the late 19th century and has since become a widely used tool in various fields, including mathematics, logic, statistics, and computer science.\n",
    "\n",
    "A Venn diagram consists of overlapping circles or other shapes that represent different sets or categories. The overlapping regions show the elements or attributes that are shared\n",
    "between the sets, while the non-overlapping regions represent the unique elements or attributes of each set.\n",
    "\n",
    "The primary purpose of a Venn diagram is to visually demonstrate the relationships between sets, including the intersections and differences. It allows for a clear and intuitive\n",
    "representation of set operations, such as union, intersection, and complement.\n",
    "\n",
    "Commonly, Venn diagrams use two or three circles to represent two or three sets, respectively. However, Venn diagrams can be expanded to include more sets, although the complexity \n",
    "and readability may decrease as the number of sets increases.\n",
    "\n",
    "Venn diagrams are used in a variety of contexts, including:\n",
    "    \n",
    "    1. Mathematics:\n",
    "        Venn diagrams are used to depict set theory concepts, logic, and Boolean algebra. They aid in understanding set operations, such as union, intersection, and complement.\n",
    "    \n",
    "    2. Statistics:\n",
    "        Venn diagrams can illustrate relationships between different groups or categories in data analysis, such as overlapping survey responses or the distribution of variables.\n",
    "        \n",
    "    3. Logic and Philosophy:\n",
    "        Venn diagrams are employed to visually represent logical relationships, evaluate syllogisms, and analyze propositions.\n",
    "        \n",
    "    4. Problem-solving:\n",
    "        Venn diagrams are helpful for organizing and solving problems involving categorization, classification, and sorting.\n"
   ]
  },
  {
   "cell_type": "markdown",
   "id": "ef137d69-7be5-471a-91e8-4916e542256e",
   "metadata": {},
   "source": [
    "### Q7. For the two given sets A = (2,3,4,5,6,7) & B = (0,2,6,8,10). Find:\n",
    "`(i) A B`\n",
    "`(ii) A ⋃ B`"
   ]
  },
  {
   "cell_type": "code",
   "execution_count": null,
   "id": "5ccb8a62-1f9f-4277-abcc-5dc85befe1a8",
   "metadata": {},
   "outputs": [],
   "source": [
    "Answer.\n",
    "\n",
    "To find the union and intersection of the given sets A and B, we can perform the following operations:\n",
    "\n",
    "Given:\n",
    "Set A = {2, 3, 4, 5, 6, 7}\n",
    "Set B = {0, 2, 6, 8, 10}\n",
    "\n",
    "(i) A ∩ B (Intersection):\n",
    "The intersection of two sets A and B contains the elements that are common to both sets.\n",
    "\n",
    "In this case, the elements that are common to both sets A and B are 2 and 6.\n",
    "\n",
    "A ∩ B = {2, 6}\n",
    "\n",
    "(ii) A ∪ B (Union):\n",
    "The union of two sets A and B includes all the elements from both sets, without duplication.\n",
    "\n",
    "Combining the elements from sets A and B, we get:\n",
    "A ∪ B = {0, 2, 3, 4, 5, 6, 7, 8, 10}\n",
    "\n",
    "Therefore:\n",
    "(i) A ∩ B = {2, 6}\n",
    "(ii) A ∪ B = {0, 2, 3, 4, 5, 6, 7, 8, 10}\n"
   ]
  },
  {
   "cell_type": "markdown",
   "id": "5310c0eb-5a57-4a60-989b-0e0a584df6bd",
   "metadata": {},
   "source": [
    "### Q8. What do you understand about skewness in data?"
   ]
  },
  {
   "cell_type": "code",
   "execution_count": null,
   "id": "1b23145d-a7bf-47c1-a3d3-4a8105f0036b",
   "metadata": {},
   "outputs": [],
   "source": [
    "Answer.\n",
    "Skewness is a measure of the asymmetry or lack of symmetry in a dataset's distribution. It helps to identify the direction and degree of departure from a symmetrical distribution, \n",
    "such as a normal distribution.\n",
    "\n",
    "In a symmetrical distribution, the data is evenly distributed around the mean, and the left and right tails are approximately equal in length. However, in skewed distributions, \n",
    "the data tends to be concentrated more on one side, causing the distribution to be asymmetrical.\n",
    "\n",
    "Skewness can be classified into three types:\n",
    "    \n",
    "    1. Positive Skewness (Right Skew):\n",
    "        In a positively skewed distribution, the tail on the right side of the distribution is longer or fatter, indicating the presence of outliers or extremely high values. \n",
    "        The mean of the dataset is typically greater than the median, and the distribution appears to be stretched towards the right.\n",
    "        \n",
    "    2. Negative Skewness (Left Skew):\n",
    "        In a negatively skewed distribution, the tail on the left side of the distribution is longer or fatter, indicating the presence of outliers or extremely low values. \n",
    "        The mean of the dataset is typically less than the median, and the distribution appears to be stretched towards the left.\n",
    "        \n",
    "    3. Zero Skewness:\n",
    "        In a perfectly symmetrical distribution, the skewness is zero. The data is evenly distributed around the mean, and the left and right tails are of equal length.\n",
    "        "
   ]
  },
  {
   "cell_type": "markdown",
   "id": "74a7c91e-d8bf-4639-9cb7-f00cd93b7cfa",
   "metadata": {},
   "source": [
    "### Q9. If a data is right skewed then what will be the position of median with respect to mean?"
   ]
  },
  {
   "cell_type": "code",
   "execution_count": null,
   "id": "53394065-5d35-4911-9308-964f81ee409b",
   "metadata": {},
   "outputs": [],
   "source": [
    "Answer.\n",
    "If a dataset is right-skewed, meaning it has a longer or fatter tail on the right side, the position of the median with respect to the mean will generally be to the left of the mean.\n",
    "\n",
    "In a right-skewed distribution, the outliers or extremely high values on the right side of the distribution pull the mean in that direction. As a result, the mean is generally greater\n",
    "than the median.\n",
    "\n",
    "To visualize this, imagine a right-skewed distribution where the data is concentrated towards the lower values but has a few extremely high values that stretch the right tail.\n",
    "The median, which represents the middle value when the data is arranged in ascending order, will be closer to the lower values since it is less affected by the outliers. However,\n",
    "the mean takes into account the influence of all the data points, including the high values, and is therefore dragged towards the right by the outliers.\n",
    "\n",
    "Thus, in a right-skewed distribution:\n",
    "    \n",
    "    * The mean will be greater than the median.\n",
    "    * The median will be positioned to the left of the mean.\n",
    "    "
   ]
  },
  {
   "cell_type": "markdown",
   "id": "002b3171-aa3e-4a8a-9160-a2bb68060c9e",
   "metadata": {},
   "source": [
    "### Q10. Explain the difference between covariance and correlation. How are these measures used in statistical analysis?"
   ]
  },
  {
   "cell_type": "code",
   "execution_count": null,
   "id": "cbc009e3-715b-4eb1-acd4-b5d06244751c",
   "metadata": {},
   "outputs": [],
   "source": [
    "Answer.\n",
    "Covariance and correlation are both measures that describe the relationship between two variables, but they differ in how they quantify and interpret the strength and direction of \n",
    "the relationship.\n",
    "\n",
    "Covariance:\n",
    "    Covariance measures the extent to which two variables vary together. It calculates the average of the products of the deviations of the corresponding values of the two variables\n",
    "    from their respective means. A positive covariance indicates a positive relationship, meaning that when one variable increases, the other tends to increase as well. Conversely,\n",
    "    a negative covariance indicates a negative relationship, where one variable tends to decrease as the other increases.\n",
    "\n",
    "Covariance is defined as:\n",
    "    \n",
    "    cov(X, Y) = Σ((X - μX) * (Y - μY)) / (n - 1)\n",
    "\n",
    "Correlation:\n",
    "    Correlation, on the other hand, standardizes the covariance by dividing it by the product of the standard deviations of the two variables. This normalization process results in a \n",
    "    correlation coefficient that ranges between -1 and 1. The correlation coefficient provides a measure of both the strength and direction of the linear relationship between the \n",
    "    variables. A correlation coefficient of 1 represents a perfect positive linear relationship, -1 represents a perfect negative linear relationship, and 0 represents no linear \n",
    "    relationship.\n",
    "\n",
    "Correlation is defined as:\n",
    "    \n",
    "    corr(X, Y) = cov(X, Y) / (σX * σY)\n",
    "\n",
    "The key differences between covariance and correlation are:\n",
    "    \n",
    "    Scale Independence:\n",
    "        Covariance is not scale-independent and can take on any value depending on the units of the variables. On the other hand, correlation is scale-independent and is always bounded \n",
    "        between -1 and 1, providing a standardized measure of the relationship.\n",
    "        \n",
    "    Interpretability:\n",
    "        Covariance does not have a readily interpretable scale, making it difficult to compare across different datasets. Correlation, with its standardized scale, provides a more\n",
    "        interpretable measure of the strength and direction of the relationship between variables.\n",
    "        \n",
    "In statistical analysis, covariance and correlation are used for similar purposes:\n",
    "    \n",
    "    Relationship Assessment:\n",
    "        Both covariance and correlation help assess the relationship between two variables. They provide information about the direction (positive or negative) and strength \n",
    "        (weak or strong) of the relationship. Correlation, with its standardized scale, is particularly useful for comparing and ranking relationships across different datasets.\n",
    "        \n",
    "    Variable Selection:\n",
    "        Covariance and correlation are utilized in variable selection techniques to identify variables that are highly correlated with the target variable. Highly correlated variables \n",
    "        may be redundant or provide similar information, which can impact the accuracy and interpretability of statistical models.\n",
    "        \n",
    "    Multivariate Analysis:\n",
    "        Both covariance and correlation extend to multivariate analysis, where they are used to study the relationships between multiple variables simultaneously. Covariance matrices\n",
    "        and correlation matrices provide a comprehensive view of the interrelationships among variables.\n",
    "        "
   ]
  },
  {
   "cell_type": "markdown",
   "id": "040a8a0d-b117-4d57-a77d-ebe8e38871a3",
   "metadata": {},
   "source": [
    "### Q11. What is the formula for calculating the sample mean? Provide an example calculation for a dataset."
   ]
  },
  {
   "cell_type": "code",
   "execution_count": null,
   "id": "29e2ed1a-8457-4392-b143-041a4aa1f3c9",
   "metadata": {},
   "outputs": [],
   "source": [
    "Answer.\n",
    "The formula for calculating the sample mean (also known as the arithmetic mean) is as follows:\n",
    "    \n",
    "    Sample Mean = (Sum of all data points) / (Number of data points)\n",
    "    \n",
    "    To calculate the sample mean, you add up all the values in the dataset and then divide the sum by the total number of data points.\n",
    "    \n",
    "    Example calculation:\n",
    "        \n",
    "        Let's consider a dataset of test scores: [85, 90, 92, 88, 95]\n",
    "        \n",
    "    To calculate the sample mean:\n",
    "        \n",
    "        Step 1:\n",
    "            Add up all the values:\n",
    "                85 + 90 + 92 + 88 + 95 = 450\n",
    "                \n",
    "        Step 2:\n",
    "            Count the number of data points:\n",
    "                There are 5 data points in the dataset.\n",
    "                \n",
    "        Step 3:\n",
    "            Divide the sum by the number of data points:\n",
    "                Sample Mean = 450 / 5 = 90\n",
    "                \n",
    "Therefore, the sample mean of the given dataset is 90. This indicates that, on average, the test scores in the dataset are 90.\n"
   ]
  },
  {
   "cell_type": "markdown",
   "id": "b56d258d-4a42-4e82-8577-5e1b09a48f3a",
   "metadata": {},
   "source": [
    "### Q12. For a normal distribution data what is the relationship between its measure of central tendency?"
   ]
  },
  {
   "cell_type": "code",
   "execution_count": null,
   "id": "94a8c215-c753-4c70-ba63-7b114023d921",
   "metadata": {},
   "outputs": [],
   "source": [
    "Answer.\n",
    "\n",
    "For a normal distribution, the measures of central tendency, namely the mean, median, and mode, are all equal to each other.\n",
    "\n",
    "This equality of measures of central tendency in a normal distribution is one of the defining characteristics of this particular type of distribution. It means that the distribution \n",
    "is symmetric, with the mean, median, and mode all located at the center of the distribution.\n",
    "\n",
    "In a normal distribution:\n",
    "    \n",
    "    * The mean represents the average value and is located at the center of the distribution.\n",
    "    * The median is also located at the center of the distribution and represents the middle value when the data is arranged in ascending order.\n",
    "    * The mode is the value or values that occur most frequently in the distribution and, in a normal distribution, it coincides with the mean and median.\n",
    "    "
   ]
  },
  {
   "cell_type": "markdown",
   "id": "f7f0b9d7-2799-4ddf-939b-65deb5b05767",
   "metadata": {},
   "source": [
    "### Q13. How is covariance different from correlation?"
   ]
  },
  {
   "cell_type": "code",
   "execution_count": null,
   "id": "05053b5b-04c7-472c-adce-34daeeb1ffc8",
   "metadata": {},
   "outputs": [],
   "source": [
    "Answer.\n",
    "Covariance and correlation are both measures that describe the relationship between two variables, but they differ in several ways:\n",
    "    \n",
    "    1. Scale Dependence:\n",
    "        Covariance is scale-dependent, meaning its value is influenced by the units of measurement of the variables. Consequently, it can take on any value, positive or negative, \n",
    "        depending on the scale of the variables. On the other hand, correlation is scale-independent and always falls between -1 and 1, providing a standardized measure of the \n",
    "        relationship.\n",
    "        \n",
    "    2. Interpretability:\n",
    "        Covariance does not have a readily interpretable scale, making it difficult to compare across different datasets or variables. Correlation, however, with its standardized scale,\n",
    "        provides a more interpretable measure of the strength and direction of the relationship between variables. A correlation coefficient of 1 represents a perfect positive linear\n",
    "        relationship, -1 represents a perfect negative linear relationship, and 0 represents no linear relationship.\n",
    "        \n",
    "    3. Magnitude of the Relationship:\n",
    "        Covariance measures the strength of the linear relationship between two variables but does not provide a clear indication of the magnitude or strength of the relationship.\n",
    "        On the other hand, correlation provides a standardized measure that quantifies both the direction and strength of the linear relationship between variables. The correlation\n",
    "        coefficient provides insights into the proportion of variability in one variable that can be explained by the other variable.\n",
    "        \n",
    "    4. Unit of Measurement:\n",
    "        Covariance is expressed in the units obtained by multiplying the units of the two variables (e.g., square units). In contrast, correlation is a unitless measure since it is a\n",
    "        standardized ratio of covariances.\n",
    "        \n",
    "    5. Sensitivity to Outliers:\n",
    "        Covariance is sensitive to outliers and can be significantly influenced by extreme values in the dataset. Correlation, being a standardized measure, is less affected by outliers\n",
    "        as it focuses on the linear relationship rather than the actual values.\n",
    "        "
   ]
  },
  {
   "cell_type": "markdown",
   "id": "ad72d7f3-7c42-48cb-b8ee-0c0143cf26ce",
   "metadata": {},
   "source": [
    "### Q14. How do outliers affect measures of central tendency and dispersion? Provide an example."
   ]
  },
  {
   "cell_type": "code",
   "execution_count": null,
   "id": "b66e192e-79d1-4bc6-90c8-be8cc3c95022",
   "metadata": {},
   "outputs": [],
   "source": [
    "Answer.\n",
    "Outliers can have a significant impact on measures of central tendency and dispersion. They can distort the typical pattern or distribution of the data, leading to misleading or\n",
    "inaccurate results. Here's how outliers affect these measures:':\n",
    "    \n",
    "    Measures of Central Tendency:\n",
    "        Outliers can heavily influence measures of central tendency, such as the mean and median:\n",
    "            \n",
    "            1. Mean:\n",
    "                The mean is sensitive to outliers because it takes into account all the values in the dataset. Even a single extreme outlier can substantially pull the mean in its\n",
    "                direction, affecting the overall average. For example, consider the dataset: [10, 15, 20, 25, 500]. The outlier value of 500 significantly influences the mean, which \n",
    "                becomes 114. If we remove the outlier, the mean becomes 17, which is more representative of the rest of the data.\n",
    "                \n",
    "            2. Median:\n",
    "                The median is generally less affected by outliers because it only considers the middle value(s) in the dataset. However, if an outlier is present and substantially \n",
    "                deviates from the rest of the data, the median may still be affected to some extent.\n",
    "                \n",
    "    Measures of Dispersion:\n",
    "        Outliers also impact measures of dispersion, which quantify the spread or variability of the data:\n",
    "            \n",
    "            1. Range:\n",
    "                The range, which is the difference between the maximum and minimum values in the dataset, is heavily influenced by outliers. Outliers can significantly increase the\n",
    "                range, giving a false impression of a wider spread of data.\n",
    "                \n",
    "            2. Variance and Standard Deviation:\n",
    "                Outliers can have a substantial impact on the variance and standard deviation. Since both these measures consider the deviation of each data point from the mean,\n",
    "                outliers with extreme values can inflate the deviations and lead to larger variance and standard deviation values. This effect is due to the squared differences in \n",
    "                the calculation of variance and standard deviation.\n",
    "                \n",
    "                Example:\n",
    "                    Consider the dataset: [10, 15, 20, 25, 500]. The outlier value of 500 significantly affects measures of central tendency and dispersion:\n",
    "                        \n",
    "                        * Mean: \n",
    "                            With the outlier included, the mean is heavily influenced and becomes 114. However, if we remove the outlier, the mean becomes 17, which is a more \n",
    "                            representative measure of central tendency for the rest of the data.\n",
    "                            \n",
    "                        * Median: The median remains unaffected by the outlier since it only considers the middle value, which is 20 in this case.\n",
    "\n",
    "Range: The range is highly influenced by the outlier. With the outlier included, the range is 490 (500 - 10). If we remove the outlier, the range becomes 15 (25 - 10), which is a more accurate reflection of the spread of the non-outlier data.\n",
    "\n",
    "Variance and Standard Deviation: The presence of the outlier significantly increases the variance and standard deviation. If we remove the outlier, both measures decrease substantially, reflecting the lower variability within the non-outlier data."
   ]
  },
  {
   "cell_type": "code",
   "execution_count": null,
   "id": "7c4f448f-2db9-498e-895f-7ab12e0086df",
   "metadata": {},
   "outputs": [],
   "source": []
  }
 ],
 "metadata": {
  "kernelspec": {
   "display_name": "Python 3 (ipykernel)",
   "language": "python",
   "name": "python3"
  },
  "language_info": {
   "codemirror_mode": {
    "name": "ipython",
    "version": 3
   },
   "file_extension": ".py",
   "mimetype": "text/x-python",
   "name": "python",
   "nbconvert_exporter": "python",
   "pygments_lexer": "ipython3",
   "version": "3.10.8"
  }
 },
 "nbformat": 4,
 "nbformat_minor": 5
}
